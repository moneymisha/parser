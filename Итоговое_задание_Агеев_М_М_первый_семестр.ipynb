{
  "cells": [
    {
      "cell_type": "markdown",
      "metadata": {
        "id": "L2Epn7UHiXfS"
      },
      "source": [
        "# **Разведочный анализ по датасету IMDb Movies: 5000 фильмов с наибольшим рейтингом. Часть 1: Обзор и предобработка данных**"
      ]
    },
    {
      "cell_type": "markdown",
      "metadata": {
        "id": "uF5OyCiAZ7Bn"
      },
      "source": [
        "![](https://adabul.com/wp-content/uploads/2020/04/diziler-360x240.jpg)"
      ]
    },
    {
      "cell_type": "markdown",
      "metadata": {
        "id": "jgCIJe8tjIvI"
      },
      "source": [
        "## 1. Описание датасета и задания"
      ]
    },
    {
      "cell_type": "markdown",
      "metadata": {
        "id": "ODZr1pzSjUEZ"
      },
      "source": [
        "Представлен датасет с данными о 5000 фильмах, имеющих наибольший рейтинг на сайте IMDb (датасет выложен на платформе [Kaggle](https://www.kaggle.com/datasets/totoro29/imdb-movies))."
      ]
    },
    {
      "cell_type": "markdown",
      "metadata": {
        "id": "wU83gIaOVmSq"
      },
      "source": [
        "***Информация, содержащаяся в датасете:***\n",
        "1.   Ссылка на постер фильма (poster).\n",
        "2.   Наименование фильма (title).\n",
        "3.   Класс фильма по рейтингу the British Board of Film Classification (BBFC) (certificate).\n",
        "4.   Продолжительность фильма (runtime).\n",
        "5.   Жанр фильма (genre).\n",
        "6.   Рейтинг фильма на платформе IMBD (rating).\n",
        "7.   Описание сюжета фильма (about).\n",
        "8.   Кинорежиссер фильма (director).\n",
        "9.   Актеры-звезды фильма (stars).\n",
        "10.  Количество проголосовавших за фильм (votes).\n",
        "11.  Доход с фильма (gross_earn).\n",
        "\n"
      ]
    },
    {
      "cell_type": "markdown",
      "metadata": {
        "id": "peR0dY_JVeCJ"
      },
      "source": [
        "***Задача:***\n",
        "провести разведочный анализ данных, найти взаимосвязи и сформулировать выводы."
      ]
    },
    {
      "cell_type": "markdown",
      "metadata": {
        "id": "Ef42FcCzkpb9"
      },
      "source": [
        "**В части 1 задания необходимо:**\n",
        "1.   Выполнить обзор данных.\n",
        "2.   Оценить датасет на наличие дубликатов и при необходимости обработать их.\n",
        "3.   Оценить признаки на наличие пропусков и при необходимости обработать их.\n",
        "4.   Привести данные к необходимому для анализа типу.\n",
        "5.   Отсортировать и сохранить датасет для дальнейшего анализа.\n",
        "\n",
        "\n",
        "\n",
        "\n",
        "\n"
      ]
    },
    {
      "cell_type": "markdown",
      "metadata": {
        "id": "Tjg16j1yj7h3"
      },
      "source": [
        "## 2. Загрузка датасета"
      ]
    },
    {
      "cell_type": "code",
      "execution_count": 1,
      "metadata": {
        "id": "DAjG5ez-ZZ1y"
      },
      "outputs": [
        {
          "name": "stdout",
          "output_type": "stream",
          "text": [
            "Requirement already satisfied: gdown in /opt/anaconda3/lib/python3.12/site-packages (5.2.0)\n",
            "Requirement already satisfied: beautifulsoup4 in /opt/anaconda3/lib/python3.12/site-packages (from gdown) (4.12.3)\n",
            "Requirement already satisfied: filelock in /opt/anaconda3/lib/python3.12/site-packages (from gdown) (3.13.1)\n",
            "Requirement already satisfied: requests[socks] in /opt/anaconda3/lib/python3.12/site-packages (from gdown) (2.32.2)\n",
            "Requirement already satisfied: tqdm in /opt/anaconda3/lib/python3.12/site-packages (from gdown) (4.66.4)\n",
            "Requirement already satisfied: soupsieve>1.2 in /opt/anaconda3/lib/python3.12/site-packages (from beautifulsoup4->gdown) (2.5)\n",
            "Requirement already satisfied: charset-normalizer<4,>=2 in /opt/anaconda3/lib/python3.12/site-packages (from requests[socks]->gdown) (2.0.4)\n",
            "Requirement already satisfied: idna<4,>=2.5 in /opt/anaconda3/lib/python3.12/site-packages (from requests[socks]->gdown) (3.7)\n",
            "Requirement already satisfied: urllib3<3,>=1.21.1 in /opt/anaconda3/lib/python3.12/site-packages (from requests[socks]->gdown) (2.2.2)\n",
            "Requirement already satisfied: certifi>=2017.4.17 in /opt/anaconda3/lib/python3.12/site-packages (from requests[socks]->gdown) (2024.6.2)\n",
            "Requirement already satisfied: PySocks!=1.5.7,>=1.5.6 in /opt/anaconda3/lib/python3.12/site-packages (from requests[socks]->gdown) (1.7.1)\n"
          ]
        }
      ],
      "source": [
        "# при ошибке загрузки в текущей версии gdown необходимо его обновить\n",
        "!pip install --upgrade gdown"
      ]
    },
    {
      "cell_type": "code",
      "execution_count": 2,
      "metadata": {
        "id": "hXVPxaqzkA1T"
      },
      "outputs": [
        {
          "name": "stdout",
          "output_type": "stream",
          "text": [
            "/opt/anaconda3/lib/python3.12/site-packages/gdown/__main__.py:140: FutureWarning: Option `--id` was deprecated in version 4.3.1 and will be removed in 5.0. You don't need to pass it anymore to use a file ID.\n",
            "  warnings.warn(\n",
            "Downloading...\n",
            "From: https://drive.google.com/uc?id=1SQihqE13h5sEVzLSaBn9f2l_FdMtxNQb\n",
            "To: /Users/mikhail/Desktop/Итоговое задание/movies.csv\n",
            "100%|███████████████████████████████████████| 1.89M/1.89M [00:03<00:00, 510kB/s]\n"
          ]
        }
      ],
      "source": [
        "!gdown --id 1SQihqE13h5sEVzLSaBn9f2l_FdMtxNQb"
      ]
    },
    {
      "cell_type": "markdown",
      "metadata": {
        "id": "Ui2UmktdkfBX"
      },
      "source": [
        "## 3. Подгрузка данных в питон и начало работы с ними"
      ]
    },
    {
      "cell_type": "markdown",
      "metadata": {
        "id": "GOhi3LqkhwaO"
      },
      "source": [
        "Импортируйте библиотеку pandas и присвойте ей короткое название pd"
      ]
    },
    {
      "cell_type": "code",
      "execution_count": 10,
      "metadata": {
        "id": "HDirS7pLCdac"
      },
      "outputs": [],
      "source": [
        "import pandas as pd\n",
        "import numpy as np #допом на всякий случай подгрузил"
      ]
    },
    {
      "cell_type": "markdown",
      "metadata": {
        "id": "XNGRVqpyh28Y"
      },
      "source": [
        "Откройте датасет movies.csv и сохраните его в переменную dataset"
      ]
    },
    {
      "cell_type": "code",
      "execution_count": 17,
      "metadata": {
        "id": "PXy_b8D-DYxq"
      },
      "outputs": [],
      "source": [
        "dataset = pd.read_csv(\"movies.csv\")"
      ]
    },
    {
      "cell_type": "markdown",
      "metadata": {
        "id": "v5G-GfyWiZUg"
      },
      "source": [
        "Проведите обзор таблицы с помощью метода head()"
      ]
    },
    {
      "cell_type": "code",
      "execution_count": 18,
      "metadata": {
        "id": "777NV7RZkwos"
      },
      "outputs": [
        {
          "data": {
            "text/html": [
              "<div>\n",
              "<style scoped>\n",
              "    .dataframe tbody tr th:only-of-type {\n",
              "        vertical-align: middle;\n",
              "    }\n",
              "\n",
              "    .dataframe tbody tr th {\n",
              "        vertical-align: top;\n",
              "    }\n",
              "\n",
              "    .dataframe thead th {\n",
              "        text-align: right;\n",
              "    }\n",
              "</style>\n",
              "<table border=\"1\" class=\"dataframe\">\n",
              "  <thead>\n",
              "    <tr style=\"text-align: right;\">\n",
              "      <th></th>\n",
              "      <th>poster</th>\n",
              "      <th>title</th>\n",
              "      <th>certificate</th>\n",
              "      <th>runtime</th>\n",
              "      <th>genre</th>\n",
              "      <th>rating</th>\n",
              "      <th>about</th>\n",
              "      <th>director</th>\n",
              "      <th>stars</th>\n",
              "      <th>votes</th>\n",
              "      <th>gross_earn</th>\n",
              "    </tr>\n",
              "  </thead>\n",
              "  <tbody>\n",
              "    <tr>\n",
              "      <th>0</th>\n",
              "      <td>https://m.media-amazon.com/images/S/sash/4Fyxw...</td>\n",
              "      <td>The Shawshank Redemption</td>\n",
              "      <td>15</td>\n",
              "      <td>142 min</td>\n",
              "      <td>Drama</td>\n",
              "      <td>9.3</td>\n",
              "      <td>Two imprisoned men bond over a number of years...</td>\n",
              "      <td>Frank Darabont</td>\n",
              "      <td>('Tim Robbins',), ('Morgan Freeman',), ('Bob G...</td>\n",
              "      <td>26,26,905</td>\n",
              "      <td>$28.34M</td>\n",
              "    </tr>\n",
              "    <tr>\n",
              "      <th>1</th>\n",
              "      <td>https://m.media-amazon.com/images/S/sash/4Fyxw...</td>\n",
              "      <td>The Dark Knight</td>\n",
              "      <td>12A</td>\n",
              "      <td>152 min</td>\n",
              "      <td>Action, Crime, Drama</td>\n",
              "      <td>9.0</td>\n",
              "      <td>When the menace known as the Joker wreaks havo...</td>\n",
              "      <td>Christopher Nolan</td>\n",
              "      <td>('Christian Bale',), ('Heath Ledger',), ('Aaro...</td>\n",
              "      <td>25,98,173</td>\n",
              "      <td>$534.86M</td>\n",
              "    </tr>\n",
              "    <tr>\n",
              "      <th>2</th>\n",
              "      <td>https://m.media-amazon.com/images/S/sash/4Fyxw...</td>\n",
              "      <td>Inception</td>\n",
              "      <td>12A</td>\n",
              "      <td>148 min</td>\n",
              "      <td>Action, Adventure, Sci-Fi</td>\n",
              "      <td>8.8</td>\n",
              "      <td>A thief who steals corporate secrets through t...</td>\n",
              "      <td>Christopher Nolan</td>\n",
              "      <td>('Leonardo DiCaprio',), ('Joseph Gordon-Levitt...</td>\n",
              "      <td>23,04,062</td>\n",
              "      <td>$292.58M</td>\n",
              "    </tr>\n",
              "    <tr>\n",
              "      <th>3</th>\n",
              "      <td>https://m.media-amazon.com/images/S/sash/4Fyxw...</td>\n",
              "      <td>Fight Club</td>\n",
              "      <td>18</td>\n",
              "      <td>139 min</td>\n",
              "      <td>Drama</td>\n",
              "      <td>8.8</td>\n",
              "      <td>An insomniac office worker and a devil-may-car...</td>\n",
              "      <td>David Fincher</td>\n",
              "      <td>('Brad Pitt',), ('Edward Norton',), ('Meat Loa...</td>\n",
              "      <td>20,71,088</td>\n",
              "      <td>$37.03M</td>\n",
              "    </tr>\n",
              "    <tr>\n",
              "      <th>4</th>\n",
              "      <td>https://m.media-amazon.com/images/S/sash/4Fyxw...</td>\n",
              "      <td>Pulp Fiction</td>\n",
              "      <td>18</td>\n",
              "      <td>154 min</td>\n",
              "      <td>Crime, Drama</td>\n",
              "      <td>8.9</td>\n",
              "      <td>The lives of two mob hitmen, a boxer, a gangst...</td>\n",
              "      <td>Quentin Tarantino</td>\n",
              "      <td>('John Travolta',), ('Uma Thurman',), ('Samuel...</td>\n",
              "      <td>20,11,013</td>\n",
              "      <td>$107.93M</td>\n",
              "    </tr>\n",
              "  </tbody>\n",
              "</table>\n",
              "</div>"
            ],
            "text/plain": [
              "                                              poster  \\\n",
              "0  https://m.media-amazon.com/images/S/sash/4Fyxw...   \n",
              "1  https://m.media-amazon.com/images/S/sash/4Fyxw...   \n",
              "2  https://m.media-amazon.com/images/S/sash/4Fyxw...   \n",
              "3  https://m.media-amazon.com/images/S/sash/4Fyxw...   \n",
              "4  https://m.media-amazon.com/images/S/sash/4Fyxw...   \n",
              "\n",
              "                      title certificate  runtime                      genre  \\\n",
              "0  The Shawshank Redemption          15  142 min                      Drama   \n",
              "1           The Dark Knight         12A  152 min       Action, Crime, Drama   \n",
              "2                 Inception         12A  148 min  Action, Adventure, Sci-Fi   \n",
              "3                Fight Club          18  139 min                      Drama   \n",
              "4              Pulp Fiction          18  154 min               Crime, Drama   \n",
              "\n",
              "   rating                                              about  \\\n",
              "0     9.3  Two imprisoned men bond over a number of years...   \n",
              "1     9.0  When the menace known as the Joker wreaks havo...   \n",
              "2     8.8  A thief who steals corporate secrets through t...   \n",
              "3     8.8  An insomniac office worker and a devil-may-car...   \n",
              "4     8.9  The lives of two mob hitmen, a boxer, a gangst...   \n",
              "\n",
              "            director                                              stars  \\\n",
              "0     Frank Darabont  ('Tim Robbins',), ('Morgan Freeman',), ('Bob G...   \n",
              "1  Christopher Nolan  ('Christian Bale',), ('Heath Ledger',), ('Aaro...   \n",
              "2  Christopher Nolan  ('Leonardo DiCaprio',), ('Joseph Gordon-Levitt...   \n",
              "3      David Fincher  ('Brad Pitt',), ('Edward Norton',), ('Meat Loa...   \n",
              "4  Quentin Tarantino  ('John Travolta',), ('Uma Thurman',), ('Samuel...   \n",
              "\n",
              "       votes gross_earn  \n",
              "0  26,26,905    $28.34M  \n",
              "1  25,98,173   $534.86M  \n",
              "2  23,04,062   $292.58M  \n",
              "3  20,71,088    $37.03M  \n",
              "4  20,11,013   $107.93M  "
            ]
          },
          "execution_count": 18,
          "metadata": {},
          "output_type": "execute_result"
        }
      ],
      "source": [
        "dataset.head()"
      ]
    },
    {
      "cell_type": "markdown",
      "metadata": {
        "id": "3uHWsjiUlAVn"
      },
      "source": [
        "## 4. Оценка размеров датасета, наличия дубликатов и пропусков"
      ]
    },
    {
      "cell_type": "markdown",
      "metadata": {
        "id": "pKCuhhm4feDW"
      },
      "source": [
        "Оцените размеры датасета с помощью атрибута shape"
      ]
    },
    {
      "cell_type": "code",
      "execution_count": 19,
      "metadata": {
        "id": "Mbniz7lAHMdW"
      },
      "outputs": [],
      "source": [
        "dataset_array = np.array(dataset)"
      ]
    },
    {
      "cell_type": "markdown",
      "metadata": {
        "id": "-JVqJfqofmEp"
      },
      "source": [
        "Выведите информацию о датасете с помощью метода info(). Оцените признаки и типы данных, обратите внимание на пропущенные значения"
      ]
    },
    {
      "cell_type": "code",
      "execution_count": 20,
      "metadata": {
        "id": "Rb9-5dw7lL-_"
      },
      "outputs": [
        {
          "name": "stdout",
          "output_type": "stream",
          "text": [
            "<class 'pandas.core.frame.DataFrame'>\n",
            "RangeIndex: 5000 entries, 0 to 4999\n",
            "Data columns (total 11 columns):\n",
            " #   Column       Non-Null Count  Dtype  \n",
            "---  ------       --------------  -----  \n",
            " 0   poster       5000 non-null   object \n",
            " 1   title        5000 non-null   object \n",
            " 2   certificate  5000 non-null   object \n",
            " 3   runtime      5000 non-null   object \n",
            " 4   genre        4970 non-null   object \n",
            " 5   rating       5000 non-null   float64\n",
            " 6   about        4986 non-null   object \n",
            " 7   director     5000 non-null   object \n",
            " 8   stars        5000 non-null   object \n",
            " 9   votes        5000 non-null   object \n",
            " 10  gross_earn   4585 non-null   object \n",
            "dtypes: float64(1), object(10)\n",
            "memory usage: 429.8+ KB\n"
          ]
        }
      ],
      "source": [
        "dataset.info()"
      ]
    },
    {
      "cell_type": "markdown",
      "metadata": {
        "id": "AqF3KuIugDUA"
      },
      "source": [
        "Оцените наличие дубликатов в датасете с помощью метода duplicated() в связке с sum() (при необходимости исключите полные дубликаты)"
      ]
    },
    {
      "cell_type": "code",
      "execution_count": 23,
      "metadata": {
        "id": "Q_MAd-7IHVev"
      },
      "outputs": [
        {
          "data": {
            "text/plain": [
              "0"
            ]
          },
          "execution_count": 23,
          "metadata": {},
          "output_type": "execute_result"
        }
      ],
      "source": [
        "dataset_dubl = dataset.duplicated().sum()\n",
        "dataset_dubl"
      ]
    },
    {
      "cell_type": "markdown",
      "metadata": {},
      "source": [
        "### коммент: в датасете нет дубликатов :)"
      ]
    },
    {
      "cell_type": "markdown",
      "metadata": {
        "id": "93d03vUNlDZr"
      },
      "source": [
        "P.s. бывают ситуации, когда нет необходимости удалять дубликаты, т.к. их наличие может нести ценную информацию при анализе."
      ]
    },
    {
      "cell_type": "markdown",
      "metadata": {
        "id": "mDDGcBNhg4CH"
      },
      "source": [
        "Оцените наличие пропущенных значений в датасете по признаку gross_earn"
      ]
    },
    {
      "cell_type": "code",
      "execution_count": null,
      "metadata": {
        "id": "ibVN4eMgl3bF"
      },
      "outputs": [
        {
          "data": {
            "text/plain": [
              "415"
            ]
          },
          "execution_count": 26,
          "metadata": {},
          "output_type": "execute_result"
        }
      ],
      "source": [
        "dataset_miss_gross_earn = dataset['gross_earn'].isna().sum() #ля, вроде так делается \n",
        "dataset_miss_gross_earn "
      ]
    },
    {
      "cell_type": "markdown",
      "metadata": {
        "id": "ockjWssjjvDF"
      },
      "source": [
        "P.s. не стоит исключать наблюдения с пропущенными значениями на этапе предобработки датасета, если нет жесткого требования это делать. Так можно потерять информацию по другим более значимым признакам. Кроме того, их наличие может нести ценную информацию при анализе."
      ]
    },
    {
      "cell_type": "markdown",
      "metadata": {
        "id": "g8VaEPz_kVPe"
      },
      "source": [
        "**Выводы:**"
      ]
    },
    {
      "cell_type": "markdown",
      "metadata": {
        "id": "gTrlw0afkaE4"
      },
      "source": [
        "Напишите выводы по разделу:\n",
        "1.   О размерах датасета (количество признаков и количество наблюдений).\n",
        "2.   О типах данных (какие есть и какие должны быть, нужна ли предобработа).\n",
        "3.   О дубликатах (их наличие, нужна ли предобработка).\n",
        "4.   О пропущенных значениях (их наличие, нужна ли предобработка).\n",
        "5.   О возможных проблемах, которые могут возникнуть при анализе.\n",
        "\n"
      ]
    },
    {
      "cell_type": "markdown",
      "metadata": {
        "id": "Int1osF-mdy-"
      },
      "source": [
        "## 5. Обработка колонок runtime и gross_earn: приведение к числовому типу"
      ]
    },
    {
      "cell_type": "markdown",
      "metadata": {
        "id": "pr-FxQ0Zlc-z"
      },
      "source": [
        "Приведите значения признаков runtime и gross_earn к числовому типу, исключив лишние символы"
      ]
    },
    {
      "cell_type": "markdown",
      "metadata": {
        "id": "gp81b9DUrIEr"
      },
      "source": [
        "### *5.1. runtime*"
      ]
    },
    {
      "cell_type": "markdown",
      "metadata": {
        "id": "gcGr7u2Vm7Ny"
      },
      "source": [
        "Выведите Series ['runtime'] для детального просмотра данных"
      ]
    },
    {
      "cell_type": "code",
      "execution_count": null,
      "metadata": {
        "id": "B4HhGwUOKCfU"
      },
      "outputs": [],
      "source": [
        "dataset['runtime']"
      ]
    },
    {
      "cell_type": "markdown",
      "metadata": {
        "id": "MuCBWTvJnEHF"
      },
      "source": [
        "По индексу 4997 в признак попало аномальное значение - Drama, Romance"
      ]
    },
    {
      "cell_type": "markdown",
      "metadata": {
        "id": "r8_UlDDRnSg1"
      },
      "source": [
        "Выведите уникальные значения по Series ['runtime'] с помощью метода unique()"
      ]
    },
    {
      "cell_type": "code",
      "execution_count": null,
      "metadata": {
        "id": "PhrGIpCboJqC"
      },
      "outputs": [],
      "source": [
        "dataset['runtime']"
      ]
    },
    {
      "cell_type": "markdown",
      "metadata": {
        "id": "aX6ujpINnqVX"
      },
      "source": [
        "Таких аномальных значений несколько. Следует исключить их из датасета"
      ]
    },
    {
      "cell_type": "markdown",
      "metadata": {
        "id": "TZAtdQlbn9IE"
      },
      "source": [
        "Импортируйте библиотеку re"
      ]
    },
    {
      "cell_type": "code",
      "execution_count": null,
      "metadata": {
        "id": "-YjdyM_7o1aq"
      },
      "outputs": [],
      "source": [
        "import"
      ]
    },
    {
      "cell_type": "markdown",
      "metadata": {
        "id": "JHI-nCi8n_AA"
      },
      "source": [
        "Напишите функцию, которая исключит нецифровые символы с помощью регулярных выражений"
      ]
    },
    {
      "cell_type": "code",
      "execution_count": null,
      "metadata": {
        "id": "bYp8o4HVoZ2v"
      },
      "outputs": [],
      "source": [
        "def clear_runtime(runtime):"
      ]
    },
    {
      "cell_type": "markdown",
      "metadata": {
        "id": "_8glouCioP_6"
      },
      "source": [
        "Примените функцию к Series ['runtime'] с помощью метода apply()"
      ]
    },
    {
      "cell_type": "code",
      "execution_count": null,
      "metadata": {
        "id": "vNc3QynOos0-"
      },
      "outputs": [],
      "source": [
        "dataset['runtime']"
      ]
    },
    {
      "cell_type": "markdown",
      "metadata": {
        "id": "Id4WMbV5odI5"
      },
      "source": [
        "Создайте столбец runtime_clear в исходном датасете, применив функцию к признаку runtime"
      ]
    },
    {
      "cell_type": "code",
      "execution_count": null,
      "metadata": {
        "id": "z134V_42pGVH"
      },
      "outputs": [],
      "source": [
        "dataset['runtime_clear'] ="
      ]
    },
    {
      "cell_type": "markdown",
      "metadata": {
        "id": "s3olTg3PopAk"
      },
      "source": [
        "Выведите Series ['runtime_clear'] для оценки результата"
      ]
    },
    {
      "cell_type": "code",
      "execution_count": null,
      "metadata": {
        "id": "a2qhTdfqpNZX"
      },
      "outputs": [],
      "source": [
        "dataset['runtime_clear']"
      ]
    },
    {
      "cell_type": "markdown",
      "metadata": {
        "id": "EapFUrJwowuH"
      },
      "source": [
        "По индексу 4997, где было аномальное значение, теперь на первый взгляд пустота. Проверьте, так ли это, с помощью метода isna()"
      ]
    },
    {
      "cell_type": "code",
      "execution_count": null,
      "metadata": {
        "id": "0vz9e_cDqNPW"
      },
      "outputs": [],
      "source": [
        "dataset['runtime_clear']"
      ]
    },
    {
      "cell_type": "markdown",
      "metadata": {
        "id": "uAKaRobspWFO"
      },
      "source": [
        "Количество пустых полей - 0... Посмотрите поближе, что же на самом деле записано в данном поле с помощью индексации датасет['столбец'][индекс]"
      ]
    },
    {
      "cell_type": "code",
      "execution_count": null,
      "metadata": {
        "id": "iRzRAGhDpPMa"
      },
      "outputs": [],
      "source": [
        "dataset['runtime_clear'][4997]"
      ]
    },
    {
      "cell_type": "markdown",
      "metadata": {
        "id": "MPmEnBmBpwMs"
      },
      "source": [
        "Записано нулевое строковое значение. Убедитесь в этом, проверив тип данных с помощью функции type()"
      ]
    },
    {
      "cell_type": "code",
      "execution_count": null,
      "metadata": {
        "id": "irGF6aBKpoYl"
      },
      "outputs": [],
      "source": [
        "type()"
      ]
    },
    {
      "cell_type": "markdown",
      "metadata": {
        "id": "7aXYnR-YqCwx"
      },
      "source": [
        "Действительно, это строковое значение. Отфильтруйте датасет, исключив все такие значения с помощью оператора !="
      ]
    },
    {
      "cell_type": "code",
      "execution_count": null,
      "metadata": {
        "id": "TbbsFoD2psjm"
      },
      "outputs": [],
      "source": [
        "dataset = dataset[dataset['runtime_clear']!='']"
      ]
    },
    {
      "cell_type": "markdown",
      "metadata": {
        "id": "K63T4u-mqc9s"
      },
      "source": [
        "Оцените размеры датасета с помощью атрибута shape"
      ]
    },
    {
      "cell_type": "code",
      "execution_count": null,
      "metadata": {
        "id": "graH8Xv7qq9J"
      },
      "outputs": [],
      "source": [
        "dataset"
      ]
    },
    {
      "cell_type": "markdown",
      "metadata": {
        "id": "najkeUhhqmaz"
      },
      "source": [
        "А также проверьте тип данных с помощью метода info()"
      ]
    },
    {
      "cell_type": "code",
      "execution_count": null,
      "metadata": {
        "id": "1f1SdjY5quE6"
      },
      "outputs": [],
      "source": [
        "dataset"
      ]
    },
    {
      "cell_type": "markdown",
      "metadata": {
        "id": "gqZC_f6-qxx5"
      },
      "source": [
        "Приведите признак runtime_clear в формат int с помощью метода astype()"
      ]
    },
    {
      "cell_type": "code",
      "execution_count": null,
      "metadata": {
        "id": "VqTGqYK3n_BJ"
      },
      "outputs": [],
      "source": [
        "dataset['runtime_clear'] ="
      ]
    },
    {
      "cell_type": "markdown",
      "metadata": {
        "id": "CEPHEs3-q_Bq"
      },
      "source": [
        "Проверьте тип данных с помощью метода info()"
      ]
    },
    {
      "cell_type": "code",
      "execution_count": null,
      "metadata": {
        "id": "1HBemaU4rBcG"
      },
      "outputs": [],
      "source": [
        "dataset"
      ]
    },
    {
      "cell_type": "markdown",
      "metadata": {
        "id": "adSAGmwErDCR"
      },
      "source": [
        "Тип данных - int64. Все получилось!"
      ]
    },
    {
      "cell_type": "markdown",
      "metadata": {
        "id": "a0otq-lsrRQn"
      },
      "source": [
        "### *5.2. gross_earn*"
      ]
    },
    {
      "cell_type": "markdown",
      "metadata": {
        "id": "G0BQ0qP-rM_w"
      },
      "source": [
        "По аналогии приведите признак gross_earn к числовому типу данных"
      ]
    },
    {
      "cell_type": "markdown",
      "metadata": {
        "id": "eBUu_knwrV3n"
      },
      "source": [
        "Выведите Series ['gross_earn'] для детального просмотра данных"
      ]
    },
    {
      "cell_type": "code",
      "execution_count": null,
      "metadata": {
        "id": "a5tCaUfZrotU"
      },
      "outputs": [],
      "source": [
        "dataset['gross_earn']"
      ]
    },
    {
      "cell_type": "markdown",
      "metadata": {
        "id": "uqKoqt1HrZnd"
      },
      "source": [
        "Напишите функцию, которая исключит нецифровые символы с помощью регулярных выражений. Подумайте, нужно ли оставлять при этом в них точку."
      ]
    },
    {
      "cell_type": "code",
      "execution_count": null,
      "metadata": {
        "id": "HyxrxpfProtX"
      },
      "outputs": [],
      "source": [
        "def clear_gross_earn(gross_earn):"
      ]
    },
    {
      "cell_type": "markdown",
      "metadata": {
        "id": "4xqDl81prgBz"
      },
      "source": [
        "Примените функцию к Series ['gross_earn'] с помощью метода apply()"
      ]
    },
    {
      "cell_type": "code",
      "execution_count": null,
      "metadata": {
        "id": "fWln7bTSrotY"
      },
      "outputs": [],
      "source": [
        "dataset['gross_earn']"
      ]
    },
    {
      "cell_type": "markdown",
      "metadata": {
        "id": "RAL5uqpnrmhY"
      },
      "source": [
        "Ошибка TypeError, связанная с тем, что в какой-то момент в функцию попали пропущенные значения, которые она не смогла обработать"
      ]
    },
    {
      "cell_type": "markdown",
      "metadata": {
        "id": "c_x8NDojr3rl"
      },
      "source": [
        "Оцените количество пропущенных значений по признаку с помощью метода isna() в связке с методом sum()"
      ]
    },
    {
      "cell_type": "code",
      "execution_count": null,
      "metadata": {
        "id": "AXWG2J1ErzQT"
      },
      "outputs": [],
      "source": [
        "dataset['gross_earn']"
      ]
    },
    {
      "cell_type": "markdown",
      "metadata": {
        "id": "GS11wCDTsAbW"
      },
      "source": [
        "Необходимо добавить в функцию обработку пустых значений. Для этого импортируйте библиотеку numpy с коротким наименованием np"
      ]
    },
    {
      "cell_type": "code",
      "execution_count": null,
      "metadata": {
        "id": "hZP7gii2w0lN"
      },
      "outputs": [],
      "source": [
        "import"
      ]
    },
    {
      "cell_type": "markdown",
      "metadata": {
        "id": "n8YBVKFXsNY-"
      },
      "source": [
        "Добавьте в функцию проверку на пустые значения с помощью метода pandas pd.isna(). В случае пропуска она должна вернуть пустое значение np.nan; в ином случае - сохранить алгоритм, написанный ранее (переписывать функцию ниже не нужно; просто изучите, как она работает)"
      ]
    },
    {
      "cell_type": "code",
      "execution_count": null,
      "metadata": {
        "id": "herSamxHwxNo"
      },
      "outputs": [],
      "source": [
        "def clear_gross_earn(gross_earn):\n",
        "  if pd.isna(gross_earn):\n",
        "    return np.nan\n",
        "  else:\n",
        "    return re.sub('[^\\d\\.]', '', gross_earn)"
      ]
    },
    {
      "cell_type": "markdown",
      "metadata": {
        "id": "N1QwLObasy1l"
      },
      "source": [
        "Примените функцию к Series ['gross_earn'] с помощью метода apply()"
      ]
    },
    {
      "cell_type": "code",
      "execution_count": null,
      "metadata": {
        "id": "A6_Q4diKxC8V"
      },
      "outputs": [],
      "source": [
        "dataset['gross_earn']"
      ]
    },
    {
      "cell_type": "markdown",
      "metadata": {
        "id": "de36T4hks3v_"
      },
      "source": [
        "Создайте столбец gross_earn в исходном датасете, применив функцию к признаку gross_earn"
      ]
    },
    {
      "cell_type": "code",
      "execution_count": null,
      "metadata": {
        "id": "F_ZKUk3xrotZ"
      },
      "outputs": [],
      "source": [
        "dataset['gross_earn_clear'] ="
      ]
    },
    {
      "cell_type": "markdown",
      "metadata": {
        "id": "jGMzKot8tBji"
      },
      "source": [
        "Выведите Series ['gross_earn_clear'] для оценки результата"
      ]
    },
    {
      "cell_type": "code",
      "execution_count": null,
      "metadata": {
        "id": "YC4Gmts7rotZ"
      },
      "outputs": [],
      "source": [
        "dataset['gross_earn_clear']"
      ]
    },
    {
      "cell_type": "markdown",
      "metadata": {
        "id": "J6URRJGwCQTg"
      },
      "source": [
        "Приведите признак gross_earn_clear в формат float с помощью метода astype()"
      ]
    },
    {
      "cell_type": "code",
      "execution_count": null,
      "metadata": {
        "id": "QLKgWLlCCTKo"
      },
      "outputs": [],
      "source": [
        "dataset['gross_earn_clear']"
      ]
    },
    {
      "cell_type": "markdown",
      "metadata": {
        "id": "XEE1rc2Vuo78"
      },
      "source": [
        "Код был выполнен. Оцените результат, детально рассмотрев Series ['gross_earn_clear']"
      ]
    },
    {
      "cell_type": "code",
      "execution_count": null,
      "metadata": {
        "id": "0LpWHrxJzYl7"
      },
      "outputs": [],
      "source": [
        "dataset['gross_earn_clear']"
      ]
    },
    {
      "cell_type": "markdown",
      "metadata": {
        "id": "pU_iMRmhu19Z"
      },
      "source": [
        "Выведите информацию о датасете с помощью метода info()"
      ]
    },
    {
      "cell_type": "code",
      "execution_count": null,
      "metadata": {
        "id": "mONxpon3rotd"
      },
      "outputs": [],
      "source": [
        "dataset"
      ]
    },
    {
      "cell_type": "markdown",
      "metadata": {
        "id": "edPJiFwmu6ta"
      },
      "source": [
        "Все получилось: признаки runtime и gross_earn в числовом формате!"
      ]
    },
    {
      "cell_type": "markdown",
      "metadata": {
        "id": "Bd-m3BJcz06-"
      },
      "source": [
        "## 6. Сортировка по рейтингу"
      ]
    },
    {
      "cell_type": "markdown",
      "metadata": {
        "id": "gclevZr3vDaj"
      },
      "source": [
        "Отсортируйте датасет в порядке убывания рейтинга фильмов (rating), применив метод sort_values() с переданным в него параметром ascending=False"
      ]
    },
    {
      "cell_type": "code",
      "execution_count": null,
      "metadata": {
        "id": "UXanY_pIrDoo"
      },
      "outputs": [],
      "source": [
        "sorted_dataset =\n",
        "sorted_dataset.head()"
      ]
    },
    {
      "cell_type": "markdown",
      "metadata": {
        "id": "vAJp76vN0gTL"
      },
      "source": [
        "## 7. Переопределение индексов"
      ]
    },
    {
      "cell_type": "markdown",
      "metadata": {
        "id": "jTBRnhPhvcoT"
      },
      "source": [
        "Переопределите индексы по порядку с помощью метода reset_index() с переданными в него параметрами drop=True для удаления предыдущего столбца индексов и inplace=True для автоматической перезаписи таблицы"
      ]
    },
    {
      "cell_type": "code",
      "execution_count": null,
      "metadata": {
        "id": "YK8ZVEoB0L9o"
      },
      "outputs": [],
      "source": [
        "sorted_dataset.reset_index(drop=True, inplace=True)\n",
        "sorted_dataset.head()"
      ]
    },
    {
      "cell_type": "markdown",
      "metadata": {
        "id": "rfhui4VDeBZ9"
      },
      "source": [
        "## 8. Сохранение датасета"
      ]
    },
    {
      "cell_type": "markdown",
      "metadata": {
        "id": "BM47OTjHv1K_"
      },
      "source": [
        "Сохраните датасет под названием movies_clean в формате csv и скачайте его себе на ПК. Он Понадобится Вам при дальнейшем выполнении тренировочных заданий"
      ]
    },
    {
      "cell_type": "code",
      "execution_count": null,
      "metadata": {
        "id": "mQE36Xmz0z_6"
      },
      "outputs": [],
      "source": [
        "sorted_dataset.to"
      ]
    },
    {
      "cell_type": "markdown",
      "metadata": {
        "id": "jqnyCEDkwGvN"
      },
      "source": [
        "**Поздравляем! Часть 1 задания по модулю EDA выполнена! Далее Вас ожидает разведочный анализ данных!**"
      ]
    }
  ],
  "metadata": {
    "colab": {
      "provenance": []
    },
    "kernelspec": {
      "display_name": "base",
      "language": "python",
      "name": "python3"
    },
    "language_info": {
      "codemirror_mode": {
        "name": "ipython",
        "version": 3
      },
      "file_extension": ".py",
      "mimetype": "text/x-python",
      "name": "python",
      "nbconvert_exporter": "python",
      "pygments_lexer": "ipython3",
      "version": "3.12.4"
    }
  },
  "nbformat": 4,
  "nbformat_minor": 0
}
