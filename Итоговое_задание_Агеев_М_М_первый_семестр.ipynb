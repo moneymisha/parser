{
  "cells": [
    {
      "cell_type": "markdown",
      "metadata": {
        "id": "L2Epn7UHiXfS"
      },
      "source": [
        "# **Разведочный анализ по датасету IMDb Movies: 5000 фильмов с наибольшим рейтингом. Часть 1: Обзор и предобработка данных**"
      ]
    },
    {
      "cell_type": "markdown",
      "metadata": {
        "id": "uF5OyCiAZ7Bn"
      },
      "source": [
        "![](https://adabul.com/wp-content/uploads/2020/04/diziler-360x240.jpg)"
      ]
    },
    {
      "cell_type": "markdown",
      "metadata": {
        "id": "jgCIJe8tjIvI"
      },
      "source": [
        "## 1. Описание датасета и задания"
      ]
    },
    {
      "cell_type": "markdown",
      "metadata": {
        "id": "ODZr1pzSjUEZ"
      },
      "source": [
        "Представлен датасет с данными о 5000 фильмах, имеющих наибольший рейтинг на сайте IMDb (датасет выложен на платформе [Kaggle](https://www.kaggle.com/datasets/totoro29/imdb-movies))."
      ]
    },
    {
      "cell_type": "markdown",
      "metadata": {
        "id": "wU83gIaOVmSq"
      },
      "source": [
        "***Информация, содержащаяся в датасете:***\n",
        "1.   Ссылка на постер фильма (poster).\n",
        "2.   Наименование фильма (title).\n",
        "3.   Класс фильма по рейтингу the British Board of Film Classification (BBFC) (certificate).\n",
        "4.   Продолжительность фильма (runtime).\n",
        "5.   Жанр фильма (genre).\n",
        "6.   Рейтинг фильма на платформе IMBD (rating).\n",
        "7.   Описание сюжета фильма (about).\n",
        "8.   Кинорежиссер фильма (director).\n",
        "9.   Актеры-звезды фильма (stars).\n",
        "10.  Количество проголосовавших за фильм (votes).\n",
        "11.  Доход с фильма (gross_earn).\n",
        "\n"
      ]
    },
    {
      "cell_type": "markdown",
      "metadata": {
        "id": "peR0dY_JVeCJ"
      },
      "source": [
        "***Задача:***\n",
        "провести разведочный анализ данных, найти взаимосвязи и сформулировать выводы."
      ]
    },
    {
      "cell_type": "markdown",
      "metadata": {
        "id": "Ef42FcCzkpb9"
      },
      "source": [
        "**В части 1 задания необходимо:**\n",
        "1.   Выполнить обзор данных.\n",
        "2.   Оценить датасет на наличие дубликатов и при необходимости обработать их.\n",
        "3.   Оценить признаки на наличие пропусков и при необходимости обработать их.\n",
        "4.   Привести данные к необходимому для анализа типу.\n",
        "5.   Отсортировать и сохранить датасет для дальнейшего анализа.\n",
        "\n",
        "\n",
        "\n",
        "\n",
        "\n"
      ]
    },
    {
      "cell_type": "markdown",
      "metadata": {
        "id": "Tjg16j1yj7h3"
      },
      "source": [
        "## 2. Загрузка датасета"
      ]
    },
    {
      "cell_type": "code",
      "execution_count": 1,
      "metadata": {
        "id": "DAjG5ez-ZZ1y",
        "colab": {
          "base_uri": "https://localhost:8080/"
        },
        "outputId": "b6643071-cf40-429d-ba35-2855e301e9d2"
      },
      "outputs": [
        {
          "output_type": "stream",
          "name": "stdout",
          "text": [
            "Requirement already satisfied: gdown in /usr/local/lib/python3.11/dist-packages (5.2.0)\n",
            "Requirement already satisfied: beautifulsoup4 in /usr/local/lib/python3.11/dist-packages (from gdown) (4.13.3)\n",
            "Requirement already satisfied: filelock in /usr/local/lib/python3.11/dist-packages (from gdown) (3.18.0)\n",
            "Requirement already satisfied: requests[socks] in /usr/local/lib/python3.11/dist-packages (from gdown) (2.32.3)\n",
            "Requirement already satisfied: tqdm in /usr/local/lib/python3.11/dist-packages (from gdown) (4.67.1)\n",
            "Requirement already satisfied: soupsieve>1.2 in /usr/local/lib/python3.11/dist-packages (from beautifulsoup4->gdown) (2.6)\n",
            "Requirement already satisfied: typing-extensions>=4.0.0 in /usr/local/lib/python3.11/dist-packages (from beautifulsoup4->gdown) (4.13.1)\n",
            "Requirement already satisfied: charset-normalizer<4,>=2 in /usr/local/lib/python3.11/dist-packages (from requests[socks]->gdown) (3.4.1)\n",
            "Requirement already satisfied: idna<4,>=2.5 in /usr/local/lib/python3.11/dist-packages (from requests[socks]->gdown) (3.10)\n",
            "Requirement already satisfied: urllib3<3,>=1.21.1 in /usr/local/lib/python3.11/dist-packages (from requests[socks]->gdown) (2.3.0)\n",
            "Requirement already satisfied: certifi>=2017.4.17 in /usr/local/lib/python3.11/dist-packages (from requests[socks]->gdown) (2025.1.31)\n",
            "Requirement already satisfied: PySocks!=1.5.7,>=1.5.6 in /usr/local/lib/python3.11/dist-packages (from requests[socks]->gdown) (1.7.1)\n"
          ]
        }
      ],
      "source": [
        "# при ошибке загрузки в текущей версии gdown необходимо его обновить\n",
        "!pip install --upgrade gdown"
      ]
    },
    {
      "cell_type": "code",
      "execution_count": 2,
      "metadata": {
        "id": "hXVPxaqzkA1T",
        "colab": {
          "base_uri": "https://localhost:8080/"
        },
        "outputId": "88e2a92e-ff1c-4ed9-e6d3-d603b7cb5596"
      },
      "outputs": [
        {
          "output_type": "stream",
          "name": "stdout",
          "text": [
            "/usr/local/lib/python3.11/dist-packages/gdown/__main__.py:140: FutureWarning: Option `--id` was deprecated in version 4.3.1 and will be removed in 5.0. You don't need to pass it anymore to use a file ID.\n",
            "  warnings.warn(\n",
            "Downloading...\n",
            "From: https://drive.google.com/uc?id=1SQihqE13h5sEVzLSaBn9f2l_FdMtxNQb\n",
            "To: /content/movies.csv\n",
            "100% 1.89M/1.89M [00:00<00:00, 162MB/s]\n"
          ]
        }
      ],
      "source": [
        "!gdown --id 1SQihqE13h5sEVzLSaBn9f2l_FdMtxNQb"
      ]
    },
    {
      "cell_type": "markdown",
      "metadata": {
        "id": "Ui2UmktdkfBX"
      },
      "source": [
        "## 3. Подгрузка данных в питон и начало работы с ними"
      ]
    },
    {
      "cell_type": "markdown",
      "metadata": {
        "id": "GOhi3LqkhwaO"
      },
      "source": [
        "Импортируйте библиотеку pandas и присвойте ей короткое название pd"
      ]
    },
    {
      "cell_type": "code",
      "execution_count": 3,
      "metadata": {
        "id": "HDirS7pLCdac"
      },
      "outputs": [],
      "source": [
        "import pandas as pd\n",
        "import numpy as np #допом на всякий случай подгрузил"
      ]
    },
    {
      "cell_type": "markdown",
      "metadata": {
        "id": "XNGRVqpyh28Y"
      },
      "source": [
        "Откройте датасет movies.csv и сохраните его в переменную dataset"
      ]
    },
    {
      "cell_type": "code",
      "execution_count": 4,
      "metadata": {
        "id": "PXy_b8D-DYxq"
      },
      "outputs": [],
      "source": [
        "dataset = pd.read_csv(\"movies.csv\")"
      ]
    },
    {
      "cell_type": "markdown",
      "metadata": {
        "id": "v5G-GfyWiZUg"
      },
      "source": [
        "Проведите обзор таблицы с помощью метода head()"
      ]
    },
    {
      "cell_type": "code",
      "execution_count": 5,
      "metadata": {
        "id": "777NV7RZkwos",
        "colab": {
          "base_uri": "https://localhost:8080/",
          "height": 632
        },
        "outputId": "18ab22bc-7578-4bdc-fabc-6442e27c1648"
      },
      "outputs": [
        {
          "output_type": "execute_result",
          "data": {
            "text/plain": [
              "                                              poster  \\\n",
              "0  https://m.media-amazon.com/images/S/sash/4Fyxw...   \n",
              "1  https://m.media-amazon.com/images/S/sash/4Fyxw...   \n",
              "2  https://m.media-amazon.com/images/S/sash/4Fyxw...   \n",
              "3  https://m.media-amazon.com/images/S/sash/4Fyxw...   \n",
              "4  https://m.media-amazon.com/images/S/sash/4Fyxw...   \n",
              "\n",
              "                      title certificate  runtime                      genre  \\\n",
              "0  The Shawshank Redemption          15  142 min                      Drama   \n",
              "1           The Dark Knight         12A  152 min       Action, Crime, Drama   \n",
              "2                 Inception         12A  148 min  Action, Adventure, Sci-Fi   \n",
              "3                Fight Club          18  139 min                      Drama   \n",
              "4              Pulp Fiction          18  154 min               Crime, Drama   \n",
              "\n",
              "   rating                                              about  \\\n",
              "0     9.3  Two imprisoned men bond over a number of years...   \n",
              "1     9.0  When the menace known as the Joker wreaks havo...   \n",
              "2     8.8  A thief who steals corporate secrets through t...   \n",
              "3     8.8  An insomniac office worker and a devil-may-car...   \n",
              "4     8.9  The lives of two mob hitmen, a boxer, a gangst...   \n",
              "\n",
              "            director                                              stars  \\\n",
              "0     Frank Darabont  ('Tim Robbins',), ('Morgan Freeman',), ('Bob G...   \n",
              "1  Christopher Nolan  ('Christian Bale',), ('Heath Ledger',), ('Aaro...   \n",
              "2  Christopher Nolan  ('Leonardo DiCaprio',), ('Joseph Gordon-Levitt...   \n",
              "3      David Fincher  ('Brad Pitt',), ('Edward Norton',), ('Meat Loa...   \n",
              "4  Quentin Tarantino  ('John Travolta',), ('Uma Thurman',), ('Samuel...   \n",
              "\n",
              "       votes gross_earn  \n",
              "0  26,26,905    $28.34M  \n",
              "1  25,98,173   $534.86M  \n",
              "2  23,04,062   $292.58M  \n",
              "3  20,71,088    $37.03M  \n",
              "4  20,11,013   $107.93M  "
            ],
            "text/html": [
              "\n",
              "  <div id=\"df-d499f1ed-4a4d-41d8-be0e-50e407fb2563\" class=\"colab-df-container\">\n",
              "    <div>\n",
              "<style scoped>\n",
              "    .dataframe tbody tr th:only-of-type {\n",
              "        vertical-align: middle;\n",
              "    }\n",
              "\n",
              "    .dataframe tbody tr th {\n",
              "        vertical-align: top;\n",
              "    }\n",
              "\n",
              "    .dataframe thead th {\n",
              "        text-align: right;\n",
              "    }\n",
              "</style>\n",
              "<table border=\"1\" class=\"dataframe\">\n",
              "  <thead>\n",
              "    <tr style=\"text-align: right;\">\n",
              "      <th></th>\n",
              "      <th>poster</th>\n",
              "      <th>title</th>\n",
              "      <th>certificate</th>\n",
              "      <th>runtime</th>\n",
              "      <th>genre</th>\n",
              "      <th>rating</th>\n",
              "      <th>about</th>\n",
              "      <th>director</th>\n",
              "      <th>stars</th>\n",
              "      <th>votes</th>\n",
              "      <th>gross_earn</th>\n",
              "    </tr>\n",
              "  </thead>\n",
              "  <tbody>\n",
              "    <tr>\n",
              "      <th>0</th>\n",
              "      <td>https://m.media-amazon.com/images/S/sash/4Fyxw...</td>\n",
              "      <td>The Shawshank Redemption</td>\n",
              "      <td>15</td>\n",
              "      <td>142 min</td>\n",
              "      <td>Drama</td>\n",
              "      <td>9.3</td>\n",
              "      <td>Two imprisoned men bond over a number of years...</td>\n",
              "      <td>Frank Darabont</td>\n",
              "      <td>('Tim Robbins',), ('Morgan Freeman',), ('Bob G...</td>\n",
              "      <td>26,26,905</td>\n",
              "      <td>$28.34M</td>\n",
              "    </tr>\n",
              "    <tr>\n",
              "      <th>1</th>\n",
              "      <td>https://m.media-amazon.com/images/S/sash/4Fyxw...</td>\n",
              "      <td>The Dark Knight</td>\n",
              "      <td>12A</td>\n",
              "      <td>152 min</td>\n",
              "      <td>Action, Crime, Drama</td>\n",
              "      <td>9.0</td>\n",
              "      <td>When the menace known as the Joker wreaks havo...</td>\n",
              "      <td>Christopher Nolan</td>\n",
              "      <td>('Christian Bale',), ('Heath Ledger',), ('Aaro...</td>\n",
              "      <td>25,98,173</td>\n",
              "      <td>$534.86M</td>\n",
              "    </tr>\n",
              "    <tr>\n",
              "      <th>2</th>\n",
              "      <td>https://m.media-amazon.com/images/S/sash/4Fyxw...</td>\n",
              "      <td>Inception</td>\n",
              "      <td>12A</td>\n",
              "      <td>148 min</td>\n",
              "      <td>Action, Adventure, Sci-Fi</td>\n",
              "      <td>8.8</td>\n",
              "      <td>A thief who steals corporate secrets through t...</td>\n",
              "      <td>Christopher Nolan</td>\n",
              "      <td>('Leonardo DiCaprio',), ('Joseph Gordon-Levitt...</td>\n",
              "      <td>23,04,062</td>\n",
              "      <td>$292.58M</td>\n",
              "    </tr>\n",
              "    <tr>\n",
              "      <th>3</th>\n",
              "      <td>https://m.media-amazon.com/images/S/sash/4Fyxw...</td>\n",
              "      <td>Fight Club</td>\n",
              "      <td>18</td>\n",
              "      <td>139 min</td>\n",
              "      <td>Drama</td>\n",
              "      <td>8.8</td>\n",
              "      <td>An insomniac office worker and a devil-may-car...</td>\n",
              "      <td>David Fincher</td>\n",
              "      <td>('Brad Pitt',), ('Edward Norton',), ('Meat Loa...</td>\n",
              "      <td>20,71,088</td>\n",
              "      <td>$37.03M</td>\n",
              "    </tr>\n",
              "    <tr>\n",
              "      <th>4</th>\n",
              "      <td>https://m.media-amazon.com/images/S/sash/4Fyxw...</td>\n",
              "      <td>Pulp Fiction</td>\n",
              "      <td>18</td>\n",
              "      <td>154 min</td>\n",
              "      <td>Crime, Drama</td>\n",
              "      <td>8.9</td>\n",
              "      <td>The lives of two mob hitmen, a boxer, a gangst...</td>\n",
              "      <td>Quentin Tarantino</td>\n",
              "      <td>('John Travolta',), ('Uma Thurman',), ('Samuel...</td>\n",
              "      <td>20,11,013</td>\n",
              "      <td>$107.93M</td>\n",
              "    </tr>\n",
              "  </tbody>\n",
              "</table>\n",
              "</div>\n",
              "    <div class=\"colab-df-buttons\">\n",
              "\n",
              "  <div class=\"colab-df-container\">\n",
              "    <button class=\"colab-df-convert\" onclick=\"convertToInteractive('df-d499f1ed-4a4d-41d8-be0e-50e407fb2563')\"\n",
              "            title=\"Convert this dataframe to an interactive table.\"\n",
              "            style=\"display:none;\">\n",
              "\n",
              "  <svg xmlns=\"http://www.w3.org/2000/svg\" height=\"24px\" viewBox=\"0 -960 960 960\">\n",
              "    <path d=\"M120-120v-720h720v720H120Zm60-500h600v-160H180v160Zm220 220h160v-160H400v160Zm0 220h160v-160H400v160ZM180-400h160v-160H180v160Zm440 0h160v-160H620v160ZM180-180h160v-160H180v160Zm440 0h160v-160H620v160Z\"/>\n",
              "  </svg>\n",
              "    </button>\n",
              "\n",
              "  <style>\n",
              "    .colab-df-container {\n",
              "      display:flex;\n",
              "      gap: 12px;\n",
              "    }\n",
              "\n",
              "    .colab-df-convert {\n",
              "      background-color: #E8F0FE;\n",
              "      border: none;\n",
              "      border-radius: 50%;\n",
              "      cursor: pointer;\n",
              "      display: none;\n",
              "      fill: #1967D2;\n",
              "      height: 32px;\n",
              "      padding: 0 0 0 0;\n",
              "      width: 32px;\n",
              "    }\n",
              "\n",
              "    .colab-df-convert:hover {\n",
              "      background-color: #E2EBFA;\n",
              "      box-shadow: 0px 1px 2px rgba(60, 64, 67, 0.3), 0px 1px 3px 1px rgba(60, 64, 67, 0.15);\n",
              "      fill: #174EA6;\n",
              "    }\n",
              "\n",
              "    .colab-df-buttons div {\n",
              "      margin-bottom: 4px;\n",
              "    }\n",
              "\n",
              "    [theme=dark] .colab-df-convert {\n",
              "      background-color: #3B4455;\n",
              "      fill: #D2E3FC;\n",
              "    }\n",
              "\n",
              "    [theme=dark] .colab-df-convert:hover {\n",
              "      background-color: #434B5C;\n",
              "      box-shadow: 0px 1px 3px 1px rgba(0, 0, 0, 0.15);\n",
              "      filter: drop-shadow(0px 1px 2px rgba(0, 0, 0, 0.3));\n",
              "      fill: #FFFFFF;\n",
              "    }\n",
              "  </style>\n",
              "\n",
              "    <script>\n",
              "      const buttonEl =\n",
              "        document.querySelector('#df-d499f1ed-4a4d-41d8-be0e-50e407fb2563 button.colab-df-convert');\n",
              "      buttonEl.style.display =\n",
              "        google.colab.kernel.accessAllowed ? 'block' : 'none';\n",
              "\n",
              "      async function convertToInteractive(key) {\n",
              "        const element = document.querySelector('#df-d499f1ed-4a4d-41d8-be0e-50e407fb2563');\n",
              "        const dataTable =\n",
              "          await google.colab.kernel.invokeFunction('convertToInteractive',\n",
              "                                                    [key], {});\n",
              "        if (!dataTable) return;\n",
              "\n",
              "        const docLinkHtml = 'Like what you see? Visit the ' +\n",
              "          '<a target=\"_blank\" href=https://colab.research.google.com/notebooks/data_table.ipynb>data table notebook</a>'\n",
              "          + ' to learn more about interactive tables.';\n",
              "        element.innerHTML = '';\n",
              "        dataTable['output_type'] = 'display_data';\n",
              "        await google.colab.output.renderOutput(dataTable, element);\n",
              "        const docLink = document.createElement('div');\n",
              "        docLink.innerHTML = docLinkHtml;\n",
              "        element.appendChild(docLink);\n",
              "      }\n",
              "    </script>\n",
              "  </div>\n",
              "\n",
              "\n",
              "<div id=\"df-7695001d-4cc9-4f69-911a-a2e6f9be4f5f\">\n",
              "  <button class=\"colab-df-quickchart\" onclick=\"quickchart('df-7695001d-4cc9-4f69-911a-a2e6f9be4f5f')\"\n",
              "            title=\"Suggest charts\"\n",
              "            style=\"display:none;\">\n",
              "\n",
              "<svg xmlns=\"http://www.w3.org/2000/svg\" height=\"24px\"viewBox=\"0 0 24 24\"\n",
              "     width=\"24px\">\n",
              "    <g>\n",
              "        <path d=\"M19 3H5c-1.1 0-2 .9-2 2v14c0 1.1.9 2 2 2h14c1.1 0 2-.9 2-2V5c0-1.1-.9-2-2-2zM9 17H7v-7h2v7zm4 0h-2V7h2v10zm4 0h-2v-4h2v4z\"/>\n",
              "    </g>\n",
              "</svg>\n",
              "  </button>\n",
              "\n",
              "<style>\n",
              "  .colab-df-quickchart {\n",
              "      --bg-color: #E8F0FE;\n",
              "      --fill-color: #1967D2;\n",
              "      --hover-bg-color: #E2EBFA;\n",
              "      --hover-fill-color: #174EA6;\n",
              "      --disabled-fill-color: #AAA;\n",
              "      --disabled-bg-color: #DDD;\n",
              "  }\n",
              "\n",
              "  [theme=dark] .colab-df-quickchart {\n",
              "      --bg-color: #3B4455;\n",
              "      --fill-color: #D2E3FC;\n",
              "      --hover-bg-color: #434B5C;\n",
              "      --hover-fill-color: #FFFFFF;\n",
              "      --disabled-bg-color: #3B4455;\n",
              "      --disabled-fill-color: #666;\n",
              "  }\n",
              "\n",
              "  .colab-df-quickchart {\n",
              "    background-color: var(--bg-color);\n",
              "    border: none;\n",
              "    border-radius: 50%;\n",
              "    cursor: pointer;\n",
              "    display: none;\n",
              "    fill: var(--fill-color);\n",
              "    height: 32px;\n",
              "    padding: 0;\n",
              "    width: 32px;\n",
              "  }\n",
              "\n",
              "  .colab-df-quickchart:hover {\n",
              "    background-color: var(--hover-bg-color);\n",
              "    box-shadow: 0 1px 2px rgba(60, 64, 67, 0.3), 0 1px 3px 1px rgba(60, 64, 67, 0.15);\n",
              "    fill: var(--button-hover-fill-color);\n",
              "  }\n",
              "\n",
              "  .colab-df-quickchart-complete:disabled,\n",
              "  .colab-df-quickchart-complete:disabled:hover {\n",
              "    background-color: var(--disabled-bg-color);\n",
              "    fill: var(--disabled-fill-color);\n",
              "    box-shadow: none;\n",
              "  }\n",
              "\n",
              "  .colab-df-spinner {\n",
              "    border: 2px solid var(--fill-color);\n",
              "    border-color: transparent;\n",
              "    border-bottom-color: var(--fill-color);\n",
              "    animation:\n",
              "      spin 1s steps(1) infinite;\n",
              "  }\n",
              "\n",
              "  @keyframes spin {\n",
              "    0% {\n",
              "      border-color: transparent;\n",
              "      border-bottom-color: var(--fill-color);\n",
              "      border-left-color: var(--fill-color);\n",
              "    }\n",
              "    20% {\n",
              "      border-color: transparent;\n",
              "      border-left-color: var(--fill-color);\n",
              "      border-top-color: var(--fill-color);\n",
              "    }\n",
              "    30% {\n",
              "      border-color: transparent;\n",
              "      border-left-color: var(--fill-color);\n",
              "      border-top-color: var(--fill-color);\n",
              "      border-right-color: var(--fill-color);\n",
              "    }\n",
              "    40% {\n",
              "      border-color: transparent;\n",
              "      border-right-color: var(--fill-color);\n",
              "      border-top-color: var(--fill-color);\n",
              "    }\n",
              "    60% {\n",
              "      border-color: transparent;\n",
              "      border-right-color: var(--fill-color);\n",
              "    }\n",
              "    80% {\n",
              "      border-color: transparent;\n",
              "      border-right-color: var(--fill-color);\n",
              "      border-bottom-color: var(--fill-color);\n",
              "    }\n",
              "    90% {\n",
              "      border-color: transparent;\n",
              "      border-bottom-color: var(--fill-color);\n",
              "    }\n",
              "  }\n",
              "</style>\n",
              "\n",
              "  <script>\n",
              "    async function quickchart(key) {\n",
              "      const quickchartButtonEl =\n",
              "        document.querySelector('#' + key + ' button');\n",
              "      quickchartButtonEl.disabled = true;  // To prevent multiple clicks.\n",
              "      quickchartButtonEl.classList.add('colab-df-spinner');\n",
              "      try {\n",
              "        const charts = await google.colab.kernel.invokeFunction(\n",
              "            'suggestCharts', [key], {});\n",
              "      } catch (error) {\n",
              "        console.error('Error during call to suggestCharts:', error);\n",
              "      }\n",
              "      quickchartButtonEl.classList.remove('colab-df-spinner');\n",
              "      quickchartButtonEl.classList.add('colab-df-quickchart-complete');\n",
              "    }\n",
              "    (() => {\n",
              "      let quickchartButtonEl =\n",
              "        document.querySelector('#df-7695001d-4cc9-4f69-911a-a2e6f9be4f5f button');\n",
              "      quickchartButtonEl.style.display =\n",
              "        google.colab.kernel.accessAllowed ? 'block' : 'none';\n",
              "    })();\n",
              "  </script>\n",
              "</div>\n",
              "    </div>\n",
              "  </div>\n"
            ],
            "application/vnd.google.colaboratory.intrinsic+json": {
              "type": "dataframe",
              "variable_name": "dataset",
              "summary": "{\n  \"name\": \"dataset\",\n  \"rows\": 5000,\n  \"fields\": [\n    {\n      \"column\": \"poster\",\n      \"properties\": {\n        \"dtype\": \"category\",\n        \"num_unique_values\": 1,\n        \"samples\": [\n          \"https://m.media-amazon.com/images/S/sash/4FyxwxECzL-U1J8.png\"\n        ],\n        \"semantic_type\": \"\",\n        \"description\": \"\"\n      }\n    },\n    {\n      \"column\": \"title\",\n      \"properties\": {\n        \"dtype\": \"string\",\n        \"num_unique_values\": 4891,\n        \"samples\": [\n          \"Fargo\"\n        ],\n        \"semantic_type\": \"\",\n        \"description\": \"\"\n      }\n    },\n    {\n      \"column\": \"certificate\",\n      \"properties\": {\n        \"dtype\": \"category\",\n        \"num_unique_values\": 39,\n        \"samples\": [\n          \"98 min\"\n        ],\n        \"semantic_type\": \"\",\n        \"description\": \"\"\n      }\n    },\n    {\n      \"column\": \"runtime\",\n      \"properties\": {\n        \"dtype\": \"category\",\n        \"num_unique_values\": 178,\n        \"samples\": [\n          \"162 min\"\n        ],\n        \"semantic_type\": \"\",\n        \"description\": \"\"\n      }\n    },\n    {\n      \"column\": \"genre\",\n      \"properties\": {\n        \"dtype\": \"category\",\n        \"num_unique_values\": 346,\n        \"samples\": [\n          \"Horror\"\n        ],\n        \"semantic_type\": \"\",\n        \"description\": \"\"\n      }\n    },\n    {\n      \"column\": \"rating\",\n      \"properties\": {\n        \"dtype\": \"number\",\n        \"std\": 0.9736489657272285,\n        \"min\": 1.5,\n        \"max\": 9.3,\n        \"num_unique_values\": 74,\n        \"samples\": [\n          8.7\n        ],\n        \"semantic_type\": \"\",\n        \"description\": \"\"\n      }\n    },\n    {\n      \"column\": \"about\",\n      \"properties\": {\n        \"dtype\": \"string\",\n        \"num_unique_values\": 4976,\n        \"samples\": [\n          \"Mary Surratt is the lone female charged as a co-conspirator in the assassination trial of Abraham Lincoln. As the whole nation turns against her, she is forced to rely on her reluctant lawyer to uncover the truth and save her life.\"\n        ],\n        \"semantic_type\": \"\",\n        \"description\": \"\"\n      }\n    },\n    {\n      \"column\": \"director\",\n      \"properties\": {\n        \"dtype\": \"category\",\n        \"num_unique_values\": 1969,\n        \"samples\": [\n          \"Walter Hill\"\n        ],\n        \"semantic_type\": \"\",\n        \"description\": \"\"\n      }\n    },\n    {\n      \"column\": \"stars\",\n      \"properties\": {\n        \"dtype\": \"string\",\n        \"num_unique_values\": 4969,\n        \"samples\": [\n          \"('Tom Cruise',), ('Cameron Diaz',), ('Peter Sarsgaard',), ('Jordi Moll\\u00e0',)\"\n        ],\n        \"semantic_type\": \"\",\n        \"description\": \"\"\n      }\n    },\n    {\n      \"column\": \"votes\",\n      \"properties\": {\n        \"dtype\": \"string\",\n        \"num_unique_values\": 4918,\n        \"samples\": [\n          \"3,71,808\"\n        ],\n        \"semantic_type\": \"\",\n        \"description\": \"\"\n      }\n    },\n    {\n      \"column\": \"gross_earn\",\n      \"properties\": {\n        \"dtype\": \"string\",\n        \"num_unique_values\": 3372,\n        \"samples\": [\n          \"$3.01M\"\n        ],\n        \"semantic_type\": \"\",\n        \"description\": \"\"\n      }\n    }\n  ]\n}"
            }
          },
          "metadata": {},
          "execution_count": 5
        }
      ],
      "source": [
        "dataset.head()"
      ]
    },
    {
      "cell_type": "markdown",
      "metadata": {
        "id": "3uHWsjiUlAVn"
      },
      "source": [
        "## 4. Оценка размеров датасета, наличия дубликатов и пропусков"
      ]
    },
    {
      "cell_type": "markdown",
      "metadata": {
        "id": "pKCuhhm4feDW"
      },
      "source": [
        "Оцените размеры датасета с помощью атрибута shape"
      ]
    },
    {
      "cell_type": "code",
      "execution_count": 6,
      "metadata": {
        "id": "Mbniz7lAHMdW"
      },
      "outputs": [],
      "source": [
        "dataset_array = np.array(dataset)"
      ]
    },
    {
      "cell_type": "markdown",
      "metadata": {
        "id": "-JVqJfqofmEp"
      },
      "source": [
        "Выведите информацию о датасете с помощью метода info(). Оцените признаки и типы данных, обратите внимание на пропущенные значения"
      ]
    },
    {
      "cell_type": "code",
      "execution_count": 7,
      "metadata": {
        "id": "Rb9-5dw7lL-_",
        "colab": {
          "base_uri": "https://localhost:8080/"
        },
        "outputId": "2e57bfd5-ac7d-4816-b7eb-fb0b31c4c975"
      },
      "outputs": [
        {
          "output_type": "stream",
          "name": "stdout",
          "text": [
            "<class 'pandas.core.frame.DataFrame'>\n",
            "RangeIndex: 5000 entries, 0 to 4999\n",
            "Data columns (total 11 columns):\n",
            " #   Column       Non-Null Count  Dtype  \n",
            "---  ------       --------------  -----  \n",
            " 0   poster       5000 non-null   object \n",
            " 1   title        5000 non-null   object \n",
            " 2   certificate  5000 non-null   object \n",
            " 3   runtime      5000 non-null   object \n",
            " 4   genre        4970 non-null   object \n",
            " 5   rating       5000 non-null   float64\n",
            " 6   about        4986 non-null   object \n",
            " 7   director     5000 non-null   object \n",
            " 8   stars        5000 non-null   object \n",
            " 9   votes        5000 non-null   object \n",
            " 10  gross_earn   4585 non-null   object \n",
            "dtypes: float64(1), object(10)\n",
            "memory usage: 429.8+ KB\n"
          ]
        }
      ],
      "source": [
        "dataset.info()"
      ]
    },
    {
      "cell_type": "markdown",
      "metadata": {
        "id": "AqF3KuIugDUA"
      },
      "source": [
        "Оцените наличие дубликатов в датасете с помощью метода duplicated() в связке с sum() (при необходимости исключите полные дубликаты)"
      ]
    },
    {
      "cell_type": "code",
      "execution_count": 8,
      "metadata": {
        "id": "Q_MAd-7IHVev",
        "colab": {
          "base_uri": "https://localhost:8080/"
        },
        "outputId": "580a135d-c439-49a4-8870-7dfe72a51ca9"
      },
      "outputs": [
        {
          "output_type": "execute_result",
          "data": {
            "text/plain": [
              "np.int64(0)"
            ]
          },
          "metadata": {},
          "execution_count": 8
        }
      ],
      "source": [
        "dataset_dubl = dataset.duplicated().sum()\n",
        "dataset_dubl"
      ]
    },
    {
      "cell_type": "markdown",
      "metadata": {
        "id": "JjmIpftqAv_b"
      },
      "source": [
        "### коммент: в датасете нет дубликатов :)"
      ]
    },
    {
      "cell_type": "markdown",
      "metadata": {
        "id": "93d03vUNlDZr"
      },
      "source": [
        "P.s. бывают ситуации, когда нет необходимости удалять дубликаты, т.к. их наличие может нести ценную информацию при анализе."
      ]
    },
    {
      "cell_type": "markdown",
      "metadata": {
        "id": "mDDGcBNhg4CH"
      },
      "source": [
        "Оцените наличие пропущенных значений в датасете по признаку gross_earn"
      ]
    },
    {
      "cell_type": "code",
      "execution_count": 9,
      "metadata": {
        "id": "ibVN4eMgl3bF",
        "colab": {
          "base_uri": "https://localhost:8080/"
        },
        "outputId": "1e8f53c3-af28-49c5-8794-f753f441b170"
      },
      "outputs": [
        {
          "output_type": "execute_result",
          "data": {
            "text/plain": [
              "np.int64(415)"
            ]
          },
          "metadata": {},
          "execution_count": 9
        }
      ],
      "source": [
        "dataset_miss_gross_earn = dataset['gross_earn'].isna().sum() #ля, вроде так делается\n",
        "dataset_miss_gross_earn"
      ]
    },
    {
      "cell_type": "markdown",
      "metadata": {
        "id": "ockjWssjjvDF"
      },
      "source": [
        "P.s. не стоит исключать наблюдения с пропущенными значениями на этапе предобработки датасета, если нет жесткого требования это делать. Так можно потерять информацию по другим более значимым признакам. Кроме того, их наличие может нести ценную информацию при анализе."
      ]
    },
    {
      "cell_type": "markdown",
      "metadata": {
        "id": "g8VaEPz_kVPe"
      },
      "source": [
        "**Выводы:**"
      ]
    },
    {
      "cell_type": "markdown",
      "metadata": {
        "id": "gTrlw0afkaE4"
      },
      "source": [
        "Напишите выводы по разделу:\n",
        "1.   О размерах датасета (количество признаков и количество наблюдений).\n",
        "2.   О типах данных (какие есть и какие должны быть, нужна ли предобработа).\n",
        "3.   О дубликатах (их наличие, нужна ли предобработка).\n",
        "4.   О пропущенных значениях (их наличие, нужна ли предобработка).\n",
        "5.   О возможных проблемах, которые могут возникнуть при анализе.\n",
        "\n"
      ]
    },
    {
      "cell_type": "markdown",
      "metadata": {
        "id": "Int1osF-mdy-"
      },
      "source": [
        "## 5. Обработка колонок runtime и gross_earn: приведение к числовому типу"
      ]
    },
    {
      "cell_type": "markdown",
      "metadata": {
        "id": "pr-FxQ0Zlc-z"
      },
      "source": [
        "Приведите значения признаков runtime и gross_earn к числовому типу, исключив лишние символы"
      ]
    },
    {
      "cell_type": "markdown",
      "metadata": {
        "id": "gp81b9DUrIEr"
      },
      "source": [
        "### *5.1. runtime*"
      ]
    },
    {
      "cell_type": "markdown",
      "metadata": {
        "id": "gcGr7u2Vm7Ny"
      },
      "source": [
        "Выведите Series ['runtime'] для детального просмотра данных"
      ]
    },
    {
      "cell_type": "code",
      "execution_count": 11,
      "metadata": {
        "id": "B4HhGwUOKCfU",
        "colab": {
          "base_uri": "https://localhost:8080/",
          "height": 453
        },
        "outputId": "3b15488e-c1ef-47c8-c24c-dd81a39cb2e6"
      },
      "outputs": [
        {
          "output_type": "execute_result",
          "data": {
            "text/plain": [
              "0              142 min\n",
              "1              152 min\n",
              "2              148 min\n",
              "3              139 min\n",
              "4              154 min\n",
              "             ...      \n",
              "4995           102 min\n",
              "4996            94 min\n",
              "4997    Drama, Romance\n",
              "4998            92 min\n",
              "4999           120 min\n",
              "Name: runtime, Length: 5000, dtype: object"
            ],
            "text/html": [
              "<div>\n",
              "<style scoped>\n",
              "    .dataframe tbody tr th:only-of-type {\n",
              "        vertical-align: middle;\n",
              "    }\n",
              "\n",
              "    .dataframe tbody tr th {\n",
              "        vertical-align: top;\n",
              "    }\n",
              "\n",
              "    .dataframe thead th {\n",
              "        text-align: right;\n",
              "    }\n",
              "</style>\n",
              "<table border=\"1\" class=\"dataframe\">\n",
              "  <thead>\n",
              "    <tr style=\"text-align: right;\">\n",
              "      <th></th>\n",
              "      <th>runtime</th>\n",
              "    </tr>\n",
              "  </thead>\n",
              "  <tbody>\n",
              "    <tr>\n",
              "      <th>0</th>\n",
              "      <td>142 min</td>\n",
              "    </tr>\n",
              "    <tr>\n",
              "      <th>1</th>\n",
              "      <td>152 min</td>\n",
              "    </tr>\n",
              "    <tr>\n",
              "      <th>2</th>\n",
              "      <td>148 min</td>\n",
              "    </tr>\n",
              "    <tr>\n",
              "      <th>3</th>\n",
              "      <td>139 min</td>\n",
              "    </tr>\n",
              "    <tr>\n",
              "      <th>4</th>\n",
              "      <td>154 min</td>\n",
              "    </tr>\n",
              "    <tr>\n",
              "      <th>...</th>\n",
              "      <td>...</td>\n",
              "    </tr>\n",
              "    <tr>\n",
              "      <th>4995</th>\n",
              "      <td>102 min</td>\n",
              "    </tr>\n",
              "    <tr>\n",
              "      <th>4996</th>\n",
              "      <td>94 min</td>\n",
              "    </tr>\n",
              "    <tr>\n",
              "      <th>4997</th>\n",
              "      <td>Drama, Romance</td>\n",
              "    </tr>\n",
              "    <tr>\n",
              "      <th>4998</th>\n",
              "      <td>92 min</td>\n",
              "    </tr>\n",
              "    <tr>\n",
              "      <th>4999</th>\n",
              "      <td>120 min</td>\n",
              "    </tr>\n",
              "  </tbody>\n",
              "</table>\n",
              "<p>5000 rows × 1 columns</p>\n",
              "</div><br><label><b>dtype:</b> object</label>"
            ]
          },
          "metadata": {},
          "execution_count": 11
        }
      ],
      "source": [
        "dataset['runtime']"
      ]
    },
    {
      "cell_type": "markdown",
      "metadata": {
        "id": "MuCBWTvJnEHF"
      },
      "source": [
        "По индексу 4997 в признак попало аномальное значение - Drama, Romance"
      ]
    },
    {
      "cell_type": "markdown",
      "metadata": {
        "id": "r8_UlDDRnSg1"
      },
      "source": [
        "Выведите уникальные значения по Series ['runtime'] с помощью метода unique()"
      ]
    },
    {
      "cell_type": "code",
      "execution_count": 13,
      "metadata": {
        "id": "PhrGIpCboJqC",
        "colab": {
          "base_uri": "https://localhost:8080/"
        },
        "outputId": "da8ebcfe-18e1-49a9-875a-dacef01d3c4d"
      },
      "outputs": [
        {
          "output_type": "execute_result",
          "data": {
            "text/plain": [
              "array(['142 min', '152 min', '148 min', '139 min', '154 min', '178 min',\n",
              "       '136 min', '201 min', '175 min', '164 min', '179 min', '127 min',\n",
              "       '143 min', '155 min', '140 min', '165 min', '169 min', '121 min',\n",
              "       '118 min', '162 min', '153 min', '151 min', '195 min', '113 min',\n",
              "       '130 min', '124 min', '122 min', '194 min', '132 min', '202 min',\n",
              "       '138 min', '119 min', '189 min', '180 min', '137 min', '106 min',\n",
              "       '111 min', '116 min', '145 min', '110 min', '98 min', '107 min',\n",
              "       '126 min', '100 min', '131 min', '133 min', '103 min', '108 min',\n",
              "       '96 min', '99 min', '115 min', '88 min', '120 min', '81 min',\n",
              "       '135 min', '146 min', '117 min', '104 min', '92 min', '91 min',\n",
              "       '102 min', '149 min', '170 min', '112 min', '101 min', '141 min',\n",
              "       '144 min', '114 min', '150 min', '90 min', '161 min', '128 min',\n",
              "       '93 min', '129 min', '166 min', '147 min', '134 min', '109 min',\n",
              "       '105 min', '125 min', '156 min', '123 min', '95 min', '157 min',\n",
              "       '163 min', '158 min', '89 min', '187 min', '167 min', '84 min',\n",
              "       '94 min', '85 min', '172 min', '160 min', '168 min', '86 min',\n",
              "       '97 min', '87 min', '183 min', '188 min', '207 min', '159 min',\n",
              "       '76 min', '229 min', '238 min', '83 min', '218 min', '77 min',\n",
              "       '181 min', '191 min', '80 min', '212 min', '78 min', '79 min',\n",
              "       '82 min', '74 min', '185 min', '75 min', '197 min', '69 min',\n",
              "       '64 min', '224 min', '68 min', '210 min', '177 min', '193 min',\n",
              "       '67 min', '174 min', '70 min', '220 min', '321 min', 'Comedy',\n",
              "       '186 min', 'Action, Crime, Mystery', '198 min', '58 min',\n",
              "       'Comedy, Drama, Romance', 'Comedy, Romance', '192 min', '242 min',\n",
              "       'Horror', '204 min', 'Comedy, Drama', '171 min', '63 min',\n",
              "       'Horror, Sci-Fi, Thriller', 'Action, Biography, Drama', '182 min',\n",
              "       '176 min', '196 min', 'Drama', '205 min', 'Action, Drama, War',\n",
              "       '71 min', '259 min', '45 min', 'Fantasy, Romance',\n",
              "       'Action, Crime, Comedy', 'Crime, Drama, Mystery',\n",
              "       'Action, Adventure, Drama', 'Drama, Horror, Mystery',\n",
              "       'Crime, Mystery', '213 min', '72 min', '216 min',\n",
              "       'Comedy, Western', '317 min', 'Adventure, Drama, Romance',\n",
              "       'Fantasy, Horror', 'Adventure, Comedy', 'Comedy, Family',\n",
              "       'Adventure, Comedy, Romance', '366 min', 'Action, Comedy',\n",
              "       'Adventure, Comedy, Fantasy', 'Action, Crime, Thriller',\n",
              "       'Action, Adventure, Sci-Fi', 'Drama, Romance'], dtype=object)"
            ]
          },
          "metadata": {},
          "execution_count": 13
        }
      ],
      "source": [
        "dataset['runtime'].unique()"
      ]
    },
    {
      "cell_type": "markdown",
      "metadata": {
        "id": "aX6ujpINnqVX"
      },
      "source": [
        "Таких аномальных значений несколько. Следует исключить их из датасета"
      ]
    },
    {
      "cell_type": "markdown",
      "metadata": {
        "id": "TZAtdQlbn9IE"
      },
      "source": [
        "Импортируйте библиотеку re"
      ]
    },
    {
      "cell_type": "code",
      "execution_count": 14,
      "metadata": {
        "id": "-YjdyM_7o1aq"
      },
      "outputs": [],
      "source": [
        "import re"
      ]
    },
    {
      "cell_type": "markdown",
      "metadata": {
        "id": "JHI-nCi8n_AA"
      },
      "source": [
        "Напишите функцию, которая исключит нецифровые символы с помощью регулярных выражений"
      ]
    },
    {
      "cell_type": "code",
      "execution_count": 15,
      "metadata": {
        "id": "bYp8o4HVoZ2v"
      },
      "outputs": [],
      "source": [
        "def remove_non_digits(text):\n",
        "    return re.sub(r'\\D', '', str(text))\n"
      ]
    },
    {
      "cell_type": "markdown",
      "metadata": {
        "id": "_8glouCioP_6"
      },
      "source": [
        "Примените функцию к Series ['runtime'] с помощью метода apply()"
      ]
    },
    {
      "cell_type": "code",
      "execution_count": 18,
      "metadata": {
        "id": "vNc3QynOos0-",
        "colab": {
          "base_uri": "https://localhost:8080/",
          "height": 453
        },
        "outputId": "c67427f7-5b20-4a76-bebe-9cb478498eae"
      },
      "outputs": [
        {
          "output_type": "execute_result",
          "data": {
            "text/plain": [
              "0       142\n",
              "1       152\n",
              "2       148\n",
              "3       139\n",
              "4       154\n",
              "       ... \n",
              "4995    102\n",
              "4996     94\n",
              "4997       \n",
              "4998     92\n",
              "4999    120\n",
              "Name: runtime, Length: 5000, dtype: object"
            ],
            "text/html": [
              "<div>\n",
              "<style scoped>\n",
              "    .dataframe tbody tr th:only-of-type {\n",
              "        vertical-align: middle;\n",
              "    }\n",
              "\n",
              "    .dataframe tbody tr th {\n",
              "        vertical-align: top;\n",
              "    }\n",
              "\n",
              "    .dataframe thead th {\n",
              "        text-align: right;\n",
              "    }\n",
              "</style>\n",
              "<table border=\"1\" class=\"dataframe\">\n",
              "  <thead>\n",
              "    <tr style=\"text-align: right;\">\n",
              "      <th></th>\n",
              "      <th>runtime</th>\n",
              "    </tr>\n",
              "  </thead>\n",
              "  <tbody>\n",
              "    <tr>\n",
              "      <th>0</th>\n",
              "      <td>142</td>\n",
              "    </tr>\n",
              "    <tr>\n",
              "      <th>1</th>\n",
              "      <td>152</td>\n",
              "    </tr>\n",
              "    <tr>\n",
              "      <th>2</th>\n",
              "      <td>148</td>\n",
              "    </tr>\n",
              "    <tr>\n",
              "      <th>3</th>\n",
              "      <td>139</td>\n",
              "    </tr>\n",
              "    <tr>\n",
              "      <th>4</th>\n",
              "      <td>154</td>\n",
              "    </tr>\n",
              "    <tr>\n",
              "      <th>...</th>\n",
              "      <td>...</td>\n",
              "    </tr>\n",
              "    <tr>\n",
              "      <th>4995</th>\n",
              "      <td>102</td>\n",
              "    </tr>\n",
              "    <tr>\n",
              "      <th>4996</th>\n",
              "      <td>94</td>\n",
              "    </tr>\n",
              "    <tr>\n",
              "      <th>4997</th>\n",
              "      <td></td>\n",
              "    </tr>\n",
              "    <tr>\n",
              "      <th>4998</th>\n",
              "      <td>92</td>\n",
              "    </tr>\n",
              "    <tr>\n",
              "      <th>4999</th>\n",
              "      <td>120</td>\n",
              "    </tr>\n",
              "  </tbody>\n",
              "</table>\n",
              "<p>5000 rows × 1 columns</p>\n",
              "</div><br><label><b>dtype:</b> object</label>"
            ]
          },
          "metadata": {},
          "execution_count": 18
        }
      ],
      "source": [
        "dataset['runtime'].apply(remove_non_digits)"
      ]
    },
    {
      "cell_type": "markdown",
      "metadata": {
        "id": "Id4WMbV5odI5"
      },
      "source": [
        "Создайте столбец runtime_clear в исходном датасете, применив функцию к признаку runtime"
      ]
    },
    {
      "cell_type": "code",
      "execution_count": 19,
      "metadata": {
        "id": "z134V_42pGVH"
      },
      "outputs": [],
      "source": [
        "dataset['runtime_clear'] = dataset['runtime'].apply(remove_non_digits)"
      ]
    },
    {
      "cell_type": "markdown",
      "metadata": {
        "id": "s3olTg3PopAk"
      },
      "source": [
        "Выведите Series ['runtime_clear'] для оценки результата"
      ]
    },
    {
      "cell_type": "code",
      "execution_count": 20,
      "metadata": {
        "id": "a2qhTdfqpNZX",
        "colab": {
          "base_uri": "https://localhost:8080/",
          "height": 453
        },
        "outputId": "7a55c833-645e-4c15-a38b-752c5bc7f621"
      },
      "outputs": [
        {
          "output_type": "execute_result",
          "data": {
            "text/plain": [
              "0       142\n",
              "1       152\n",
              "2       148\n",
              "3       139\n",
              "4       154\n",
              "       ... \n",
              "4995    102\n",
              "4996     94\n",
              "4997       \n",
              "4998     92\n",
              "4999    120\n",
              "Name: runtime_clear, Length: 5000, dtype: object"
            ],
            "text/html": [
              "<div>\n",
              "<style scoped>\n",
              "    .dataframe tbody tr th:only-of-type {\n",
              "        vertical-align: middle;\n",
              "    }\n",
              "\n",
              "    .dataframe tbody tr th {\n",
              "        vertical-align: top;\n",
              "    }\n",
              "\n",
              "    .dataframe thead th {\n",
              "        text-align: right;\n",
              "    }\n",
              "</style>\n",
              "<table border=\"1\" class=\"dataframe\">\n",
              "  <thead>\n",
              "    <tr style=\"text-align: right;\">\n",
              "      <th></th>\n",
              "      <th>runtime_clear</th>\n",
              "    </tr>\n",
              "  </thead>\n",
              "  <tbody>\n",
              "    <tr>\n",
              "      <th>0</th>\n",
              "      <td>142</td>\n",
              "    </tr>\n",
              "    <tr>\n",
              "      <th>1</th>\n",
              "      <td>152</td>\n",
              "    </tr>\n",
              "    <tr>\n",
              "      <th>2</th>\n",
              "      <td>148</td>\n",
              "    </tr>\n",
              "    <tr>\n",
              "      <th>3</th>\n",
              "      <td>139</td>\n",
              "    </tr>\n",
              "    <tr>\n",
              "      <th>4</th>\n",
              "      <td>154</td>\n",
              "    </tr>\n",
              "    <tr>\n",
              "      <th>...</th>\n",
              "      <td>...</td>\n",
              "    </tr>\n",
              "    <tr>\n",
              "      <th>4995</th>\n",
              "      <td>102</td>\n",
              "    </tr>\n",
              "    <tr>\n",
              "      <th>4996</th>\n",
              "      <td>94</td>\n",
              "    </tr>\n",
              "    <tr>\n",
              "      <th>4997</th>\n",
              "      <td></td>\n",
              "    </tr>\n",
              "    <tr>\n",
              "      <th>4998</th>\n",
              "      <td>92</td>\n",
              "    </tr>\n",
              "    <tr>\n",
              "      <th>4999</th>\n",
              "      <td>120</td>\n",
              "    </tr>\n",
              "  </tbody>\n",
              "</table>\n",
              "<p>5000 rows × 1 columns</p>\n",
              "</div><br><label><b>dtype:</b> object</label>"
            ]
          },
          "metadata": {},
          "execution_count": 20
        }
      ],
      "source": [
        "dataset['runtime_clear']"
      ]
    },
    {
      "cell_type": "markdown",
      "metadata": {
        "id": "EapFUrJwowuH"
      },
      "source": [
        "По индексу 4997, где было аномальное значение, теперь на первый взгляд пустота. Проверьте, так ли это, с помощью метода isna()"
      ]
    },
    {
      "cell_type": "code",
      "execution_count": 22,
      "metadata": {
        "id": "0vz9e_cDqNPW",
        "colab": {
          "base_uri": "https://localhost:8080/",
          "height": 453
        },
        "outputId": "faa53f19-62dd-4a3d-c060-11a47fb91198"
      },
      "outputs": [
        {
          "output_type": "execute_result",
          "data": {
            "text/plain": [
              "0       False\n",
              "1       False\n",
              "2       False\n",
              "3       False\n",
              "4       False\n",
              "        ...  \n",
              "4995    False\n",
              "4996    False\n",
              "4997    False\n",
              "4998    False\n",
              "4999    False\n",
              "Name: runtime_clear, Length: 5000, dtype: bool"
            ],
            "text/html": [
              "<div>\n",
              "<style scoped>\n",
              "    .dataframe tbody tr th:only-of-type {\n",
              "        vertical-align: middle;\n",
              "    }\n",
              "\n",
              "    .dataframe tbody tr th {\n",
              "        vertical-align: top;\n",
              "    }\n",
              "\n",
              "    .dataframe thead th {\n",
              "        text-align: right;\n",
              "    }\n",
              "</style>\n",
              "<table border=\"1\" class=\"dataframe\">\n",
              "  <thead>\n",
              "    <tr style=\"text-align: right;\">\n",
              "      <th></th>\n",
              "      <th>runtime_clear</th>\n",
              "    </tr>\n",
              "  </thead>\n",
              "  <tbody>\n",
              "    <tr>\n",
              "      <th>0</th>\n",
              "      <td>False</td>\n",
              "    </tr>\n",
              "    <tr>\n",
              "      <th>1</th>\n",
              "      <td>False</td>\n",
              "    </tr>\n",
              "    <tr>\n",
              "      <th>2</th>\n",
              "      <td>False</td>\n",
              "    </tr>\n",
              "    <tr>\n",
              "      <th>3</th>\n",
              "      <td>False</td>\n",
              "    </tr>\n",
              "    <tr>\n",
              "      <th>4</th>\n",
              "      <td>False</td>\n",
              "    </tr>\n",
              "    <tr>\n",
              "      <th>...</th>\n",
              "      <td>...</td>\n",
              "    </tr>\n",
              "    <tr>\n",
              "      <th>4995</th>\n",
              "      <td>False</td>\n",
              "    </tr>\n",
              "    <tr>\n",
              "      <th>4996</th>\n",
              "      <td>False</td>\n",
              "    </tr>\n",
              "    <tr>\n",
              "      <th>4997</th>\n",
              "      <td>False</td>\n",
              "    </tr>\n",
              "    <tr>\n",
              "      <th>4998</th>\n",
              "      <td>False</td>\n",
              "    </tr>\n",
              "    <tr>\n",
              "      <th>4999</th>\n",
              "      <td>False</td>\n",
              "    </tr>\n",
              "  </tbody>\n",
              "</table>\n",
              "<p>5000 rows × 1 columns</p>\n",
              "</div><br><label><b>dtype:</b> bool</label>"
            ]
          },
          "metadata": {},
          "execution_count": 22
        }
      ],
      "source": [
        "dataset['runtime_clear'].isna()"
      ]
    },
    {
      "cell_type": "markdown",
      "metadata": {
        "id": "uAKaRobspWFO"
      },
      "source": [
        "Количество пустых полей - 0... Посмотрите поближе, что же на самом деле записано в данном поле с помощью индексации датасет['столбец'][индекс]"
      ]
    },
    {
      "cell_type": "code",
      "execution_count": 23,
      "metadata": {
        "id": "iRzRAGhDpPMa",
        "colab": {
          "base_uri": "https://localhost:8080/",
          "height": 36
        },
        "outputId": "d596c225-08a7-4ecb-848d-0e29ca99a673"
      },
      "outputs": [
        {
          "output_type": "execute_result",
          "data": {
            "text/plain": [
              "''"
            ],
            "application/vnd.google.colaboratory.intrinsic+json": {
              "type": "string"
            }
          },
          "metadata": {},
          "execution_count": 23
        }
      ],
      "source": [
        "dataset['runtime_clear'][4997]"
      ]
    },
    {
      "cell_type": "markdown",
      "metadata": {
        "id": "MPmEnBmBpwMs"
      },
      "source": [
        "Записано нулевое строковое значение. Убедитесь в этом, проверив тип данных с помощью функции type()"
      ]
    },
    {
      "cell_type": "code",
      "execution_count": 24,
      "metadata": {
        "id": "irGF6aBKpoYl",
        "colab": {
          "base_uri": "https://localhost:8080/"
        },
        "outputId": "48cad9f3-0a3c-4d1c-c7ba-99fc8e77995b"
      },
      "outputs": [
        {
          "output_type": "execute_result",
          "data": {
            "text/plain": [
              "str"
            ]
          },
          "metadata": {},
          "execution_count": 24
        }
      ],
      "source": [
        "type(dataset['runtime_clear'][4997])"
      ]
    },
    {
      "cell_type": "markdown",
      "metadata": {
        "id": "7aXYnR-YqCwx"
      },
      "source": [
        "Действительно, это строковое значение. Отфильтруйте датасет, исключив все такие значения с помощью оператора !="
      ]
    },
    {
      "cell_type": "code",
      "execution_count": 25,
      "metadata": {
        "id": "TbbsFoD2psjm"
      },
      "outputs": [],
      "source": [
        "dataset = dataset[dataset['runtime_clear']!='']"
      ]
    },
    {
      "cell_type": "markdown",
      "metadata": {
        "id": "K63T4u-mqc9s"
      },
      "source": [
        "Оцените размеры датасета с помощью атрибута shape"
      ]
    },
    {
      "cell_type": "code",
      "execution_count": 26,
      "metadata": {
        "id": "graH8Xv7qq9J",
        "colab": {
          "base_uri": "https://localhost:8080/"
        },
        "outputId": "89b40700-37f7-4ffa-998f-43d0c984e606"
      },
      "outputs": [
        {
          "output_type": "execute_result",
          "data": {
            "text/plain": [
              "(4970, 12)"
            ]
          },
          "metadata": {},
          "execution_count": 26
        }
      ],
      "source": [
        "dataset.shape"
      ]
    },
    {
      "cell_type": "markdown",
      "metadata": {
        "id": "najkeUhhqmaz"
      },
      "source": [
        "А также проверьте тип данных с помощью метода info()"
      ]
    },
    {
      "cell_type": "code",
      "execution_count": 27,
      "metadata": {
        "id": "1f1SdjY5quE6",
        "colab": {
          "base_uri": "https://localhost:8080/"
        },
        "outputId": "4ff6bee7-de63-465c-ff26-23e1f93f8975"
      },
      "outputs": [
        {
          "output_type": "stream",
          "name": "stdout",
          "text": [
            "<class 'pandas.core.frame.DataFrame'>\n",
            "Index: 4970 entries, 0 to 4999\n",
            "Data columns (total 12 columns):\n",
            " #   Column         Non-Null Count  Dtype  \n",
            "---  ------         --------------  -----  \n",
            " 0   poster         4970 non-null   object \n",
            " 1   title          4970 non-null   object \n",
            " 2   certificate    4970 non-null   object \n",
            " 3   runtime        4970 non-null   object \n",
            " 4   genre          4970 non-null   object \n",
            " 5   rating         4970 non-null   float64\n",
            " 6   about          4956 non-null   object \n",
            " 7   director       4970 non-null   object \n",
            " 8   stars          4970 non-null   object \n",
            " 9   votes          4970 non-null   object \n",
            " 10  gross_earn     4574 non-null   object \n",
            " 11  runtime_clear  4970 non-null   object \n",
            "dtypes: float64(1), object(11)\n",
            "memory usage: 504.8+ KB\n"
          ]
        }
      ],
      "source": [
        "dataset.info()"
      ]
    },
    {
      "cell_type": "markdown",
      "metadata": {
        "id": "gqZC_f6-qxx5"
      },
      "source": [
        "Приведите признак runtime_clear в формат int с помощью метода astype()"
      ]
    },
    {
      "cell_type": "code",
      "execution_count": 28,
      "metadata": {
        "id": "VqTGqYK3n_BJ"
      },
      "outputs": [],
      "source": [
        "dataset['runtime_clear'] = dataset['runtime_clear'].astype(int)"
      ]
    },
    {
      "cell_type": "markdown",
      "metadata": {
        "id": "CEPHEs3-q_Bq"
      },
      "source": [
        "Проверьте тип данных с помощью метода info()"
      ]
    },
    {
      "cell_type": "code",
      "execution_count": 29,
      "metadata": {
        "id": "1HBemaU4rBcG",
        "colab": {
          "base_uri": "https://localhost:8080/"
        },
        "outputId": "4882e624-c148-40c5-8721-cfcebd3e2920"
      },
      "outputs": [
        {
          "output_type": "stream",
          "name": "stdout",
          "text": [
            "<class 'pandas.core.frame.DataFrame'>\n",
            "Index: 4970 entries, 0 to 4999\n",
            "Data columns (total 12 columns):\n",
            " #   Column         Non-Null Count  Dtype  \n",
            "---  ------         --------------  -----  \n",
            " 0   poster         4970 non-null   object \n",
            " 1   title          4970 non-null   object \n",
            " 2   certificate    4970 non-null   object \n",
            " 3   runtime        4970 non-null   object \n",
            " 4   genre          4970 non-null   object \n",
            " 5   rating         4970 non-null   float64\n",
            " 6   about          4956 non-null   object \n",
            " 7   director       4970 non-null   object \n",
            " 8   stars          4970 non-null   object \n",
            " 9   votes          4970 non-null   object \n",
            " 10  gross_earn     4574 non-null   object \n",
            " 11  runtime_clear  4970 non-null   int64  \n",
            "dtypes: float64(1), int64(1), object(10)\n",
            "memory usage: 504.8+ KB\n"
          ]
        }
      ],
      "source": [
        "dataset.info()"
      ]
    },
    {
      "cell_type": "markdown",
      "metadata": {
        "id": "adSAGmwErDCR"
      },
      "source": [
        "Тип данных - int64. Все получилось!"
      ]
    },
    {
      "cell_type": "markdown",
      "metadata": {
        "id": "a0otq-lsrRQn"
      },
      "source": [
        "### *5.2. gross_earn*"
      ]
    },
    {
      "cell_type": "markdown",
      "metadata": {
        "id": "G0BQ0qP-rM_w"
      },
      "source": [
        "По аналогии приведите признак gross_earn к числовому типу данных"
      ]
    },
    {
      "cell_type": "markdown",
      "metadata": {
        "id": "eBUu_knwrV3n"
      },
      "source": [
        "Выведите Series ['gross_earn'] для детального просмотра данных"
      ]
    },
    {
      "cell_type": "code",
      "execution_count": 30,
      "metadata": {
        "id": "a5tCaUfZrotU",
        "colab": {
          "base_uri": "https://localhost:8080/",
          "height": 453
        },
        "outputId": "472f84d8-c98b-45b6-eda8-a048f2ee4182"
      },
      "outputs": [
        {
          "output_type": "execute_result",
          "data": {
            "text/plain": [
              "0        $28.34M\n",
              "1       $534.86M\n",
              "2       $292.58M\n",
              "3        $37.03M\n",
              "4       $107.93M\n",
              "          ...   \n",
              "4994         NaN\n",
              "4995      $9.40M\n",
              "4996         NaN\n",
              "4998      $6.67M\n",
              "4999      $8.20M\n",
              "Name: gross_earn, Length: 4970, dtype: object"
            ],
            "text/html": [
              "<div>\n",
              "<style scoped>\n",
              "    .dataframe tbody tr th:only-of-type {\n",
              "        vertical-align: middle;\n",
              "    }\n",
              "\n",
              "    .dataframe tbody tr th {\n",
              "        vertical-align: top;\n",
              "    }\n",
              "\n",
              "    .dataframe thead th {\n",
              "        text-align: right;\n",
              "    }\n",
              "</style>\n",
              "<table border=\"1\" class=\"dataframe\">\n",
              "  <thead>\n",
              "    <tr style=\"text-align: right;\">\n",
              "      <th></th>\n",
              "      <th>gross_earn</th>\n",
              "    </tr>\n",
              "  </thead>\n",
              "  <tbody>\n",
              "    <tr>\n",
              "      <th>0</th>\n",
              "      <td>$28.34M</td>\n",
              "    </tr>\n",
              "    <tr>\n",
              "      <th>1</th>\n",
              "      <td>$534.86M</td>\n",
              "    </tr>\n",
              "    <tr>\n",
              "      <th>2</th>\n",
              "      <td>$292.58M</td>\n",
              "    </tr>\n",
              "    <tr>\n",
              "      <th>3</th>\n",
              "      <td>$37.03M</td>\n",
              "    </tr>\n",
              "    <tr>\n",
              "      <th>4</th>\n",
              "      <td>$107.93M</td>\n",
              "    </tr>\n",
              "    <tr>\n",
              "      <th>...</th>\n",
              "      <td>...</td>\n",
              "    </tr>\n",
              "    <tr>\n",
              "      <th>4994</th>\n",
              "      <td>NaN</td>\n",
              "    </tr>\n",
              "    <tr>\n",
              "      <th>4995</th>\n",
              "      <td>$9.40M</td>\n",
              "    </tr>\n",
              "    <tr>\n",
              "      <th>4996</th>\n",
              "      <td>NaN</td>\n",
              "    </tr>\n",
              "    <tr>\n",
              "      <th>4998</th>\n",
              "      <td>$6.67M</td>\n",
              "    </tr>\n",
              "    <tr>\n",
              "      <th>4999</th>\n",
              "      <td>$8.20M</td>\n",
              "    </tr>\n",
              "  </tbody>\n",
              "</table>\n",
              "<p>4970 rows × 1 columns</p>\n",
              "</div><br><label><b>dtype:</b> object</label>"
            ]
          },
          "metadata": {},
          "execution_count": 30
        }
      ],
      "source": [
        "dataset['gross_earn']"
      ]
    },
    {
      "cell_type": "markdown",
      "metadata": {
        "id": "uqKoqt1HrZnd"
      },
      "source": [
        "Напишите функцию, которая исключит нецифровые символы с помощью регулярных выражений. Подумайте, нужно ли оставлять при этом в них точку."
      ]
    },
    {
      "cell_type": "code",
      "execution_count": 42,
      "metadata": {
        "id": "HyxrxpfProtX"
      },
      "outputs": [],
      "source": [
        "def clear_gross_earn(gross_earn):\n",
        "    text = str(gross_earn)\n",
        "    cleaned = re.sub(r'[^0-9.]', '', text)\n",
        "    if cleaned.count('.') > 1:\n",
        "        parts = cleaned.split('.', 1)\n",
        "        cleaned = parts[0] + '.' + re.sub(r'\\.', '', parts[1])\n",
        "    return cleaned\n",
        "\n",
        ""
      ]
    },
    {
      "cell_type": "markdown",
      "metadata": {
        "id": "4xqDl81prgBz"
      },
      "source": [
        "Примените функцию к Series ['gross_earn'] с помощью метода apply()"
      ]
    },
    {
      "cell_type": "code",
      "execution_count": 43,
      "metadata": {
        "id": "fWln7bTSrotY"
      },
      "outputs": [],
      "source": [
        "dataset['gross_earn_clean'] = dataset['gross_earn'].apply(clear_gross_earn)"
      ]
    },
    {
      "cell_type": "markdown",
      "metadata": {
        "id": "RAL5uqpnrmhY"
      },
      "source": [
        "Ошибка TypeError, связанная с тем, что в какой-то момент в функцию попали пропущенные значения, которые она не смогла обработать"
      ]
    },
    {
      "cell_type": "markdown",
      "metadata": {
        "id": "c_x8NDojr3rl"
      },
      "source": [
        "Оцените количество пропущенных значений по признаку с помощью метода isna() в связке с методом sum()"
      ]
    },
    {
      "cell_type": "code",
      "execution_count": 44,
      "metadata": {
        "id": "AXWG2J1ErzQT",
        "colab": {
          "base_uri": "https://localhost:8080/",
          "height": 453
        },
        "outputId": "ab7e0909-8fd8-484d-efe5-71002b32c9d9"
      },
      "outputs": [
        {
          "output_type": "execute_result",
          "data": {
            "text/plain": [
              "0       False\n",
              "1       False\n",
              "2       False\n",
              "3       False\n",
              "4       False\n",
              "        ...  \n",
              "4994     True\n",
              "4995    False\n",
              "4996     True\n",
              "4998    False\n",
              "4999    False\n",
              "Name: gross_earn, Length: 4970, dtype: bool"
            ],
            "text/html": [
              "<div>\n",
              "<style scoped>\n",
              "    .dataframe tbody tr th:only-of-type {\n",
              "        vertical-align: middle;\n",
              "    }\n",
              "\n",
              "    .dataframe tbody tr th {\n",
              "        vertical-align: top;\n",
              "    }\n",
              "\n",
              "    .dataframe thead th {\n",
              "        text-align: right;\n",
              "    }\n",
              "</style>\n",
              "<table border=\"1\" class=\"dataframe\">\n",
              "  <thead>\n",
              "    <tr style=\"text-align: right;\">\n",
              "      <th></th>\n",
              "      <th>gross_earn</th>\n",
              "    </tr>\n",
              "  </thead>\n",
              "  <tbody>\n",
              "    <tr>\n",
              "      <th>0</th>\n",
              "      <td>False</td>\n",
              "    </tr>\n",
              "    <tr>\n",
              "      <th>1</th>\n",
              "      <td>False</td>\n",
              "    </tr>\n",
              "    <tr>\n",
              "      <th>2</th>\n",
              "      <td>False</td>\n",
              "    </tr>\n",
              "    <tr>\n",
              "      <th>3</th>\n",
              "      <td>False</td>\n",
              "    </tr>\n",
              "    <tr>\n",
              "      <th>4</th>\n",
              "      <td>False</td>\n",
              "    </tr>\n",
              "    <tr>\n",
              "      <th>...</th>\n",
              "      <td>...</td>\n",
              "    </tr>\n",
              "    <tr>\n",
              "      <th>4994</th>\n",
              "      <td>True</td>\n",
              "    </tr>\n",
              "    <tr>\n",
              "      <th>4995</th>\n",
              "      <td>False</td>\n",
              "    </tr>\n",
              "    <tr>\n",
              "      <th>4996</th>\n",
              "      <td>True</td>\n",
              "    </tr>\n",
              "    <tr>\n",
              "      <th>4998</th>\n",
              "      <td>False</td>\n",
              "    </tr>\n",
              "    <tr>\n",
              "      <th>4999</th>\n",
              "      <td>False</td>\n",
              "    </tr>\n",
              "  </tbody>\n",
              "</table>\n",
              "<p>4970 rows × 1 columns</p>\n",
              "</div><br><label><b>dtype:</b> bool</label>"
            ]
          },
          "metadata": {},
          "execution_count": 44
        }
      ],
      "source": [
        "dataset['gross_earn'].isna()"
      ]
    },
    {
      "cell_type": "markdown",
      "metadata": {
        "id": "GS11wCDTsAbW"
      },
      "source": [
        "Необходимо добавить в функцию обработку пустых значений. Для этого импортируйте библиотеку numpy с коротким наименованием np"
      ]
    },
    {
      "cell_type": "code",
      "execution_count": 45,
      "metadata": {
        "id": "hZP7gii2w0lN"
      },
      "outputs": [],
      "source": [
        "import numpy"
      ]
    },
    {
      "cell_type": "markdown",
      "metadata": {
        "id": "n8YBVKFXsNY-"
      },
      "source": [
        "Добавьте в функцию проверку на пустые значения с помощью метода pandas pd.isna(). В случае пропуска она должна вернуть пустое значение np.nan; в ином случае - сохранить алгоритм, написанный ранее (переписывать функцию ниже не нужно; просто изучите, как она работает)"
      ]
    },
    {
      "cell_type": "code",
      "execution_count": 46,
      "metadata": {
        "id": "herSamxHwxNo"
      },
      "outputs": [],
      "source": [
        "def clear_gross_earn(gross_earn):\n",
        "  if pd.isna(gross_earn):\n",
        "    return np.nan\n",
        "  else:\n",
        "    return re.sub('[^\\d\\.]', '', gross_earn)"
      ]
    },
    {
      "cell_type": "markdown",
      "metadata": {
        "id": "N1QwLObasy1l"
      },
      "source": [
        "Примените функцию к Series ['gross_earn'] с помощью метода apply()"
      ]
    },
    {
      "cell_type": "code",
      "execution_count": 47,
      "metadata": {
        "id": "A6_Q4diKxC8V",
        "colab": {
          "base_uri": "https://localhost:8080/",
          "height": 453
        },
        "outputId": "67f61be2-c728-4e52-f7fd-0f68e20b69c3"
      },
      "outputs": [
        {
          "output_type": "execute_result",
          "data": {
            "text/plain": [
              "0        28.34\n",
              "1       534.86\n",
              "2       292.58\n",
              "3        37.03\n",
              "4       107.93\n",
              "         ...  \n",
              "4994       NaN\n",
              "4995      9.40\n",
              "4996       NaN\n",
              "4998      6.67\n",
              "4999      8.20\n",
              "Name: gross_earn, Length: 4970, dtype: object"
            ],
            "text/html": [
              "<div>\n",
              "<style scoped>\n",
              "    .dataframe tbody tr th:only-of-type {\n",
              "        vertical-align: middle;\n",
              "    }\n",
              "\n",
              "    .dataframe tbody tr th {\n",
              "        vertical-align: top;\n",
              "    }\n",
              "\n",
              "    .dataframe thead th {\n",
              "        text-align: right;\n",
              "    }\n",
              "</style>\n",
              "<table border=\"1\" class=\"dataframe\">\n",
              "  <thead>\n",
              "    <tr style=\"text-align: right;\">\n",
              "      <th></th>\n",
              "      <th>gross_earn</th>\n",
              "    </tr>\n",
              "  </thead>\n",
              "  <tbody>\n",
              "    <tr>\n",
              "      <th>0</th>\n",
              "      <td>28.34</td>\n",
              "    </tr>\n",
              "    <tr>\n",
              "      <th>1</th>\n",
              "      <td>534.86</td>\n",
              "    </tr>\n",
              "    <tr>\n",
              "      <th>2</th>\n",
              "      <td>292.58</td>\n",
              "    </tr>\n",
              "    <tr>\n",
              "      <th>3</th>\n",
              "      <td>37.03</td>\n",
              "    </tr>\n",
              "    <tr>\n",
              "      <th>4</th>\n",
              "      <td>107.93</td>\n",
              "    </tr>\n",
              "    <tr>\n",
              "      <th>...</th>\n",
              "      <td>...</td>\n",
              "    </tr>\n",
              "    <tr>\n",
              "      <th>4994</th>\n",
              "      <td>NaN</td>\n",
              "    </tr>\n",
              "    <tr>\n",
              "      <th>4995</th>\n",
              "      <td>9.40</td>\n",
              "    </tr>\n",
              "    <tr>\n",
              "      <th>4996</th>\n",
              "      <td>NaN</td>\n",
              "    </tr>\n",
              "    <tr>\n",
              "      <th>4998</th>\n",
              "      <td>6.67</td>\n",
              "    </tr>\n",
              "    <tr>\n",
              "      <th>4999</th>\n",
              "      <td>8.20</td>\n",
              "    </tr>\n",
              "  </tbody>\n",
              "</table>\n",
              "<p>4970 rows × 1 columns</p>\n",
              "</div><br><label><b>dtype:</b> object</label>"
            ]
          },
          "metadata": {},
          "execution_count": 47
        }
      ],
      "source": [
        "dataset['gross_earn'].apply(clear_gross_earn)"
      ]
    },
    {
      "cell_type": "markdown",
      "metadata": {
        "id": "de36T4hks3v_"
      },
      "source": [
        "Создайте столбец gross_earn в исходном датасете, применив функцию к признаку gross_earn"
      ]
    },
    {
      "cell_type": "code",
      "execution_count": 49,
      "metadata": {
        "id": "F_ZKUk3xrotZ"
      },
      "outputs": [],
      "source": [
        "dataset['gross_earn_clear'] = dataset['gross_earn'].apply(clear_gross_earn)"
      ]
    },
    {
      "cell_type": "markdown",
      "metadata": {
        "id": "jGMzKot8tBji"
      },
      "source": [
        "Выведите Series ['gross_earn_clear'] для оценки результата"
      ]
    },
    {
      "cell_type": "code",
      "execution_count": 52,
      "metadata": {
        "id": "YC4Gmts7rotZ",
        "colab": {
          "base_uri": "https://localhost:8080/",
          "height": 453
        },
        "outputId": "d19ef749-2482-4ec7-d7d3-a05479f75b8e"
      },
      "outputs": [
        {
          "output_type": "execute_result",
          "data": {
            "text/plain": [
              "0        28.34\n",
              "1       534.86\n",
              "2       292.58\n",
              "3        37.03\n",
              "4       107.93\n",
              "         ...  \n",
              "4994       NaN\n",
              "4995      9.40\n",
              "4996       NaN\n",
              "4998      6.67\n",
              "4999      8.20\n",
              "Name: gross_earn_clear, Length: 4970, dtype: object"
            ],
            "text/html": [
              "<div>\n",
              "<style scoped>\n",
              "    .dataframe tbody tr th:only-of-type {\n",
              "        vertical-align: middle;\n",
              "    }\n",
              "\n",
              "    .dataframe tbody tr th {\n",
              "        vertical-align: top;\n",
              "    }\n",
              "\n",
              "    .dataframe thead th {\n",
              "        text-align: right;\n",
              "    }\n",
              "</style>\n",
              "<table border=\"1\" class=\"dataframe\">\n",
              "  <thead>\n",
              "    <tr style=\"text-align: right;\">\n",
              "      <th></th>\n",
              "      <th>gross_earn_clear</th>\n",
              "    </tr>\n",
              "  </thead>\n",
              "  <tbody>\n",
              "    <tr>\n",
              "      <th>0</th>\n",
              "      <td>28.34</td>\n",
              "    </tr>\n",
              "    <tr>\n",
              "      <th>1</th>\n",
              "      <td>534.86</td>\n",
              "    </tr>\n",
              "    <tr>\n",
              "      <th>2</th>\n",
              "      <td>292.58</td>\n",
              "    </tr>\n",
              "    <tr>\n",
              "      <th>3</th>\n",
              "      <td>37.03</td>\n",
              "    </tr>\n",
              "    <tr>\n",
              "      <th>4</th>\n",
              "      <td>107.93</td>\n",
              "    </tr>\n",
              "    <tr>\n",
              "      <th>...</th>\n",
              "      <td>...</td>\n",
              "    </tr>\n",
              "    <tr>\n",
              "      <th>4994</th>\n",
              "      <td>NaN</td>\n",
              "    </tr>\n",
              "    <tr>\n",
              "      <th>4995</th>\n",
              "      <td>9.40</td>\n",
              "    </tr>\n",
              "    <tr>\n",
              "      <th>4996</th>\n",
              "      <td>NaN</td>\n",
              "    </tr>\n",
              "    <tr>\n",
              "      <th>4998</th>\n",
              "      <td>6.67</td>\n",
              "    </tr>\n",
              "    <tr>\n",
              "      <th>4999</th>\n",
              "      <td>8.20</td>\n",
              "    </tr>\n",
              "  </tbody>\n",
              "</table>\n",
              "<p>4970 rows × 1 columns</p>\n",
              "</div><br><label><b>dtype:</b> object</label>"
            ]
          },
          "metadata": {},
          "execution_count": 52
        }
      ],
      "source": [
        "dataset['gross_earn_clear']"
      ]
    },
    {
      "cell_type": "markdown",
      "metadata": {
        "id": "J6URRJGwCQTg"
      },
      "source": [
        "Приведите признак gross_earn_clear в формат float с помощью метода astype()"
      ]
    },
    {
      "cell_type": "code",
      "execution_count": 61,
      "metadata": {
        "id": "QLKgWLlCCTKo"
      },
      "outputs": [],
      "source": [
        "dataset['gross_earn_clean'] = dataset['gross_earn_clear'].astype(float)"
      ]
    },
    {
      "cell_type": "markdown",
      "metadata": {
        "id": "XEE1rc2Vuo78"
      },
      "source": [
        "Код был выполнен. Оцените результат, детально рассмотрев Series ['gross_earn_clear']"
      ]
    },
    {
      "cell_type": "code",
      "execution_count": 58,
      "metadata": {
        "id": "0LpWHrxJzYl7",
        "colab": {
          "base_uri": "https://localhost:8080/",
          "height": 453
        },
        "outputId": "a919fba2-7cb3-44d9-dfec-ea125fd63329"
      },
      "outputs": [
        {
          "output_type": "execute_result",
          "data": {
            "text/plain": [
              "0        28.34\n",
              "1       534.86\n",
              "2       292.58\n",
              "3        37.03\n",
              "4       107.93\n",
              "         ...  \n",
              "4994       NaN\n",
              "4995      9.40\n",
              "4996       NaN\n",
              "4998      6.67\n",
              "4999      8.20\n",
              "Name: gross_earn_clear, Length: 4970, dtype: object"
            ],
            "text/html": [
              "<div>\n",
              "<style scoped>\n",
              "    .dataframe tbody tr th:only-of-type {\n",
              "        vertical-align: middle;\n",
              "    }\n",
              "\n",
              "    .dataframe tbody tr th {\n",
              "        vertical-align: top;\n",
              "    }\n",
              "\n",
              "    .dataframe thead th {\n",
              "        text-align: right;\n",
              "    }\n",
              "</style>\n",
              "<table border=\"1\" class=\"dataframe\">\n",
              "  <thead>\n",
              "    <tr style=\"text-align: right;\">\n",
              "      <th></th>\n",
              "      <th>gross_earn_clear</th>\n",
              "    </tr>\n",
              "  </thead>\n",
              "  <tbody>\n",
              "    <tr>\n",
              "      <th>0</th>\n",
              "      <td>28.34</td>\n",
              "    </tr>\n",
              "    <tr>\n",
              "      <th>1</th>\n",
              "      <td>534.86</td>\n",
              "    </tr>\n",
              "    <tr>\n",
              "      <th>2</th>\n",
              "      <td>292.58</td>\n",
              "    </tr>\n",
              "    <tr>\n",
              "      <th>3</th>\n",
              "      <td>37.03</td>\n",
              "    </tr>\n",
              "    <tr>\n",
              "      <th>4</th>\n",
              "      <td>107.93</td>\n",
              "    </tr>\n",
              "    <tr>\n",
              "      <th>...</th>\n",
              "      <td>...</td>\n",
              "    </tr>\n",
              "    <tr>\n",
              "      <th>4994</th>\n",
              "      <td>NaN</td>\n",
              "    </tr>\n",
              "    <tr>\n",
              "      <th>4995</th>\n",
              "      <td>9.40</td>\n",
              "    </tr>\n",
              "    <tr>\n",
              "      <th>4996</th>\n",
              "      <td>NaN</td>\n",
              "    </tr>\n",
              "    <tr>\n",
              "      <th>4998</th>\n",
              "      <td>6.67</td>\n",
              "    </tr>\n",
              "    <tr>\n",
              "      <th>4999</th>\n",
              "      <td>8.20</td>\n",
              "    </tr>\n",
              "  </tbody>\n",
              "</table>\n",
              "<p>4970 rows × 1 columns</p>\n",
              "</div><br><label><b>dtype:</b> object</label>"
            ]
          },
          "metadata": {},
          "execution_count": 58
        }
      ],
      "source": [
        "dataset['gross_earn_clear']"
      ]
    },
    {
      "cell_type": "markdown",
      "metadata": {
        "id": "pU_iMRmhu19Z"
      },
      "source": [
        "Выведите информацию о датасете с помощью метода info()"
      ]
    },
    {
      "cell_type": "code",
      "execution_count": 62,
      "metadata": {
        "id": "mONxpon3rotd",
        "colab": {
          "base_uri": "https://localhost:8080/"
        },
        "outputId": "046e4615-f504-4be6-f6da-cf64ab805b21"
      },
      "outputs": [
        {
          "output_type": "stream",
          "name": "stdout",
          "text": [
            "<class 'pandas.core.frame.DataFrame'>\n",
            "Index: 4970 entries, 0 to 4999\n",
            "Data columns (total 14 columns):\n",
            " #   Column            Non-Null Count  Dtype  \n",
            "---  ------            --------------  -----  \n",
            " 0   poster            4970 non-null   object \n",
            " 1   title             4970 non-null   object \n",
            " 2   certificate       4970 non-null   object \n",
            " 3   runtime           4970 non-null   object \n",
            " 4   genre             4970 non-null   object \n",
            " 5   rating            4970 non-null   float64\n",
            " 6   about             4956 non-null   object \n",
            " 7   director          4970 non-null   object \n",
            " 8   stars             4970 non-null   object \n",
            " 9   votes             4970 non-null   object \n",
            " 10  gross_earn        4574 non-null   object \n",
            " 11  runtime_clear     4970 non-null   int64  \n",
            " 12  gross_earn_clean  4574 non-null   float64\n",
            " 13  gross_earn_clear  4574 non-null   object \n",
            "dtypes: float64(2), int64(1), object(11)\n",
            "memory usage: 582.4+ KB\n"
          ]
        }
      ],
      "source": [
        "dataset.info()"
      ]
    },
    {
      "cell_type": "markdown",
      "metadata": {
        "id": "edPJiFwmu6ta"
      },
      "source": [
        "Все получилось: признаки runtime и gross_earn в числовом формате!"
      ]
    },
    {
      "cell_type": "markdown",
      "metadata": {
        "id": "Bd-m3BJcz06-"
      },
      "source": [
        "## 6. Сортировка по рейтингу"
      ]
    },
    {
      "cell_type": "markdown",
      "metadata": {
        "id": "gclevZr3vDaj"
      },
      "source": [
        "Отсортируйте датасет в порядке убывания рейтинга фильмов (rating), применив метод sort_values() с переданным в него параметром ascending=False"
      ]
    },
    {
      "cell_type": "code",
      "execution_count": 60,
      "metadata": {
        "id": "UXanY_pIrDoo",
        "colab": {
          "base_uri": "https://localhost:8080/",
          "height": 649
        },
        "outputId": "60a97e51-b317-4241-9251-3fadc7bfe750"
      },
      "outputs": [
        {
          "output_type": "execute_result",
          "data": {
            "text/plain": [
              "                                                 poster  \\\n",
              "0     https://m.media-amazon.com/images/S/sash/4Fyxw...   \n",
              "9     https://m.media-amazon.com/images/S/sash/4Fyxw...   \n",
              "3788  https://m.media-amazon.com/images/S/sash/4Fyxw...   \n",
              "8     https://m.media-amazon.com/images/S/sash/4Fyxw...   \n",
              "24    https://m.media-amazon.com/images/S/sash/4Fyxw...   \n",
              "\n",
              "                                              title certificate  runtime  \\\n",
              "0                          The Shawshank Redemption          15  142 min   \n",
              "9                                     The Godfather           X  175 min   \n",
              "3788                                 Hababam Sinifi         12A   87 min   \n",
              "8     The Lord of the Rings: The Return of the King         12A  201 min   \n",
              "24                                 Schindler's List          15  195 min   \n",
              "\n",
              "                          genre  rating  \\\n",
              "0                         Drama     9.3   \n",
              "9                  Crime, Drama     9.2   \n",
              "3788              Comedy, Drama     9.2   \n",
              "8      Action, Adventure, Drama     9.0   \n",
              "24    Biography, Drama, History     9.0   \n",
              "\n",
              "                                                  about              director  \\\n",
              "0     Two imprisoned men bond over a number of years...        Frank Darabont   \n",
              "9     The aging patriarch of an organized crime dyna...  Francis Ford Coppola   \n",
              "3788  Lazy, uneducated students share a very close b...         Ertem Egilmez   \n",
              "8     Gandalf and Aragorn lead the World of Men agai...         Peter Jackson   \n",
              "24    In German-occupied Poland during World War II,...      Steven Spielberg   \n",
              "\n",
              "                                                  stars      votes gross_earn  \\\n",
              "0     ('Tim Robbins',), ('Morgan Freeman',), ('Bob G...  26,26,905    $28.34M   \n",
              "9     ('Marlon Brando',), ('Al Pacino',), ('James Ca...  18,19,641   $134.97M   \n",
              "3788  ('Kemal Sunal',), ('Münir Özkul',), ('Halit Ak...     40,492        NaN   \n",
              "8     ('Elijah Wood',), ('Viggo Mortensen',), ('Ian ...  18,01,662   $377.85M   \n",
              "24    ('Liam Neeson',), ('Ralph Fiennes',), ('Ben Ki...  13,33,407    $96.90M   \n",
              "\n",
              "      runtime_clear gross_earn_clean gross_earn_clear  \n",
              "0               142            28.34            28.34  \n",
              "9               175           134.97           134.97  \n",
              "3788             87                               NaN  \n",
              "8               201           377.85           377.85  \n",
              "24              195            96.90            96.90  "
            ],
            "text/html": [
              "\n",
              "  <div id=\"df-8436c3c1-99c1-4d53-8ff7-7af5fa557bd5\" class=\"colab-df-container\">\n",
              "    <div>\n",
              "<style scoped>\n",
              "    .dataframe tbody tr th:only-of-type {\n",
              "        vertical-align: middle;\n",
              "    }\n",
              "\n",
              "    .dataframe tbody tr th {\n",
              "        vertical-align: top;\n",
              "    }\n",
              "\n",
              "    .dataframe thead th {\n",
              "        text-align: right;\n",
              "    }\n",
              "</style>\n",
              "<table border=\"1\" class=\"dataframe\">\n",
              "  <thead>\n",
              "    <tr style=\"text-align: right;\">\n",
              "      <th></th>\n",
              "      <th>poster</th>\n",
              "      <th>title</th>\n",
              "      <th>certificate</th>\n",
              "      <th>runtime</th>\n",
              "      <th>genre</th>\n",
              "      <th>rating</th>\n",
              "      <th>about</th>\n",
              "      <th>director</th>\n",
              "      <th>stars</th>\n",
              "      <th>votes</th>\n",
              "      <th>gross_earn</th>\n",
              "      <th>runtime_clear</th>\n",
              "      <th>gross_earn_clean</th>\n",
              "      <th>gross_earn_clear</th>\n",
              "    </tr>\n",
              "  </thead>\n",
              "  <tbody>\n",
              "    <tr>\n",
              "      <th>0</th>\n",
              "      <td>https://m.media-amazon.com/images/S/sash/4Fyxw...</td>\n",
              "      <td>The Shawshank Redemption</td>\n",
              "      <td>15</td>\n",
              "      <td>142 min</td>\n",
              "      <td>Drama</td>\n",
              "      <td>9.3</td>\n",
              "      <td>Two imprisoned men bond over a number of years...</td>\n",
              "      <td>Frank Darabont</td>\n",
              "      <td>('Tim Robbins',), ('Morgan Freeman',), ('Bob G...</td>\n",
              "      <td>26,26,905</td>\n",
              "      <td>$28.34M</td>\n",
              "      <td>142</td>\n",
              "      <td>28.34</td>\n",
              "      <td>28.34</td>\n",
              "    </tr>\n",
              "    <tr>\n",
              "      <th>9</th>\n",
              "      <td>https://m.media-amazon.com/images/S/sash/4Fyxw...</td>\n",
              "      <td>The Godfather</td>\n",
              "      <td>X</td>\n",
              "      <td>175 min</td>\n",
              "      <td>Crime, Drama</td>\n",
              "      <td>9.2</td>\n",
              "      <td>The aging patriarch of an organized crime dyna...</td>\n",
              "      <td>Francis Ford Coppola</td>\n",
              "      <td>('Marlon Brando',), ('Al Pacino',), ('James Ca...</td>\n",
              "      <td>18,19,641</td>\n",
              "      <td>$134.97M</td>\n",
              "      <td>175</td>\n",
              "      <td>134.97</td>\n",
              "      <td>134.97</td>\n",
              "    </tr>\n",
              "    <tr>\n",
              "      <th>3788</th>\n",
              "      <td>https://m.media-amazon.com/images/S/sash/4Fyxw...</td>\n",
              "      <td>Hababam Sinifi</td>\n",
              "      <td>12A</td>\n",
              "      <td>87 min</td>\n",
              "      <td>Comedy, Drama</td>\n",
              "      <td>9.2</td>\n",
              "      <td>Lazy, uneducated students share a very close b...</td>\n",
              "      <td>Ertem Egilmez</td>\n",
              "      <td>('Kemal Sunal',), ('Münir Özkul',), ('Halit Ak...</td>\n",
              "      <td>40,492</td>\n",
              "      <td>NaN</td>\n",
              "      <td>87</td>\n",
              "      <td></td>\n",
              "      <td>NaN</td>\n",
              "    </tr>\n",
              "    <tr>\n",
              "      <th>8</th>\n",
              "      <td>https://m.media-amazon.com/images/S/sash/4Fyxw...</td>\n",
              "      <td>The Lord of the Rings: The Return of the King</td>\n",
              "      <td>12A</td>\n",
              "      <td>201 min</td>\n",
              "      <td>Action, Adventure, Drama</td>\n",
              "      <td>9.0</td>\n",
              "      <td>Gandalf and Aragorn lead the World of Men agai...</td>\n",
              "      <td>Peter Jackson</td>\n",
              "      <td>('Elijah Wood',), ('Viggo Mortensen',), ('Ian ...</td>\n",
              "      <td>18,01,662</td>\n",
              "      <td>$377.85M</td>\n",
              "      <td>201</td>\n",
              "      <td>377.85</td>\n",
              "      <td>377.85</td>\n",
              "    </tr>\n",
              "    <tr>\n",
              "      <th>24</th>\n",
              "      <td>https://m.media-amazon.com/images/S/sash/4Fyxw...</td>\n",
              "      <td>Schindler's List</td>\n",
              "      <td>15</td>\n",
              "      <td>195 min</td>\n",
              "      <td>Biography, Drama, History</td>\n",
              "      <td>9.0</td>\n",
              "      <td>In German-occupied Poland during World War II,...</td>\n",
              "      <td>Steven Spielberg</td>\n",
              "      <td>('Liam Neeson',), ('Ralph Fiennes',), ('Ben Ki...</td>\n",
              "      <td>13,33,407</td>\n",
              "      <td>$96.90M</td>\n",
              "      <td>195</td>\n",
              "      <td>96.90</td>\n",
              "      <td>96.90</td>\n",
              "    </tr>\n",
              "  </tbody>\n",
              "</table>\n",
              "</div>\n",
              "    <div class=\"colab-df-buttons\">\n",
              "\n",
              "  <div class=\"colab-df-container\">\n",
              "    <button class=\"colab-df-convert\" onclick=\"convertToInteractive('df-8436c3c1-99c1-4d53-8ff7-7af5fa557bd5')\"\n",
              "            title=\"Convert this dataframe to an interactive table.\"\n",
              "            style=\"display:none;\">\n",
              "\n",
              "  <svg xmlns=\"http://www.w3.org/2000/svg\" height=\"24px\" viewBox=\"0 -960 960 960\">\n",
              "    <path d=\"M120-120v-720h720v720H120Zm60-500h600v-160H180v160Zm220 220h160v-160H400v160Zm0 220h160v-160H400v160ZM180-400h160v-160H180v160Zm440 0h160v-160H620v160ZM180-180h160v-160H180v160Zm440 0h160v-160H620v160Z\"/>\n",
              "  </svg>\n",
              "    </button>\n",
              "\n",
              "  <style>\n",
              "    .colab-df-container {\n",
              "      display:flex;\n",
              "      gap: 12px;\n",
              "    }\n",
              "\n",
              "    .colab-df-convert {\n",
              "      background-color: #E8F0FE;\n",
              "      border: none;\n",
              "      border-radius: 50%;\n",
              "      cursor: pointer;\n",
              "      display: none;\n",
              "      fill: #1967D2;\n",
              "      height: 32px;\n",
              "      padding: 0 0 0 0;\n",
              "      width: 32px;\n",
              "    }\n",
              "\n",
              "    .colab-df-convert:hover {\n",
              "      background-color: #E2EBFA;\n",
              "      box-shadow: 0px 1px 2px rgba(60, 64, 67, 0.3), 0px 1px 3px 1px rgba(60, 64, 67, 0.15);\n",
              "      fill: #174EA6;\n",
              "    }\n",
              "\n",
              "    .colab-df-buttons div {\n",
              "      margin-bottom: 4px;\n",
              "    }\n",
              "\n",
              "    [theme=dark] .colab-df-convert {\n",
              "      background-color: #3B4455;\n",
              "      fill: #D2E3FC;\n",
              "    }\n",
              "\n",
              "    [theme=dark] .colab-df-convert:hover {\n",
              "      background-color: #434B5C;\n",
              "      box-shadow: 0px 1px 3px 1px rgba(0, 0, 0, 0.15);\n",
              "      filter: drop-shadow(0px 1px 2px rgba(0, 0, 0, 0.3));\n",
              "      fill: #FFFFFF;\n",
              "    }\n",
              "  </style>\n",
              "\n",
              "    <script>\n",
              "      const buttonEl =\n",
              "        document.querySelector('#df-8436c3c1-99c1-4d53-8ff7-7af5fa557bd5 button.colab-df-convert');\n",
              "      buttonEl.style.display =\n",
              "        google.colab.kernel.accessAllowed ? 'block' : 'none';\n",
              "\n",
              "      async function convertToInteractive(key) {\n",
              "        const element = document.querySelector('#df-8436c3c1-99c1-4d53-8ff7-7af5fa557bd5');\n",
              "        const dataTable =\n",
              "          await google.colab.kernel.invokeFunction('convertToInteractive',\n",
              "                                                    [key], {});\n",
              "        if (!dataTable) return;\n",
              "\n",
              "        const docLinkHtml = 'Like what you see? Visit the ' +\n",
              "          '<a target=\"_blank\" href=https://colab.research.google.com/notebooks/data_table.ipynb>data table notebook</a>'\n",
              "          + ' to learn more about interactive tables.';\n",
              "        element.innerHTML = '';\n",
              "        dataTable['output_type'] = 'display_data';\n",
              "        await google.colab.output.renderOutput(dataTable, element);\n",
              "        const docLink = document.createElement('div');\n",
              "        docLink.innerHTML = docLinkHtml;\n",
              "        element.appendChild(docLink);\n",
              "      }\n",
              "    </script>\n",
              "  </div>\n",
              "\n",
              "\n",
              "<div id=\"df-2e4640e6-05a0-499d-bc92-5baec4727bfd\">\n",
              "  <button class=\"colab-df-quickchart\" onclick=\"quickchart('df-2e4640e6-05a0-499d-bc92-5baec4727bfd')\"\n",
              "            title=\"Suggest charts\"\n",
              "            style=\"display:none;\">\n",
              "\n",
              "<svg xmlns=\"http://www.w3.org/2000/svg\" height=\"24px\"viewBox=\"0 0 24 24\"\n",
              "     width=\"24px\">\n",
              "    <g>\n",
              "        <path d=\"M19 3H5c-1.1 0-2 .9-2 2v14c0 1.1.9 2 2 2h14c1.1 0 2-.9 2-2V5c0-1.1-.9-2-2-2zM9 17H7v-7h2v7zm4 0h-2V7h2v10zm4 0h-2v-4h2v4z\"/>\n",
              "    </g>\n",
              "</svg>\n",
              "  </button>\n",
              "\n",
              "<style>\n",
              "  .colab-df-quickchart {\n",
              "      --bg-color: #E8F0FE;\n",
              "      --fill-color: #1967D2;\n",
              "      --hover-bg-color: #E2EBFA;\n",
              "      --hover-fill-color: #174EA6;\n",
              "      --disabled-fill-color: #AAA;\n",
              "      --disabled-bg-color: #DDD;\n",
              "  }\n",
              "\n",
              "  [theme=dark] .colab-df-quickchart {\n",
              "      --bg-color: #3B4455;\n",
              "      --fill-color: #D2E3FC;\n",
              "      --hover-bg-color: #434B5C;\n",
              "      --hover-fill-color: #FFFFFF;\n",
              "      --disabled-bg-color: #3B4455;\n",
              "      --disabled-fill-color: #666;\n",
              "  }\n",
              "\n",
              "  .colab-df-quickchart {\n",
              "    background-color: var(--bg-color);\n",
              "    border: none;\n",
              "    border-radius: 50%;\n",
              "    cursor: pointer;\n",
              "    display: none;\n",
              "    fill: var(--fill-color);\n",
              "    height: 32px;\n",
              "    padding: 0;\n",
              "    width: 32px;\n",
              "  }\n",
              "\n",
              "  .colab-df-quickchart:hover {\n",
              "    background-color: var(--hover-bg-color);\n",
              "    box-shadow: 0 1px 2px rgba(60, 64, 67, 0.3), 0 1px 3px 1px rgba(60, 64, 67, 0.15);\n",
              "    fill: var(--button-hover-fill-color);\n",
              "  }\n",
              "\n",
              "  .colab-df-quickchart-complete:disabled,\n",
              "  .colab-df-quickchart-complete:disabled:hover {\n",
              "    background-color: var(--disabled-bg-color);\n",
              "    fill: var(--disabled-fill-color);\n",
              "    box-shadow: none;\n",
              "  }\n",
              "\n",
              "  .colab-df-spinner {\n",
              "    border: 2px solid var(--fill-color);\n",
              "    border-color: transparent;\n",
              "    border-bottom-color: var(--fill-color);\n",
              "    animation:\n",
              "      spin 1s steps(1) infinite;\n",
              "  }\n",
              "\n",
              "  @keyframes spin {\n",
              "    0% {\n",
              "      border-color: transparent;\n",
              "      border-bottom-color: var(--fill-color);\n",
              "      border-left-color: var(--fill-color);\n",
              "    }\n",
              "    20% {\n",
              "      border-color: transparent;\n",
              "      border-left-color: var(--fill-color);\n",
              "      border-top-color: var(--fill-color);\n",
              "    }\n",
              "    30% {\n",
              "      border-color: transparent;\n",
              "      border-left-color: var(--fill-color);\n",
              "      border-top-color: var(--fill-color);\n",
              "      border-right-color: var(--fill-color);\n",
              "    }\n",
              "    40% {\n",
              "      border-color: transparent;\n",
              "      border-right-color: var(--fill-color);\n",
              "      border-top-color: var(--fill-color);\n",
              "    }\n",
              "    60% {\n",
              "      border-color: transparent;\n",
              "      border-right-color: var(--fill-color);\n",
              "    }\n",
              "    80% {\n",
              "      border-color: transparent;\n",
              "      border-right-color: var(--fill-color);\n",
              "      border-bottom-color: var(--fill-color);\n",
              "    }\n",
              "    90% {\n",
              "      border-color: transparent;\n",
              "      border-bottom-color: var(--fill-color);\n",
              "    }\n",
              "  }\n",
              "</style>\n",
              "\n",
              "  <script>\n",
              "    async function quickchart(key) {\n",
              "      const quickchartButtonEl =\n",
              "        document.querySelector('#' + key + ' button');\n",
              "      quickchartButtonEl.disabled = true;  // To prevent multiple clicks.\n",
              "      quickchartButtonEl.classList.add('colab-df-spinner');\n",
              "      try {\n",
              "        const charts = await google.colab.kernel.invokeFunction(\n",
              "            'suggestCharts', [key], {});\n",
              "      } catch (error) {\n",
              "        console.error('Error during call to suggestCharts:', error);\n",
              "      }\n",
              "      quickchartButtonEl.classList.remove('colab-df-spinner');\n",
              "      quickchartButtonEl.classList.add('colab-df-quickchart-complete');\n",
              "    }\n",
              "    (() => {\n",
              "      let quickchartButtonEl =\n",
              "        document.querySelector('#df-2e4640e6-05a0-499d-bc92-5baec4727bfd button');\n",
              "      quickchartButtonEl.style.display =\n",
              "        google.colab.kernel.accessAllowed ? 'block' : 'none';\n",
              "    })();\n",
              "  </script>\n",
              "</div>\n",
              "    </div>\n",
              "  </div>\n"
            ],
            "application/vnd.google.colaboratory.intrinsic+json": {
              "type": "dataframe",
              "variable_name": "sorted_dataset",
              "summary": "{\n  \"name\": \"sorted_dataset\",\n  \"rows\": 4970,\n  \"fields\": [\n    {\n      \"column\": \"poster\",\n      \"properties\": {\n        \"dtype\": \"category\",\n        \"num_unique_values\": 1,\n        \"samples\": [\n          \"https://m.media-amazon.com/images/S/sash/4FyxwxECzL-U1J8.png\"\n        ],\n        \"semantic_type\": \"\",\n        \"description\": \"\"\n      }\n    },\n    {\n      \"column\": \"title\",\n      \"properties\": {\n        \"dtype\": \"string\",\n        \"num_unique_values\": 4863,\n        \"samples\": [\n          \"Beaches\"\n        ],\n        \"semantic_type\": \"\",\n        \"description\": \"\"\n      }\n    },\n    {\n      \"column\": \"certificate\",\n      \"properties\": {\n        \"dtype\": \"category\",\n        \"num_unique_values\": 15,\n        \"samples\": [\n          \"AA\"\n        ],\n        \"semantic_type\": \"\",\n        \"description\": \"\"\n      }\n    },\n    {\n      \"column\": \"runtime\",\n      \"properties\": {\n        \"dtype\": \"category\",\n        \"num_unique_values\": 151,\n        \"samples\": [\n          \"238 min\"\n        ],\n        \"semantic_type\": \"\",\n        \"description\": \"\"\n      }\n    },\n    {\n      \"column\": \"genre\",\n      \"properties\": {\n        \"dtype\": \"category\",\n        \"num_unique_values\": 346,\n        \"samples\": [\n          \"Adventure, Family, Fantasy\"\n        ],\n        \"semantic_type\": \"\",\n        \"description\": \"\"\n      }\n    },\n    {\n      \"column\": \"rating\",\n      \"properties\": {\n        \"dtype\": \"number\",\n        \"std\": 0.967944807473982,\n        \"min\": 1.5,\n        \"max\": 9.3,\n        \"num_unique_values\": 72,\n        \"samples\": [\n          8.8\n        ],\n        \"semantic_type\": \"\",\n        \"description\": \"\"\n      }\n    },\n    {\n      \"column\": \"about\",\n      \"properties\": {\n        \"dtype\": \"string\",\n        \"num_unique_values\": 4946,\n        \"samples\": [\n          \"An elderly man and his dog struggle to survive on his government pension in Rome.\"\n        ],\n        \"semantic_type\": \"\",\n        \"description\": \"\"\n      }\n    },\n    {\n      \"column\": \"director\",\n      \"properties\": {\n        \"dtype\": \"category\",\n        \"num_unique_values\": 1954,\n        \"samples\": [\n          \"Paul Tibbitt\"\n        ],\n        \"semantic_type\": \"\",\n        \"description\": \"\"\n      }\n    },\n    {\n      \"column\": \"stars\",\n      \"properties\": {\n        \"dtype\": \"string\",\n        \"num_unique_values\": 4940,\n        \"samples\": [\n          \"('Amy Adams',), ('Meryl Streep',), ('Chris Messina',), ('Stanley Tucci',)\"\n        ],\n        \"semantic_type\": \"\",\n        \"description\": \"\"\n      }\n    },\n    {\n      \"column\": \"votes\",\n      \"properties\": {\n        \"dtype\": \"string\",\n        \"num_unique_values\": 4889,\n        \"samples\": [\n          \"1,67,236\"\n        ],\n        \"semantic_type\": \"\",\n        \"description\": \"\"\n      }\n    },\n    {\n      \"column\": \"gross_earn\",\n      \"properties\": {\n        \"dtype\": \"string\",\n        \"num_unique_values\": 3366,\n        \"samples\": [\n          \"$116.63M\"\n        ],\n        \"semantic_type\": \"\",\n        \"description\": \"\"\n      }\n    },\n    {\n      \"column\": \"runtime_clear\",\n      \"properties\": {\n        \"dtype\": \"number\",\n        \"std\": 21,\n        \"min\": 45,\n        \"max\": 366,\n        \"num_unique_values\": 151,\n        \"samples\": [\n          238\n        ],\n        \"semantic_type\": \"\",\n        \"description\": \"\"\n      }\n    },\n    {\n      \"column\": \"gross_earn_clean\",\n      \"properties\": {\n        \"dtype\": \"string\",\n        \"num_unique_values\": 3367,\n        \"samples\": [\n          \"1.16\"\n        ],\n        \"semantic_type\": \"\",\n        \"description\": \"\"\n      }\n    },\n    {\n      \"column\": \"gross_earn_clear\",\n      \"properties\": {\n        \"dtype\": \"string\",\n        \"num_unique_values\": 3366,\n        \"samples\": [\n          \"116.63\"\n        ],\n        \"semantic_type\": \"\",\n        \"description\": \"\"\n      }\n    }\n  ]\n}"
            }
          },
          "metadata": {},
          "execution_count": 60
        }
      ],
      "source": [
        "sorted_dataset = dataset.sort_values(by='rating', ascending=False)\n",
        "sorted_dataset.head()"
      ]
    },
    {
      "cell_type": "markdown",
      "metadata": {
        "id": "vAJp76vN0gTL"
      },
      "source": [
        "## 7. Переопределение индексов"
      ]
    },
    {
      "cell_type": "markdown",
      "metadata": {
        "id": "jTBRnhPhvcoT"
      },
      "source": [
        "Переопределите индексы по порядку с помощью метода reset_index() с переданными в него параметрами drop=True для удаления предыдущего столбца индексов и inplace=True для автоматической перезаписи таблицы"
      ]
    },
    {
      "cell_type": "code",
      "execution_count": 63,
      "metadata": {
        "id": "YK8ZVEoB0L9o",
        "colab": {
          "base_uri": "https://localhost:8080/",
          "height": 649
        },
        "outputId": "97e5cc6b-d437-4a99-d941-706f30329956"
      },
      "outputs": [
        {
          "output_type": "execute_result",
          "data": {
            "text/plain": [
              "                                              poster  \\\n",
              "0  https://m.media-amazon.com/images/S/sash/4Fyxw...   \n",
              "1  https://m.media-amazon.com/images/S/sash/4Fyxw...   \n",
              "2  https://m.media-amazon.com/images/S/sash/4Fyxw...   \n",
              "3  https://m.media-amazon.com/images/S/sash/4Fyxw...   \n",
              "4  https://m.media-amazon.com/images/S/sash/4Fyxw...   \n",
              "\n",
              "                                           title certificate  runtime  \\\n",
              "0                       The Shawshank Redemption          15  142 min   \n",
              "1                                  The Godfather           X  175 min   \n",
              "2                                 Hababam Sinifi         12A   87 min   \n",
              "3  The Lord of the Rings: The Return of the King         12A  201 min   \n",
              "4                               Schindler's List          15  195 min   \n",
              "\n",
              "                       genre  rating  \\\n",
              "0                      Drama     9.3   \n",
              "1               Crime, Drama     9.2   \n",
              "2              Comedy, Drama     9.2   \n",
              "3   Action, Adventure, Drama     9.0   \n",
              "4  Biography, Drama, History     9.0   \n",
              "\n",
              "                                               about              director  \\\n",
              "0  Two imprisoned men bond over a number of years...        Frank Darabont   \n",
              "1  The aging patriarch of an organized crime dyna...  Francis Ford Coppola   \n",
              "2  Lazy, uneducated students share a very close b...         Ertem Egilmez   \n",
              "3  Gandalf and Aragorn lead the World of Men agai...         Peter Jackson   \n",
              "4  In German-occupied Poland during World War II,...      Steven Spielberg   \n",
              "\n",
              "                                               stars      votes gross_earn  \\\n",
              "0  ('Tim Robbins',), ('Morgan Freeman',), ('Bob G...  26,26,905    $28.34M   \n",
              "1  ('Marlon Brando',), ('Al Pacino',), ('James Ca...  18,19,641   $134.97M   \n",
              "2  ('Kemal Sunal',), ('Münir Özkul',), ('Halit Ak...     40,492        NaN   \n",
              "3  ('Elijah Wood',), ('Viggo Mortensen',), ('Ian ...  18,01,662   $377.85M   \n",
              "4  ('Liam Neeson',), ('Ralph Fiennes',), ('Ben Ki...  13,33,407    $96.90M   \n",
              "\n",
              "   runtime_clear gross_earn_clean gross_earn_clear  \n",
              "0            142            28.34            28.34  \n",
              "1            175           134.97           134.97  \n",
              "2             87                               NaN  \n",
              "3            201           377.85           377.85  \n",
              "4            195            96.90            96.90  "
            ],
            "text/html": [
              "\n",
              "  <div id=\"df-6dc8feca-8c56-426a-8e5b-ed9d6ab2f586\" class=\"colab-df-container\">\n",
              "    <div>\n",
              "<style scoped>\n",
              "    .dataframe tbody tr th:only-of-type {\n",
              "        vertical-align: middle;\n",
              "    }\n",
              "\n",
              "    .dataframe tbody tr th {\n",
              "        vertical-align: top;\n",
              "    }\n",
              "\n",
              "    .dataframe thead th {\n",
              "        text-align: right;\n",
              "    }\n",
              "</style>\n",
              "<table border=\"1\" class=\"dataframe\">\n",
              "  <thead>\n",
              "    <tr style=\"text-align: right;\">\n",
              "      <th></th>\n",
              "      <th>poster</th>\n",
              "      <th>title</th>\n",
              "      <th>certificate</th>\n",
              "      <th>runtime</th>\n",
              "      <th>genre</th>\n",
              "      <th>rating</th>\n",
              "      <th>about</th>\n",
              "      <th>director</th>\n",
              "      <th>stars</th>\n",
              "      <th>votes</th>\n",
              "      <th>gross_earn</th>\n",
              "      <th>runtime_clear</th>\n",
              "      <th>gross_earn_clean</th>\n",
              "      <th>gross_earn_clear</th>\n",
              "    </tr>\n",
              "  </thead>\n",
              "  <tbody>\n",
              "    <tr>\n",
              "      <th>0</th>\n",
              "      <td>https://m.media-amazon.com/images/S/sash/4Fyxw...</td>\n",
              "      <td>The Shawshank Redemption</td>\n",
              "      <td>15</td>\n",
              "      <td>142 min</td>\n",
              "      <td>Drama</td>\n",
              "      <td>9.3</td>\n",
              "      <td>Two imprisoned men bond over a number of years...</td>\n",
              "      <td>Frank Darabont</td>\n",
              "      <td>('Tim Robbins',), ('Morgan Freeman',), ('Bob G...</td>\n",
              "      <td>26,26,905</td>\n",
              "      <td>$28.34M</td>\n",
              "      <td>142</td>\n",
              "      <td>28.34</td>\n",
              "      <td>28.34</td>\n",
              "    </tr>\n",
              "    <tr>\n",
              "      <th>1</th>\n",
              "      <td>https://m.media-amazon.com/images/S/sash/4Fyxw...</td>\n",
              "      <td>The Godfather</td>\n",
              "      <td>X</td>\n",
              "      <td>175 min</td>\n",
              "      <td>Crime, Drama</td>\n",
              "      <td>9.2</td>\n",
              "      <td>The aging patriarch of an organized crime dyna...</td>\n",
              "      <td>Francis Ford Coppola</td>\n",
              "      <td>('Marlon Brando',), ('Al Pacino',), ('James Ca...</td>\n",
              "      <td>18,19,641</td>\n",
              "      <td>$134.97M</td>\n",
              "      <td>175</td>\n",
              "      <td>134.97</td>\n",
              "      <td>134.97</td>\n",
              "    </tr>\n",
              "    <tr>\n",
              "      <th>2</th>\n",
              "      <td>https://m.media-amazon.com/images/S/sash/4Fyxw...</td>\n",
              "      <td>Hababam Sinifi</td>\n",
              "      <td>12A</td>\n",
              "      <td>87 min</td>\n",
              "      <td>Comedy, Drama</td>\n",
              "      <td>9.2</td>\n",
              "      <td>Lazy, uneducated students share a very close b...</td>\n",
              "      <td>Ertem Egilmez</td>\n",
              "      <td>('Kemal Sunal',), ('Münir Özkul',), ('Halit Ak...</td>\n",
              "      <td>40,492</td>\n",
              "      <td>NaN</td>\n",
              "      <td>87</td>\n",
              "      <td></td>\n",
              "      <td>NaN</td>\n",
              "    </tr>\n",
              "    <tr>\n",
              "      <th>3</th>\n",
              "      <td>https://m.media-amazon.com/images/S/sash/4Fyxw...</td>\n",
              "      <td>The Lord of the Rings: The Return of the King</td>\n",
              "      <td>12A</td>\n",
              "      <td>201 min</td>\n",
              "      <td>Action, Adventure, Drama</td>\n",
              "      <td>9.0</td>\n",
              "      <td>Gandalf and Aragorn lead the World of Men agai...</td>\n",
              "      <td>Peter Jackson</td>\n",
              "      <td>('Elijah Wood',), ('Viggo Mortensen',), ('Ian ...</td>\n",
              "      <td>18,01,662</td>\n",
              "      <td>$377.85M</td>\n",
              "      <td>201</td>\n",
              "      <td>377.85</td>\n",
              "      <td>377.85</td>\n",
              "    </tr>\n",
              "    <tr>\n",
              "      <th>4</th>\n",
              "      <td>https://m.media-amazon.com/images/S/sash/4Fyxw...</td>\n",
              "      <td>Schindler's List</td>\n",
              "      <td>15</td>\n",
              "      <td>195 min</td>\n",
              "      <td>Biography, Drama, History</td>\n",
              "      <td>9.0</td>\n",
              "      <td>In German-occupied Poland during World War II,...</td>\n",
              "      <td>Steven Spielberg</td>\n",
              "      <td>('Liam Neeson',), ('Ralph Fiennes',), ('Ben Ki...</td>\n",
              "      <td>13,33,407</td>\n",
              "      <td>$96.90M</td>\n",
              "      <td>195</td>\n",
              "      <td>96.90</td>\n",
              "      <td>96.90</td>\n",
              "    </tr>\n",
              "  </tbody>\n",
              "</table>\n",
              "</div>\n",
              "    <div class=\"colab-df-buttons\">\n",
              "\n",
              "  <div class=\"colab-df-container\">\n",
              "    <button class=\"colab-df-convert\" onclick=\"convertToInteractive('df-6dc8feca-8c56-426a-8e5b-ed9d6ab2f586')\"\n",
              "            title=\"Convert this dataframe to an interactive table.\"\n",
              "            style=\"display:none;\">\n",
              "\n",
              "  <svg xmlns=\"http://www.w3.org/2000/svg\" height=\"24px\" viewBox=\"0 -960 960 960\">\n",
              "    <path d=\"M120-120v-720h720v720H120Zm60-500h600v-160H180v160Zm220 220h160v-160H400v160Zm0 220h160v-160H400v160ZM180-400h160v-160H180v160Zm440 0h160v-160H620v160ZM180-180h160v-160H180v160Zm440 0h160v-160H620v160Z\"/>\n",
              "  </svg>\n",
              "    </button>\n",
              "\n",
              "  <style>\n",
              "    .colab-df-container {\n",
              "      display:flex;\n",
              "      gap: 12px;\n",
              "    }\n",
              "\n",
              "    .colab-df-convert {\n",
              "      background-color: #E8F0FE;\n",
              "      border: none;\n",
              "      border-radius: 50%;\n",
              "      cursor: pointer;\n",
              "      display: none;\n",
              "      fill: #1967D2;\n",
              "      height: 32px;\n",
              "      padding: 0 0 0 0;\n",
              "      width: 32px;\n",
              "    }\n",
              "\n",
              "    .colab-df-convert:hover {\n",
              "      background-color: #E2EBFA;\n",
              "      box-shadow: 0px 1px 2px rgba(60, 64, 67, 0.3), 0px 1px 3px 1px rgba(60, 64, 67, 0.15);\n",
              "      fill: #174EA6;\n",
              "    }\n",
              "\n",
              "    .colab-df-buttons div {\n",
              "      margin-bottom: 4px;\n",
              "    }\n",
              "\n",
              "    [theme=dark] .colab-df-convert {\n",
              "      background-color: #3B4455;\n",
              "      fill: #D2E3FC;\n",
              "    }\n",
              "\n",
              "    [theme=dark] .colab-df-convert:hover {\n",
              "      background-color: #434B5C;\n",
              "      box-shadow: 0px 1px 3px 1px rgba(0, 0, 0, 0.15);\n",
              "      filter: drop-shadow(0px 1px 2px rgba(0, 0, 0, 0.3));\n",
              "      fill: #FFFFFF;\n",
              "    }\n",
              "  </style>\n",
              "\n",
              "    <script>\n",
              "      const buttonEl =\n",
              "        document.querySelector('#df-6dc8feca-8c56-426a-8e5b-ed9d6ab2f586 button.colab-df-convert');\n",
              "      buttonEl.style.display =\n",
              "        google.colab.kernel.accessAllowed ? 'block' : 'none';\n",
              "\n",
              "      async function convertToInteractive(key) {\n",
              "        const element = document.querySelector('#df-6dc8feca-8c56-426a-8e5b-ed9d6ab2f586');\n",
              "        const dataTable =\n",
              "          await google.colab.kernel.invokeFunction('convertToInteractive',\n",
              "                                                    [key], {});\n",
              "        if (!dataTable) return;\n",
              "\n",
              "        const docLinkHtml = 'Like what you see? Visit the ' +\n",
              "          '<a target=\"_blank\" href=https://colab.research.google.com/notebooks/data_table.ipynb>data table notebook</a>'\n",
              "          + ' to learn more about interactive tables.';\n",
              "        element.innerHTML = '';\n",
              "        dataTable['output_type'] = 'display_data';\n",
              "        await google.colab.output.renderOutput(dataTable, element);\n",
              "        const docLink = document.createElement('div');\n",
              "        docLink.innerHTML = docLinkHtml;\n",
              "        element.appendChild(docLink);\n",
              "      }\n",
              "    </script>\n",
              "  </div>\n",
              "\n",
              "\n",
              "<div id=\"df-00cbf605-9ced-421e-891c-a30a551c3f8f\">\n",
              "  <button class=\"colab-df-quickchart\" onclick=\"quickchart('df-00cbf605-9ced-421e-891c-a30a551c3f8f')\"\n",
              "            title=\"Suggest charts\"\n",
              "            style=\"display:none;\">\n",
              "\n",
              "<svg xmlns=\"http://www.w3.org/2000/svg\" height=\"24px\"viewBox=\"0 0 24 24\"\n",
              "     width=\"24px\">\n",
              "    <g>\n",
              "        <path d=\"M19 3H5c-1.1 0-2 .9-2 2v14c0 1.1.9 2 2 2h14c1.1 0 2-.9 2-2V5c0-1.1-.9-2-2-2zM9 17H7v-7h2v7zm4 0h-2V7h2v10zm4 0h-2v-4h2v4z\"/>\n",
              "    </g>\n",
              "</svg>\n",
              "  </button>\n",
              "\n",
              "<style>\n",
              "  .colab-df-quickchart {\n",
              "      --bg-color: #E8F0FE;\n",
              "      --fill-color: #1967D2;\n",
              "      --hover-bg-color: #E2EBFA;\n",
              "      --hover-fill-color: #174EA6;\n",
              "      --disabled-fill-color: #AAA;\n",
              "      --disabled-bg-color: #DDD;\n",
              "  }\n",
              "\n",
              "  [theme=dark] .colab-df-quickchart {\n",
              "      --bg-color: #3B4455;\n",
              "      --fill-color: #D2E3FC;\n",
              "      --hover-bg-color: #434B5C;\n",
              "      --hover-fill-color: #FFFFFF;\n",
              "      --disabled-bg-color: #3B4455;\n",
              "      --disabled-fill-color: #666;\n",
              "  }\n",
              "\n",
              "  .colab-df-quickchart {\n",
              "    background-color: var(--bg-color);\n",
              "    border: none;\n",
              "    border-radius: 50%;\n",
              "    cursor: pointer;\n",
              "    display: none;\n",
              "    fill: var(--fill-color);\n",
              "    height: 32px;\n",
              "    padding: 0;\n",
              "    width: 32px;\n",
              "  }\n",
              "\n",
              "  .colab-df-quickchart:hover {\n",
              "    background-color: var(--hover-bg-color);\n",
              "    box-shadow: 0 1px 2px rgba(60, 64, 67, 0.3), 0 1px 3px 1px rgba(60, 64, 67, 0.15);\n",
              "    fill: var(--button-hover-fill-color);\n",
              "  }\n",
              "\n",
              "  .colab-df-quickchart-complete:disabled,\n",
              "  .colab-df-quickchart-complete:disabled:hover {\n",
              "    background-color: var(--disabled-bg-color);\n",
              "    fill: var(--disabled-fill-color);\n",
              "    box-shadow: none;\n",
              "  }\n",
              "\n",
              "  .colab-df-spinner {\n",
              "    border: 2px solid var(--fill-color);\n",
              "    border-color: transparent;\n",
              "    border-bottom-color: var(--fill-color);\n",
              "    animation:\n",
              "      spin 1s steps(1) infinite;\n",
              "  }\n",
              "\n",
              "  @keyframes spin {\n",
              "    0% {\n",
              "      border-color: transparent;\n",
              "      border-bottom-color: var(--fill-color);\n",
              "      border-left-color: var(--fill-color);\n",
              "    }\n",
              "    20% {\n",
              "      border-color: transparent;\n",
              "      border-left-color: var(--fill-color);\n",
              "      border-top-color: var(--fill-color);\n",
              "    }\n",
              "    30% {\n",
              "      border-color: transparent;\n",
              "      border-left-color: var(--fill-color);\n",
              "      border-top-color: var(--fill-color);\n",
              "      border-right-color: var(--fill-color);\n",
              "    }\n",
              "    40% {\n",
              "      border-color: transparent;\n",
              "      border-right-color: var(--fill-color);\n",
              "      border-top-color: var(--fill-color);\n",
              "    }\n",
              "    60% {\n",
              "      border-color: transparent;\n",
              "      border-right-color: var(--fill-color);\n",
              "    }\n",
              "    80% {\n",
              "      border-color: transparent;\n",
              "      border-right-color: var(--fill-color);\n",
              "      border-bottom-color: var(--fill-color);\n",
              "    }\n",
              "    90% {\n",
              "      border-color: transparent;\n",
              "      border-bottom-color: var(--fill-color);\n",
              "    }\n",
              "  }\n",
              "</style>\n",
              "\n",
              "  <script>\n",
              "    async function quickchart(key) {\n",
              "      const quickchartButtonEl =\n",
              "        document.querySelector('#' + key + ' button');\n",
              "      quickchartButtonEl.disabled = true;  // To prevent multiple clicks.\n",
              "      quickchartButtonEl.classList.add('colab-df-spinner');\n",
              "      try {\n",
              "        const charts = await google.colab.kernel.invokeFunction(\n",
              "            'suggestCharts', [key], {});\n",
              "      } catch (error) {\n",
              "        console.error('Error during call to suggestCharts:', error);\n",
              "      }\n",
              "      quickchartButtonEl.classList.remove('colab-df-spinner');\n",
              "      quickchartButtonEl.classList.add('colab-df-quickchart-complete');\n",
              "    }\n",
              "    (() => {\n",
              "      let quickchartButtonEl =\n",
              "        document.querySelector('#df-00cbf605-9ced-421e-891c-a30a551c3f8f button');\n",
              "      quickchartButtonEl.style.display =\n",
              "        google.colab.kernel.accessAllowed ? 'block' : 'none';\n",
              "    })();\n",
              "  </script>\n",
              "</div>\n",
              "    </div>\n",
              "  </div>\n"
            ],
            "application/vnd.google.colaboratory.intrinsic+json": {
              "type": "dataframe",
              "variable_name": "sorted_dataset",
              "summary": "{\n  \"name\": \"sorted_dataset\",\n  \"rows\": 4970,\n  \"fields\": [\n    {\n      \"column\": \"poster\",\n      \"properties\": {\n        \"dtype\": \"category\",\n        \"num_unique_values\": 1,\n        \"samples\": [\n          \"https://m.media-amazon.com/images/S/sash/4FyxwxECzL-U1J8.png\"\n        ],\n        \"semantic_type\": \"\",\n        \"description\": \"\"\n      }\n    },\n    {\n      \"column\": \"title\",\n      \"properties\": {\n        \"dtype\": \"string\",\n        \"num_unique_values\": 4863,\n        \"samples\": [\n          \"Beaches\"\n        ],\n        \"semantic_type\": \"\",\n        \"description\": \"\"\n      }\n    },\n    {\n      \"column\": \"certificate\",\n      \"properties\": {\n        \"dtype\": \"category\",\n        \"num_unique_values\": 15,\n        \"samples\": [\n          \"AA\"\n        ],\n        \"semantic_type\": \"\",\n        \"description\": \"\"\n      }\n    },\n    {\n      \"column\": \"runtime\",\n      \"properties\": {\n        \"dtype\": \"category\",\n        \"num_unique_values\": 151,\n        \"samples\": [\n          \"238 min\"\n        ],\n        \"semantic_type\": \"\",\n        \"description\": \"\"\n      }\n    },\n    {\n      \"column\": \"genre\",\n      \"properties\": {\n        \"dtype\": \"category\",\n        \"num_unique_values\": 346,\n        \"samples\": [\n          \"Adventure, Family, Fantasy\"\n        ],\n        \"semantic_type\": \"\",\n        \"description\": \"\"\n      }\n    },\n    {\n      \"column\": \"rating\",\n      \"properties\": {\n        \"dtype\": \"number\",\n        \"std\": 0.967944807473982,\n        \"min\": 1.5,\n        \"max\": 9.3,\n        \"num_unique_values\": 72,\n        \"samples\": [\n          8.8\n        ],\n        \"semantic_type\": \"\",\n        \"description\": \"\"\n      }\n    },\n    {\n      \"column\": \"about\",\n      \"properties\": {\n        \"dtype\": \"string\",\n        \"num_unique_values\": 4946,\n        \"samples\": [\n          \"An elderly man and his dog struggle to survive on his government pension in Rome.\"\n        ],\n        \"semantic_type\": \"\",\n        \"description\": \"\"\n      }\n    },\n    {\n      \"column\": \"director\",\n      \"properties\": {\n        \"dtype\": \"category\",\n        \"num_unique_values\": 1954,\n        \"samples\": [\n          \"Paul Tibbitt\"\n        ],\n        \"semantic_type\": \"\",\n        \"description\": \"\"\n      }\n    },\n    {\n      \"column\": \"stars\",\n      \"properties\": {\n        \"dtype\": \"string\",\n        \"num_unique_values\": 4940,\n        \"samples\": [\n          \"('Amy Adams',), ('Meryl Streep',), ('Chris Messina',), ('Stanley Tucci',)\"\n        ],\n        \"semantic_type\": \"\",\n        \"description\": \"\"\n      }\n    },\n    {\n      \"column\": \"votes\",\n      \"properties\": {\n        \"dtype\": \"string\",\n        \"num_unique_values\": 4889,\n        \"samples\": [\n          \"1,67,236\"\n        ],\n        \"semantic_type\": \"\",\n        \"description\": \"\"\n      }\n    },\n    {\n      \"column\": \"gross_earn\",\n      \"properties\": {\n        \"dtype\": \"string\",\n        \"num_unique_values\": 3366,\n        \"samples\": [\n          \"$116.63M\"\n        ],\n        \"semantic_type\": \"\",\n        \"description\": \"\"\n      }\n    },\n    {\n      \"column\": \"runtime_clear\",\n      \"properties\": {\n        \"dtype\": \"number\",\n        \"std\": 21,\n        \"min\": 45,\n        \"max\": 366,\n        \"num_unique_values\": 151,\n        \"samples\": [\n          238\n        ],\n        \"semantic_type\": \"\",\n        \"description\": \"\"\n      }\n    },\n    {\n      \"column\": \"gross_earn_clean\",\n      \"properties\": {\n        \"dtype\": \"string\",\n        \"num_unique_values\": 3367,\n        \"samples\": [\n          \"1.16\"\n        ],\n        \"semantic_type\": \"\",\n        \"description\": \"\"\n      }\n    },\n    {\n      \"column\": \"gross_earn_clear\",\n      \"properties\": {\n        \"dtype\": \"string\",\n        \"num_unique_values\": 3366,\n        \"samples\": [\n          \"116.63\"\n        ],\n        \"semantic_type\": \"\",\n        \"description\": \"\"\n      }\n    }\n  ]\n}"
            }
          },
          "metadata": {},
          "execution_count": 63
        }
      ],
      "source": [
        "sorted_dataset.reset_index(drop=True, inplace=True)\n",
        "sorted_dataset.head()"
      ]
    },
    {
      "cell_type": "markdown",
      "metadata": {
        "id": "rfhui4VDeBZ9"
      },
      "source": [
        "## 8. Сохранение датасета"
      ]
    },
    {
      "cell_type": "markdown",
      "metadata": {
        "id": "BM47OTjHv1K_"
      },
      "source": [
        "Сохраните датасет под названием movies_clean в формате csv и скачайте его себе на ПК. Он Понадобится Вам при дальнейшем выполнении тренировочных заданий"
      ]
    },
    {
      "cell_type": "code",
      "execution_count": 64,
      "metadata": {
        "id": "mQE36Xmz0z_6"
      },
      "outputs": [],
      "source": [
        "sorted_dataset.to_csv('/content/movies.csv')"
      ]
    },
    {
      "cell_type": "markdown",
      "metadata": {
        "id": "jqnyCEDkwGvN"
      },
      "source": [
        "**Поздравляем! Часть 1 задания по модулю EDA выполнена! Далее Вас ожидает разведочный анализ данных!**"
      ]
    }
  ],
  "metadata": {
    "colab": {
      "provenance": []
    },
    "kernelspec": {
      "display_name": "base",
      "language": "python",
      "name": "python3"
    },
    "language_info": {
      "codemirror_mode": {
        "name": "ipython",
        "version": 3
      },
      "file_extension": ".py",
      "mimetype": "text/x-python",
      "name": "python",
      "nbconvert_exporter": "python",
      "pygments_lexer": "ipython3",
      "version": "3.12.4"
    }
  },
  "nbformat": 4,
  "nbformat_minor": 0
}