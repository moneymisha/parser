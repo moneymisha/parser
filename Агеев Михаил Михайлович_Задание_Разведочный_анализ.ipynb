{
  "cells": [
    {
      "cell_type": "markdown",
      "source": [
        "![](https://adabul.com/wp-content/uploads/2020/04/diziler-360x240.jpg)"
      ],
      "metadata": {
        "id": "bRlt8IT50V6E"
      }
    },
    {
      "cell_type": "markdown",
      "source": [
        "## 1. Описание датасета и задания"
      ],
      "metadata": {
        "id": "0ht58TIfi___"
      }
    },
    {
      "cell_type": "markdown",
      "source": [
        "Представлен датасет с данными о 5000 фильмах, имеющих наибольший рейтинг на сайте IMDb (датасет выложен на платформе [Kaggle](https://www.kaggle.com/datasets/totoro29/imdb-movies))."
      ],
      "metadata": {
        "id": "ODZr1pzSjUEZ"
      }
    },
    {
      "cell_type": "markdown",
      "source": [
        "***Информация, содержащаяся в датасете:***\n",
        "1.   Ссылка на постер фильма (poster).\n",
        "2.   Наименование фильма (title).\n",
        "3.   Класс фильма по рейтингу the British Board of Film Classification (BBFC) (certificate).\n",
        "4.   Продолжительность фильма (runtime).\n",
        "5.   Жанр фильма (genre).\n",
        "6.   Рейтинг фильма на платформе IMBD (rating).\n",
        "7.   Описание сюжета фильма (about).\n",
        "8.   Кинорежиссер фильма (director).\n",
        "9.   Актеры-звезды фильма (stars).\n",
        "10.  Количество проголосовавших за фильм (votes).\n",
        "11.  Доход с фильма (gross_earn)."
      ],
      "metadata": {
        "id": "iWWmlDbT0blB"
      }
    },
    {
      "cell_type": "markdown",
      "source": [
        "**Задача** — провести разведочный анализ данных, найти взаимосвязи и сформулировать выводы."
      ],
      "metadata": {
        "id": "sDysJljz0fjg"
      }
    },
    {
      "cell_type": "markdown",
      "source": [
        "1.   Выполнить неграфический и графический анализ количественных признаков.\n",
        "2.   Выполнить неграфический и графический анализ категориальных признаков.\n",
        "3.   Выполнить анализ взаимосвязи двух количественных признаков.\n",
        "4.   Выполнить анализ взаимосвязи двух категориальных признаков.\n",
        "5.   Выполнить анализ взаимосвязи количественного и категориального признаков."
      ],
      "metadata": {
        "id": "9p3eZu8en6G2"
      }
    },
    {
      "cell_type": "markdown",
      "source": [
        "****Задания со звездочкой факультативные (дополнительные)***"
      ],
      "metadata": {
        "id": "HTuuCUIxH74Q"
      }
    },
    {
      "cell_type": "markdown",
      "source": [
        "## 2. Загрузка датасета"
      ],
      "metadata": {
        "id": "Tjg16j1yj7h3"
      }
    },
    {
      "cell_type": "markdown",
      "source": [
        "Импортируйте модуль files для подгрузки датасета с ПК"
      ],
      "metadata": {
        "id": "y49E3GkC9UX7"
      }
    },
    {
      "cell_type": "code",
      "source": [
        "from google.colab import files"
      ],
      "metadata": {
        "id": "HjA1iTVTqQo5"
      },
      "execution_count": null,
      "outputs": []
    },
    {
      "cell_type": "markdown",
      "source": [
        "Загрузите файл movies_clean.csv (сохранен по итогу выполнения предыдущего задания) с помощью files.upload()"
      ],
      "metadata": {
        "id": "Xit-BLDS9c27"
      }
    },
    {
      "cell_type": "code",
      "source": [
        "files.upload()"
      ],
      "metadata": {
        "id": "6tIQ34wTqUCz"
      },
      "execution_count": null,
      "outputs": []
    },
    {
      "cell_type": "markdown",
      "source": [
        "## 3. Подгрузка данных в питон и начало работы с ними"
      ],
      "metadata": {
        "id": "Ui2UmktdkfBX"
      }
    },
    {
      "cell_type": "markdown",
      "source": [
        "Импортируйте библиотеку pandas и присвойте ей короткое название pd"
      ],
      "metadata": {
        "id": "q1wUeS8N-Ac4"
      }
    },
    {
      "cell_type": "code",
      "execution_count": null,
      "metadata": {
        "id": "HDirS7pLCdac"
      },
      "outputs": [],
      "source": [
        "import"
      ]
    },
    {
      "cell_type": "markdown",
      "source": [
        "Откройте датасет movies_clean.csv и сохраните его в переменную dataset"
      ],
      "metadata": {
        "id": "jXLXQ-kY-B1E"
      }
    },
    {
      "cell_type": "code",
      "execution_count": null,
      "metadata": {
        "id": "PXy_b8D-DYxq"
      },
      "outputs": [],
      "source": [
        "dataset = pd.read"
      ]
    },
    {
      "cell_type": "markdown",
      "source": [
        "Проведите обзор таблицы с помощью метода head()"
      ],
      "metadata": {
        "id": "kYPjQVza-GMl"
      }
    },
    {
      "cell_type": "code",
      "source": [
        "dataset."
      ],
      "metadata": {
        "id": "777NV7RZkwos"
      },
      "execution_count": null,
      "outputs": []
    },
    {
      "cell_type": "markdown",
      "source": [
        "Удалите столбец 'Unnamed: 0' как ненужный с помощью метода drop(), передав в него параметры columns и inplace=True"
      ],
      "metadata": {
        "id": "-ZBXKlsk-KBh"
      }
    },
    {
      "cell_type": "code",
      "source": [
        "dataset.drop(columns='Unnamed: 0', inplace=True)"
      ],
      "metadata": {
        "id": "memX1_CzI44-"
      },
      "execution_count": null,
      "outputs": []
    },
    {
      "cell_type": "markdown",
      "source": [
        "## 4. Оценка размеров датасета, выбор признаков для анализа"
      ],
      "metadata": {
        "id": "3uHWsjiUlAVn"
      }
    },
    {
      "cell_type": "markdown",
      "source": [
        "Оцените размеры датасета с помощью атрибута shape"
      ],
      "metadata": {
        "id": "UKQGc9s2-fEj"
      }
    },
    {
      "cell_type": "code",
      "execution_count": null,
      "metadata": {
        "id": "Mbniz7lAHMdW"
      },
      "outputs": [],
      "source": [
        "dataset"
      ]
    },
    {
      "cell_type": "markdown",
      "source": [
        "Выведите информацию о датасете с помощью метода info()"
      ],
      "metadata": {
        "id": "zSMMwr0D-iKE"
      }
    },
    {
      "cell_type": "code",
      "source": [
        "dataset"
      ],
      "metadata": {
        "id": "Rb9-5dw7lL-_"
      },
      "execution_count": null,
      "outputs": []
    },
    {
      "cell_type": "markdown",
      "source": [
        "**Признаки, которые будут использованы для дальнейшего анализа:**"
      ],
      "metadata": {
        "id": "2uVZ_o9--met"
      }
    },
    {
      "cell_type": "markdown",
      "source": [
        "***Количественные признаки:***\n",
        "1.   Продолжительность фильма: runtime_clear\n",
        "2.   Доход с фильма: gross_earn_clear\n",
        "\n",
        "***Категориальные признаки:***\n",
        "1.   Наименование фильма: title\n",
        "2.   Класс фильма: certificate\n",
        "3.   Жанр фильма: genre\n",
        "4.   Рейтинг фильма: rating\n",
        "5.   Кинорежиссер: director\n",
        "6.   Актеры-звезды фильма: stars\n"
      ],
      "metadata": {
        "id": "__4ow2nerR2R"
      }
    },
    {
      "cell_type": "markdown",
      "source": [
        "## 5. Неграфический и графический анализ количественных признаков"
      ],
      "metadata": {
        "id": "Int1osF-mdy-"
      }
    },
    {
      "cell_type": "markdown",
      "source": [
        "Выполните неграфический и графический анализ количественных признаков"
      ],
      "metadata": {
        "id": "j5R6MgdIIpBb"
      }
    },
    {
      "cell_type": "markdown",
      "source": [
        "### *5.1. gross_earn_clear*"
      ],
      "metadata": {
        "id": "gp81b9DUrIEr"
      }
    },
    {
      "cell_type": "markdown",
      "source": [
        "Сохраните Series ['gross_earn_clear'] в переменную gross_earn"
      ],
      "metadata": {
        "id": "A-AUrPXC_h6p"
      }
    },
    {
      "cell_type": "code",
      "execution_count": null,
      "metadata": {
        "id": "B4HhGwUOKCfU"
      },
      "outputs": [],
      "source": [
        "gross_earn = dataset['gross_earn_clear']"
      ]
    },
    {
      "cell_type": "markdown",
      "source": [
        "Рассчитайте максимальное и минимальное значения доходов с фильмов с помощью методов max() и min() соответственно. Выведите значения на печать"
      ],
      "metadata": {
        "id": "gP-qOeh8AMLZ"
      }
    },
    {
      "cell_type": "code",
      "source": [
        "max_value =\n",
        "min_value =\n",
        "print('Наибольший доход: ', max_value, 'Наименьший доход: ', min_value)"
      ],
      "metadata": {
        "id": "PhrGIpCboJqC"
      },
      "execution_count": null,
      "outputs": []
    },
    {
      "cell_type": "markdown",
      "source": [
        "Рассмотрите наблюдения, у которых значение по признаку gross_earn равно 0.0"
      ],
      "metadata": {
        "id": "ttYZso-zBLZJ"
      }
    },
    {
      "cell_type": "code",
      "source": [
        "dataset[dataset['gross_earn_clear']==0.0]"
      ],
      "metadata": {
        "id": "699S3eY8xjDf"
      },
      "execution_count": null,
      "outputs": []
    },
    {
      "cell_type": "markdown",
      "source": [
        "Таких значений не так много. Можно их исключить из анализа. Перезапишите переменную gross_earn, исключив нулевые значения"
      ],
      "metadata": {
        "id": "hX1VqqvnCJ-p"
      }
    },
    {
      "cell_type": "code",
      "source": [
        "gross_earn = dataset[dataset['gross_earn_clear']!=0.0]['gross_earn_clear']"
      ],
      "metadata": {
        "id": "nRZYZy3yxzKd"
      },
      "execution_count": null,
      "outputs": []
    },
    {
      "cell_type": "markdown",
      "source": [
        "Снова рассчитайте максимальное и минимальное значения доходов с фильмов. Выведите значения на печать"
      ],
      "metadata": {
        "id": "-lYIPwUQCW9Z"
      }
    },
    {
      "cell_type": "code",
      "source": [
        "max_value =\n",
        "min_value =\n",
        "print('Наибольший доход: ', max_value, 'Наименьший доход: ', min_value)"
      ],
      "metadata": {
        "id": "fS18XeD5yCtO"
      },
      "execution_count": null,
      "outputs": []
    },
    {
      "cell_type": "markdown",
      "source": [
        "Рассчитайте среднее значение признака с помощью метода mean(). Выведите значение на печать"
      ],
      "metadata": {
        "id": "mLZQjrseCkhy"
      }
    },
    {
      "cell_type": "code",
      "source": [
        "mean_value =\n",
        "print('Средний доход с фильма: ', mean_value)"
      ],
      "metadata": {
        "id": "v1_BDPsjxiS8"
      },
      "execution_count": null,
      "outputs": []
    },
    {
      "cell_type": "markdown",
      "source": [
        "Рассчитайте медианное значение признака с помощью метода median(). Выведите значение на печать"
      ],
      "metadata": {
        "id": "wup-6vVTC25L"
      }
    },
    {
      "cell_type": "code",
      "source": [
        "median_value =\n",
        "print('Медиана доходов фильмов: ', median_value)"
      ],
      "metadata": {
        "id": "oBSj2wGxyX0L"
      },
      "execution_count": null,
      "outputs": []
    },
    {
      "cell_type": "markdown",
      "source": [
        "Рассчитайте процентили (10, 25, 50, 75, 90) с помощью метода quantile(). Выведите значения на печать"
      ],
      "metadata": {
        "id": "t_2Bp1tHDdSt"
      }
    },
    {
      "cell_type": "code",
      "source": [
        "percentile_10_value =\n",
        "percentile_25_value =\n",
        "percentile_50_value =\n",
        "percentile_75_value =\n",
        "percentile_90_value =\n",
        "print('10-й процентиль доходов фильмов: ', percentile_10_value)\n",
        "print('25-й процентиль доходов фильмов: ', percentile_25_value)\n",
        "print('50-й процентиль доходов фильмов: ', percentile_50_value)\n",
        "print('75-й процентиль доходов фильмов: ', percentile_75_value)\n",
        "print('90-й процентиль доходов фильмов: ', percentile_90_value)"
      ],
      "metadata": {
        "id": "LNnm7ro_ysyw"
      },
      "execution_count": null,
      "outputs": []
    },
    {
      "cell_type": "markdown",
      "source": [
        "Выведите показатели описательной статистики с помощью метода describe()"
      ],
      "metadata": {
        "id": "rVjnu8uZDwtk"
      }
    },
    {
      "cell_type": "code",
      "source": [
        "gross_earn."
      ],
      "metadata": {
        "id": "fXB8sBrgy_Wz"
      },
      "execution_count": null,
      "outputs": []
    },
    {
      "cell_type": "markdown",
      "source": [
        "Импортируйте библиотеку matplotlib с расширением pyplot, присвоив короткое название plt"
      ],
      "metadata": {
        "id": "TGpjqtQzD3ny"
      }
    },
    {
      "cell_type": "code",
      "source": [
        "import"
      ],
      "metadata": {
        "id": "Tc4nmgTIzjMP"
      },
      "execution_count": null,
      "outputs": []
    },
    {
      "cell_type": "markdown",
      "source": [
        "Постройте диаграмму \"ящик с усами\" с помощью метода boxplot()"
      ],
      "metadata": {
        "id": "Jjtqcv4vEQR2"
      }
    },
    {
      "cell_type": "code",
      "source": [
        "plt.\n",
        "plt.show()"
      ],
      "metadata": {
        "id": "RXsW4eVYzkpd"
      },
      "execution_count": null,
      "outputs": []
    },
    {
      "cell_type": "markdown",
      "source": [
        "Диаграмма пустая.  Это связано с наличием пропущенных значений по признаку.\n",
        "Очистите клонку от пустых значений с помощью dropna и попробуйте заново построить \"ящик с усами\""
      ],
      "metadata": {
        "id": "SK-yAPbwL2xE"
      }
    },
    {
      "cell_type": "code",
      "source": [
        "gross_earn_without_na =\n"
      ],
      "metadata": {
        "id": "HNTdBr6NL10c"
      },
      "execution_count": null,
      "outputs": []
    },
    {
      "cell_type": "code",
      "source": [
        "plt.\n",
        "plt.show()"
      ],
      "metadata": {
        "id": "UhS2pyJ_MhjD"
      },
      "execution_count": null,
      "outputs": []
    },
    {
      "cell_type": "markdown",
      "source": [
        "<br>Попробуйте построить гистограмму с помощью метода hist(), чтобы посмотреть на распределение признака."
      ],
      "metadata": {
        "id": "6zPujIlgEXKq"
      }
    },
    {
      "cell_type": "code",
      "source": [
        "plt.\n",
        "plt.show()"
      ],
      "metadata": {
        "id": "lJ6L8Uzyz9bu"
      },
      "execution_count": null,
      "outputs": []
    },
    {
      "cell_type": "markdown",
      "source": [
        "Гистограмма показывает, достаточно большой размах в данных, что подтверждается и показателями описательной статистики (min и max). Ограничьте графический анализ 10 процентилем снизу и 90 процентилем сверху, тем самым обработав часть выбросов, и заново постройте гистограмму передав в нее параметр bins=20 для лучшей визуализации"
      ],
      "metadata": {
        "id": "nXkkSyFJE8Yz"
      }
    },
    {
      "cell_type": "code",
      "source": [
        "gross_earn_2 = dataset[\n",
        "    (dataset['gross_earn_clear']>=percentile_10_value)&\n",
        "    (dataset['gross_earn_clear']<=percentile_90_value)]['gross_earn_clear']"
      ],
      "metadata": {
        "id": "dh7enkUZ0IpG"
      },
      "execution_count": null,
      "outputs": []
    },
    {
      "cell_type": "code",
      "source": [
        "plt.\n",
        "plt.show()"
      ],
      "metadata": {
        "id": "6AXohvCX1U1L"
      },
      "execution_count": null,
      "outputs": []
    },
    {
      "cell_type": "markdown",
      "source": [
        "**Выводы:**"
      ],
      "metadata": {
        "id": "FyBbr2UJF6tx"
      }
    },
    {
      "cell_type": "markdown",
      "source": [
        "Напишите выводы по разделу:\n",
        "1.   О максимальных и минимальных значениях признака (оцените размах значений).\n",
        "2.   О нулевых значениях (их наличие, нужна ли предобработка).\n",
        "3.   О средних величинах (среднее, медиана, их отличия, возможные причины).\n",
        "4.   О процентилях (сколько процентов данных не превышают то или иное значение).\n",
        "5.   О результатах графического анализа (необходимость исключения выбросов, что показывает \"ящик с усами\", что показывает гистограмма)."
      ],
      "metadata": {
        "id": "tuzkA-OkGOFZ"
      }
    },
    {
      "cell_type": "markdown",
      "source": [
        "### **5.2. runtime_clear*"
      ],
      "metadata": {
        "id": "a0otq-lsrRQn"
      }
    },
    {
      "cell_type": "markdown",
      "source": [
        "По аналогии проанализируйте продолжительность фильмов"
      ],
      "metadata": {
        "id": "9j_RJKTa3JRk"
      }
    },
    {
      "cell_type": "code",
      "source": [],
      "metadata": {
        "id": "-6ffVMnt3Tul"
      },
      "execution_count": null,
      "outputs": []
    },
    {
      "cell_type": "markdown",
      "source": [
        "## 6. Неграфический и графический анализ категориальных признаков"
      ],
      "metadata": {
        "id": "Bd-m3BJcz06-"
      }
    },
    {
      "cell_type": "markdown",
      "source": [
        "Выполните неграфический и графический анализ категориальных признаков"
      ],
      "metadata": {
        "id": "JTCeHrjaIyOf"
      }
    },
    {
      "cell_type": "markdown",
      "source": [
        "### *6.1. certificate*"
      ],
      "metadata": {
        "id": "G72XgMKN3z4r"
      }
    },
    {
      "cell_type": "markdown",
      "source": [
        "Описание классификации [the British Board of Film Classification (BBFC)]( https://www.bbfc.co.uk/about-classification/classification-guidelines)"
      ],
      "metadata": {
        "id": "BHNgbMGy6W0e"
      }
    },
    {
      "cell_type": "markdown",
      "source": [
        "Оцените описательные статистики признака с помощью метода describe()"
      ],
      "metadata": {
        "id": "HztDdP-wJwTa"
      }
    },
    {
      "cell_type": "code",
      "source": [
        "dataset['certificate']."
      ],
      "metadata": {
        "id": "fzDbQl9L3v8r"
      },
      "execution_count": null,
      "outputs": []
    },
    {
      "cell_type": "markdown",
      "source": [
        "Изучите уникальные значения признака, получив их с помощью метода unique()"
      ],
      "metadata": {
        "id": "2E0Vjd1bKDYq"
      }
    },
    {
      "cell_type": "code",
      "source": [
        "dataset['certificate']."
      ],
      "metadata": {
        "id": "h1VKyXTz4FHp"
      },
      "execution_count": null,
      "outputs": []
    },
    {
      "cell_type": "markdown",
      "source": [
        "Проведите неграфический структурный анализ с помощью метода value_counts()"
      ],
      "metadata": {
        "id": "qX6CEMd3KOVO"
      }
    },
    {
      "cell_type": "code",
      "source": [
        "dataset['certificate']."
      ],
      "metadata": {
        "id": "CEzE2x684f_-"
      },
      "execution_count": null,
      "outputs": []
    },
    {
      "cell_type": "markdown",
      "source": [
        "Сохраните результаты работы метода value_counts() в переменную certificate_counts, отсортировав значения с помощью метода sort_values(), передав в него параметр (ascending=True) (это необходимо для того, чтобы впоследствии столбчатая диаграмма сортировала значения сверху вниз: наибольшее - сверху, наименьшее - снизу)"
      ],
      "metadata": {
        "id": "sdcRPmbeJBPE"
      }
    },
    {
      "cell_type": "code",
      "source": [
        "certificate_counts = dataset['certificate'].value_counts().sort_values(ascending=True)"
      ],
      "metadata": {
        "id": "MkWmN2x64pGH"
      },
      "execution_count": null,
      "outputs": []
    },
    {
      "cell_type": "markdown",
      "source": [
        "Постройте горизонтальную столбчатую диаграмму с помощью метода barh()"
      ],
      "metadata": {
        "id": "-VrpUZ9OLvvX"
      }
    },
    {
      "cell_type": "code",
      "source": [
        "plt.\n",
        "plt.title('Столбчатая диаграмма распределения фильмов по классам')\n",
        "plt.show()"
      ],
      "metadata": {
        "id": "a89EKFRN45CL"
      },
      "execution_count": null,
      "outputs": []
    },
    {
      "cell_type": "markdown",
      "source": [
        "Выделите топ-5 классов, по которым больше всего фильмов и сохраните результат в переменную certificate_counts_top_5"
      ],
      "metadata": {
        "id": "4oIlstb9MdOv"
      }
    },
    {
      "cell_type": "code",
      "source": [
        "certificate_counts_top_5 = dataset['certificate'].value_counts()[:5]"
      ],
      "metadata": {
        "id": "S1q_T3eg55bz"
      },
      "execution_count": null,
      "outputs": []
    },
    {
      "cell_type": "markdown",
      "source": [
        "Постройте круговую диаграмму с помощью метода pie(), добавив подписи данных с помощью параметра labels и подписи значений с помощью параметра autopct='%.1f' (проценты с одним знаком после запятой)"
      ],
      "metadata": {
        "id": "qyYaxnZLNS2a"
      }
    },
    {
      "cell_type": "markdown",
      "source": [
        "P.s. При анализе категориальных признаков если категорий не больше 5, то предпочтительна круговая диаграмма, в ином случае - столбчатая"
      ],
      "metadata": {
        "id": "_ACRmIV7MrUB"
      }
    },
    {
      "cell_type": "code",
      "source": [
        "plt.\n",
        "plt.show()"
      ],
      "metadata": {
        "id": "SNv_tBO56CiB"
      },
      "execution_count": null,
      "outputs": []
    },
    {
      "cell_type": "markdown",
      "source": [
        "**Выводы:**"
      ],
      "metadata": {
        "id": "XNoGquMQNV3J"
      }
    },
    {
      "cell_type": "markdown",
      "source": [
        "Напишите выводы по разделу:\n",
        "1.   О количестве уникальных значений признака.\n",
        "2.   О наиболее часто встречаемом значении признака (что за значение, сколько раз встретилось).\n",
        "3.   О распределении значений признака (наиболее встречаемые, наименее встречаемые).\n",
        "4.   О результатах графического анализа определенного топ признака (что показывает столбчатая и круговая диаграммы)."
      ],
      "metadata": {
        "id": "gDA5_feeNaZ5"
      }
    },
    {
      "cell_type": "markdown",
      "source": [
        "### **6.2. rating*"
      ],
      "metadata": {
        "id": "iCDnHqZx5a3Z"
      }
    },
    {
      "cell_type": "markdown",
      "source": [
        "По аналогии проанализируйте рейтинг фильмов"
      ],
      "metadata": {
        "id": "apwwDOPG5kh6"
      }
    },
    {
      "cell_type": "code",
      "source": [],
      "metadata": {
        "id": "blRZya-Z5qHT"
      },
      "execution_count": null,
      "outputs": []
    },
    {
      "cell_type": "markdown",
      "source": [
        "### **6.3. director*"
      ],
      "metadata": {
        "id": "ZPdmKyqs5tfc"
      }
    },
    {
      "cell_type": "markdown",
      "source": [
        "По аналогии проанализируйте кинорежиссеров\n",
        "\n",
        "---\n",
        "\n"
      ],
      "metadata": {
        "id": "QjeVUwr25tfd"
      }
    },
    {
      "cell_type": "code",
      "source": [],
      "metadata": {
        "id": "dLeXM-EC5tfe"
      },
      "execution_count": null,
      "outputs": []
    },
    {
      "cell_type": "markdown",
      "source": [
        "## 7. Анализ взаимосвязи двух количественных признаков"
      ],
      "metadata": {
        "id": "vAJp76vN0gTL"
      }
    },
    {
      "cell_type": "markdown",
      "source": [
        "Выполните анализ взаимосвязи двух количественных признаков"
      ],
      "metadata": {
        "id": "xTmCEKbYr-g2"
      }
    },
    {
      "cell_type": "markdown",
      "source": [
        "### *7.1. runtime_clear - gross_earn_clear*"
      ],
      "metadata": {
        "id": "Wrf6bVeHVKBW"
      }
    },
    {
      "cell_type": "markdown",
      "source": [
        "Импортируйте библиотеку seaborn и присвойте ей короткое название sns"
      ],
      "metadata": {
        "id": "grh2doR3sNdk"
      }
    },
    {
      "cell_type": "code",
      "source": [
        "import"
      ],
      "metadata": {
        "id": "rkOSFXqXN7vH"
      },
      "execution_count": null,
      "outputs": []
    },
    {
      "cell_type": "markdown",
      "source": [
        "Постройте диаграмму совместного распределения двух количественных переменных с помощью функции jointplot(), передав параметры size и alpha для улучшения визуализации"
      ],
      "metadata": {
        "id": "opScXnousYJT"
      }
    },
    {
      "cell_type": "code",
      "source": [
        "sns.\n",
        "plt.show()"
      ],
      "metadata": {
        "id": "fxdAuWu8NOfM"
      },
      "execution_count": null,
      "outputs": []
    },
    {
      "cell_type": "markdown",
      "source": [
        "Сохраните колонки 'runtime_clear' и 'gross_earn_clear' в переменную columns и постройте диаграммы рассеяния, используя функции PairGrid(), map() и метод scatterplot, передав параметр alpha для улучшения визуализации"
      ],
      "metadata": {
        "id": "W387nNHns761"
      }
    },
    {
      "cell_type": "code",
      "source": [
        "columns = ['runtime_clear', 'gross_earn_clear']\n",
        "g = sns.\n",
        "g.map("
      ],
      "metadata": {
        "id": "eMueq5cMOUuz"
      },
      "execution_count": null,
      "outputs": []
    },
    {
      "cell_type": "markdown",
      "source": [
        "Исключите выбросы, отфильтровав датасет по 99% процентилю. Для этого сохраните копию исходного датасета в переменную new_dataset с помощью метода copy(). Для каждой колонки в columns ограничьте значения 99% процентилем с помощью метода quantile(), сохраняя объект Series в переменную limiter и фильтруя new_dataset по данному ограничению с помощью оператора <="
      ],
      "metadata": {
        "id": "NdEf5HQIt6YS"
      }
    },
    {
      "cell_type": "code",
      "source": [
        "new_dataset =\n",
        "for col in columns:\n",
        "  limiter =\n",
        "  new_dataset ="
      ],
      "metadata": {
        "id": "uo2wGHKPOnTL"
      },
      "execution_count": null,
      "outputs": []
    },
    {
      "cell_type": "markdown",
      "source": [
        "Постройте диаграммы рассеяния по данным датасета new_dataset, используя функции PairGrid(), map() и метод scatterplot, передав параметр alpha для улучшения визуализации"
      ],
      "metadata": {
        "id": "HS5dgAJ5vFeL"
      }
    },
    {
      "cell_type": "code",
      "source": [
        "g = sns.\n",
        "g.map("
      ],
      "metadata": {
        "id": "n-X1vgdnOtUL"
      },
      "execution_count": null,
      "outputs": []
    },
    {
      "cell_type": "markdown",
      "source": [
        "**Выводы:**"
      ],
      "metadata": {
        "id": "D9PE8nvlvZmS"
      }
    },
    {
      "cell_type": "markdown",
      "source": [
        "Напишите выводы по разделу:\n",
        "1.   О возможной взаимосвязи признаков (присутствует или отсутствует на диаграммах, какая взаимосвязь (линейная, нелинейная))."
      ],
      "metadata": {
        "id": "q65Pl9DfvZ-M"
      }
    },
    {
      "cell_type": "markdown",
      "source": [
        "## 8. Анализ взаимосвязи двух категориальных признаков"
      ],
      "metadata": {
        "id": "rfhui4VDeBZ9"
      }
    },
    {
      "cell_type": "markdown",
      "source": [
        "Выполните анализ взаимосвязи двух категориальных признаков"
      ],
      "metadata": {
        "id": "CN3POEscsEmy"
      }
    },
    {
      "cell_type": "markdown",
      "source": [
        "### *8.1. director - certificate*"
      ],
      "metadata": {
        "id": "oYsozV9-VRwe"
      }
    },
    {
      "cell_type": "markdown",
      "source": [
        "Сохраните уникальные значения признака 'director', определенные с помощью метода unique(), в переменную directors и определите их количество с помощью функции len()"
      ],
      "metadata": {
        "id": "NxoeiRmIwLXw"
      }
    },
    {
      "cell_type": "code",
      "source": [
        "directors =\n",
        "len(directors)"
      ],
      "metadata": {
        "id": "uBRXXQ4gPDQx"
      },
      "execution_count": null,
      "outputs": []
    },
    {
      "cell_type": "markdown",
      "source": [
        "Проведите неграфический структурный анализ признака с помощью метода value_counts()"
      ],
      "metadata": {
        "id": "ucpDRdTTwvwC"
      }
    },
    {
      "cell_type": "code",
      "source": [
        "dataset['director']."
      ],
      "metadata": {
        "id": "PImpazYgQjRj"
      },
      "execution_count": null,
      "outputs": []
    },
    {
      "cell_type": "markdown",
      "source": [
        "Определите топ-5 кинорежиссеров с помощью метода value_counts() и среза, выведите их список при помощи атрибута index и сохраните его в переменную directors_top_5"
      ],
      "metadata": {
        "id": "N5RxrG6vw-wM"
      }
    },
    {
      "cell_type": "code",
      "source": [
        "directors_top_5 = dataset['director'].value_counts()[:5].index\n",
        "directors_top_5"
      ],
      "metadata": {
        "id": "0V5w0ob7RCut"
      },
      "execution_count": null,
      "outputs": []
    },
    {
      "cell_type": "markdown",
      "source": [
        "Для корректного визуального представления распределения признака 'certificate' создайте словарь, в котором каждому классу будет присвоен соответствующий цвет из выбранной цветовой палитры tab20. Для этого в переменную labels сохраните уникальные значения признака, затем в переменную colors сохраните словарь, сформированный с помощью функции dict() из объединенных (с помощью функции zip()) попарно значения классов, сохраненных в переменной labels, и цветов из палитры tab20, выбранных по длине (len()) labels, с помощью выражения plt.cm.tab20.colors"
      ],
      "metadata": {
        "id": "5eP_se-Vxm6U"
      }
    },
    {
      "cell_type": "code",
      "source": [
        "labels =\n",
        "colors =\n",
        "colors"
      ],
      "metadata": {
        "id": "53EkvsqMUa0E"
      },
      "execution_count": null,
      "outputs": []
    },
    {
      "cell_type": "markdown",
      "source": [
        "Для каждого кинорежиссера из топ-5 (directors_top_5) постройте круговые диаграммы с помощью метода pie(). Для этого отфильтруйте исходный датасет признаку director и сохраните его в переменную df; сохраните топ-5 классов фильмов (certificate), определенных с помощью метода value_counts() и среза, в переменную certificate_counts; выведите список уникальных значений топ-5 классов с помощью атрибута index и сохраните его в переменную labels; в качестве названия диаграммы передайте кинорежиссера с помощью метода title(); постройте диаграмму, передав в нее в качестве параметров значения (values), подписи (labels), цвета (colors) и подписи значения в виде процентов autopct='%.1f'"
      ],
      "metadata": {
        "id": "JDGFFvmOzqC2"
      }
    },
    {
      "cell_type": "code",
      "source": [
        "for director in directors_top_5:\n",
        "  df =\n",
        "\n",
        "  certificate_counts =\n",
        "  labels =\n",
        "\n",
        "  plt.title(director)\n",
        "  plt.\n",
        "  plt.show()"
      ],
      "metadata": {
        "id": "_EyIXRZBQwW3"
      },
      "execution_count": null,
      "outputs": []
    },
    {
      "cell_type": "markdown",
      "source": [
        "**Выводы:**"
      ],
      "metadata": {
        "id": "Y9oLLTWb15pH"
      }
    },
    {
      "cell_type": "markdown",
      "source": [
        "Напишите выводы по разделу:\n",
        "1.   О возможной взаимосвязи признаков (присутствует или отсутствует на диаграммах, похожи ли распределения признаков).\n",
        "2.   Об особенностях распределения признака в разрезе основного признака (что характерно для каждого значения основного признака)"
      ],
      "metadata": {
        "id": "f9zU9FLy1-Vm"
      }
    },
    {
      "cell_type": "markdown",
      "source": [
        "### **8.2. director - rating*"
      ],
      "metadata": {
        "id": "EOqC1iUrU-Td"
      }
    },
    {
      "cell_type": "markdown",
      "source": [
        "По аналогии проанализируйте взаимосвязь между рейтингом фильмов и кинорежиссерами"
      ],
      "metadata": {
        "id": "h4FcElnpVj99"
      }
    },
    {
      "cell_type": "code",
      "source": [],
      "metadata": {
        "id": "ynMUueJlWK3S"
      },
      "execution_count": null,
      "outputs": []
    },
    {
      "cell_type": "markdown",
      "source": [
        "### **8.3. certificate - rating*"
      ],
      "metadata": {
        "id": "0NCzVyQ6Wek9"
      }
    },
    {
      "cell_type": "markdown",
      "source": [
        "По аналогии проанализируйте взаимосвязь между классами фильмов и их рейтингом"
      ],
      "metadata": {
        "id": "TkZ3NmIaWek-"
      }
    },
    {
      "cell_type": "code",
      "source": [],
      "metadata": {
        "id": "xtIXlyqtWek_"
      },
      "execution_count": null,
      "outputs": []
    },
    {
      "cell_type": "markdown",
      "source": [
        "## 9. Анализ взаимосвязи количественного и категориального признаков"
      ],
      "metadata": {
        "id": "gQwmX8aD671J"
      }
    },
    {
      "cell_type": "markdown",
      "source": [
        "Выполните анализ взаимосвязи категориального и количественного признаков"
      ],
      "metadata": {
        "id": "g1RWUKTb26a5"
      }
    },
    {
      "cell_type": "markdown",
      "source": [
        "### *9.1. certificate - gross_earn_clear*"
      ],
      "metadata": {
        "id": "8qgg-4zkZ6dS"
      }
    },
    {
      "cell_type": "markdown",
      "source": [
        "Оцените медианные значения доходов с фильмов в разрезе классов фильмов. Для этого сгруппируйте датасет по признаку certificate с помощью метода groupby и к Series ['gross_earn_clear'] метод median()"
      ],
      "metadata": {
        "id": "44yyVyYO3gJ9"
      }
    },
    {
      "cell_type": "code",
      "source": [
        "dataset.groupby("
      ],
      "metadata": {
        "id": "G1V-4JRD665n"
      },
      "execution_count": null,
      "outputs": []
    },
    {
      "cell_type": "markdown",
      "source": [
        "Оцените описательные статистики доходов с фильмов в разрезе классов фильмов, также сгруппировав таблицу и применив метод describe()"
      ],
      "metadata": {
        "id": "13irQUyJ4EEc"
      }
    },
    {
      "cell_type": "code",
      "source": [
        "dataset.groupby("
      ],
      "metadata": {
        "id": "pHunMavmXG0B"
      },
      "execution_count": null,
      "outputs": []
    },
    {
      "cell_type": "markdown",
      "source": [
        "Постройте диаграммы \"ящик с усами\" с помощью метода boxplot(), передав в качестве x - значения классов, а в качестве y - доход с фильмов"
      ],
      "metadata": {
        "id": "T_JiBuJX4aXL"
      }
    },
    {
      "cell_type": "code",
      "source": [
        "sns.\n",
        "plt.show()"
      ],
      "metadata": {
        "id": "T1pXKykJXmBk"
      },
      "execution_count": null,
      "outputs": []
    },
    {
      "cell_type": "markdown",
      "source": [
        "Диаграмма получилась малоинформативна в связи с наличием выбросов, а также ее нагруженностью по количеству значений классов. Оцените количество значений классов с помощью метода value_counts()"
      ],
      "metadata": {
        "id": "yF03b9ne4wQh"
      }
    },
    {
      "cell_type": "code",
      "source": [
        "dataset['certificate']."
      ],
      "metadata": {
        "id": "S0CL9z5xX1c9"
      },
      "execution_count": null,
      "outputs": []
    },
    {
      "cell_type": "markdown",
      "source": [
        "По итогу оценки видно, что крупных классов - 8, поэтому ограничим диаграмму топ-8 классов. Для этого сохраните список топ-8 классов, определенный с помощью метода value_counts(), среза и атрибута index, в переменную certificate_list"
      ],
      "metadata": {
        "id": "2H2d_iLQ5Fmp"
      }
    },
    {
      "cell_type": "code",
      "source": [
        "certificate_list =\n",
        "certificate_list"
      ],
      "metadata": {
        "id": "PTr5lurLYDv7"
      },
      "execution_count": null,
      "outputs": []
    },
    {
      "cell_type": "markdown",
      "source": [
        "Отфильтруйте исходный датасет по признаку certificate с помощью метода isin() и сохраните его в переменную dataset_certificate_top_8. Оцените размеры датасета с помощью атрибута shape"
      ],
      "metadata": {
        "id": "ZJbszWYb5tEX"
      }
    },
    {
      "cell_type": "code",
      "source": [
        "dataset_certificate_top_8 = dataset[dataset['certificate'].isin(certificate_list)]\n",
        "dataset_certificate_top_8.shape"
      ],
      "metadata": {
        "id": "J0suRr9AYpyD"
      },
      "execution_count": null,
      "outputs": []
    },
    {
      "cell_type": "markdown",
      "source": [
        "Постройте диаграммы \"ящик с усами\" с помощью метода boxplot(), передав в качестве x - значения классов, а в качестве y - доход с фильмов, при этом ограничив значение оси y на отметке 25000 с помощью функции plt.axis() и параметров ymin и ymax (если при очистке признака gross_earn от лишних знаков была сохранена исходная размерность, например, 25.40, то ограничьте значение оси y на отметке 250)"
      ],
      "metadata": {
        "id": "6Tv0a4-K6LOC"
      }
    },
    {
      "cell_type": "code",
      "source": [
        "sns.\n",
        "plt.\n",
        "plt.show()"
      ],
      "metadata": {
        "id": "FWDE0Y1kZG1u"
      },
      "execution_count": null,
      "outputs": []
    },
    {
      "cell_type": "markdown",
      "source": [
        "**Выводы:**"
      ],
      "metadata": {
        "id": "aYFltVwA6nvW"
      }
    },
    {
      "cell_type": "markdown",
      "source": [
        "Напишите выводы по разделу:\n",
        "1.   О возможной взаимосвязи признаков (присутствует или отсутствует на диаграммах, похожи ли распределения признаков).\n",
        "2.   Об особенностях распределения признака в разрезе основного признака (что характерно для каждого значения основного признака).\n",
        "3.   О средних величинах (как распределена медиана)."
      ],
      "metadata": {
        "id": "KJS_0ZmC6rp4"
      }
    },
    {
      "cell_type": "markdown",
      "source": [
        "### **9.2. certificate - runtime_clear*"
      ],
      "metadata": {
        "id": "Qt5xHqnCaf4z"
      }
    },
    {
      "cell_type": "markdown",
      "source": [
        "По аналогии проанализируйте взаимосвязь между классами фильмов и их продолжительностью"
      ],
      "metadata": {
        "id": "UXye956Vas6G"
      }
    },
    {
      "cell_type": "code",
      "source": [],
      "metadata": {
        "id": "t_CrQkckZqyd"
      },
      "execution_count": null,
      "outputs": []
    },
    {
      "cell_type": "markdown",
      "source": [
        "### **9.3. director - gross_earn_clear*"
      ],
      "metadata": {
        "id": "3gyUHz4nbEAt"
      }
    },
    {
      "cell_type": "markdown",
      "source": [
        "По аналогии проанализируйте взаимосвязь между кинорежиссерами и доходами с фильмов"
      ],
      "metadata": {
        "id": "EQGuce0lbEAv"
      }
    },
    {
      "cell_type": "code",
      "source": [],
      "metadata": {
        "id": "jrCxzXvqbEAv"
      },
      "execution_count": null,
      "outputs": []
    },
    {
      "cell_type": "markdown",
      "source": [
        "### **9.4. director - runtime_clear*"
      ],
      "metadata": {
        "id": "Kyz1v_UMbGrU"
      }
    },
    {
      "cell_type": "markdown",
      "source": [
        "По аналогии проанализируйте взаимосвязь между кинорежиссерами и продолжительностью фильмов"
      ],
      "metadata": {
        "id": "Al5GBEKXbGrV"
      }
    },
    {
      "cell_type": "code",
      "source": [],
      "metadata": {
        "id": "a_QEiC4UbGrV"
      },
      "execution_count": null,
      "outputs": []
    },
    {
      "cell_type": "markdown",
      "source": [
        "### **9.5. rating - gross_earn_clear*"
      ],
      "metadata": {
        "id": "q_BhBtmrb445"
      }
    },
    {
      "cell_type": "markdown",
      "source": [
        "По аналогии проанализируйте взаимосвязь между рейтингом фильмов и доходами с фильмов"
      ],
      "metadata": {
        "id": "QNhihG6Cb445"
      }
    },
    {
      "cell_type": "code",
      "source": [],
      "metadata": {
        "id": "eezxI8E2b446"
      },
      "execution_count": null,
      "outputs": []
    },
    {
      "cell_type": "markdown",
      "source": [
        "### **9.6. rating - runtime_clear*"
      ],
      "metadata": {
        "id": "ESd2HAesb446"
      }
    },
    {
      "cell_type": "markdown",
      "source": [
        "По аналогии проанализируйте взаимосвязь между рейтингом фильмов и их продолжительностью"
      ],
      "metadata": {
        "id": "iqCH-zTnb446"
      }
    },
    {
      "cell_type": "code",
      "source": [],
      "metadata": {
        "id": "KszuOCnkb446"
      },
      "execution_count": null,
      "outputs": []
    },
    {
      "cell_type": "markdown",
      "source": [
        "## 10. Общий вывод"
      ],
      "metadata": {
        "id": "aKvGYyMg3KoV"
      }
    },
    {
      "cell_type": "markdown",
      "source": [
        "Соберите промежуточные выводы в итоговый вывод по разведочному анализу"
      ],
      "metadata": {
        "id": "jMIiSlDy3VMs"
      }
    }
  ],
  "metadata": {
    "colab": {
      "provenance": []
    },
    "kernelspec": {
      "display_name": "Python 3",
      "name": "python3"
    },
    "language_info": {
      "name": "python"
    }
  },
  "nbformat": 4,
  "nbformat_minor": 0
}