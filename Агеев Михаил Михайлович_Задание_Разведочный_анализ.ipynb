{
  "cells": [
    {
      "cell_type": "markdown",
      "source": [
        "![](https://adabul.com/wp-content/uploads/2020/04/diziler-360x240.jpg)"
      ],
      "metadata": {
        "id": "bRlt8IT50V6E"
      }
    },
    {
      "cell_type": "markdown",
      "source": [
        "## 1. Описание датасета и задания"
      ],
      "metadata": {
        "id": "0ht58TIfi___"
      }
    },
    {
      "cell_type": "markdown",
      "source": [
        "Представлен датасет с данными о 5000 фильмах, имеющих наибольший рейтинг на сайте IMDb (датасет выложен на платформе [Kaggle](https://www.kaggle.com/datasets/totoro29/imdb-movies))."
      ],
      "metadata": {
        "id": "ODZr1pzSjUEZ"
      }
    },
    {
      "cell_type": "markdown",
      "source": [
        "***Информация, содержащаяся в датасете:***\n",
        "1.   Ссылка на постер фильма (poster).\n",
        "2.   Наименование фильма (title).\n",
        "3.   Класс фильма по рейтингу the British Board of Film Classification (BBFC) (certificate).\n",
        "4.   Продолжительность фильма (runtime).\n",
        "5.   Жанр фильма (genre).\n",
        "6.   Рейтинг фильма на платформе IMBD (rating).\n",
        "7.   Описание сюжета фильма (about).\n",
        "8.   Кинорежиссер фильма (director).\n",
        "9.   Актеры-звезды фильма (stars).\n",
        "10.  Количество проголосовавших за фильм (votes).\n",
        "11.  Доход с фильма (gross_earn)."
      ],
      "metadata": {
        "id": "iWWmlDbT0blB"
      }
    },
    {
      "cell_type": "markdown",
      "source": [
        "**Задача** — провести разведочный анализ данных, найти взаимосвязи и сформулировать выводы."
      ],
      "metadata": {
        "id": "sDysJljz0fjg"
      }
    },
    {
      "cell_type": "markdown",
      "source": [
        "1.   Выполнить неграфический и графический анализ количественных признаков.\n",
        "2.   Выполнить неграфический и графический анализ категориальных признаков.\n",
        "3.   Выполнить анализ взаимосвязи двух количественных признаков.\n",
        "4.   Выполнить анализ взаимосвязи двух категориальных признаков.\n",
        "5.   Выполнить анализ взаимосвязи количественного и категориального признаков."
      ],
      "metadata": {
        "id": "9p3eZu8en6G2"
      }
    },
    {
      "cell_type": "markdown",
      "source": [
        "****Задания со звездочкой факультативные (дополнительные)***"
      ],
      "metadata": {
        "id": "HTuuCUIxH74Q"
      }
    },
    {
      "cell_type": "markdown",
      "source": [
        "## 2. Загрузка датасета"
      ],
      "metadata": {
        "id": "Tjg16j1yj7h3"
      }
    },
    {
      "cell_type": "markdown",
      "source": [
        "Импортируйте модуль files для подгрузки датасета с ПК"
      ],
      "metadata": {
        "id": "y49E3GkC9UX7"
      }
    },
    {
      "cell_type": "code",
      "source": [
        "from google.colab import files"
      ],
      "metadata": {
        "id": "HjA1iTVTqQo5"
      },
      "execution_count": 1,
      "outputs": []
    },
    {
      "cell_type": "markdown",
      "source": [
        "Загрузите файл movies_clean.csv (сохранен по итогу выполнения предыдущего задания) с помощью files.upload()"
      ],
      "metadata": {
        "id": "Xit-BLDS9c27"
      }
    },
    {
      "cell_type": "code",
      "source": [
        "files.upload() \"\"\" кодил на паде через collab, не получилось подгрузить через этот способ из-за размера файла поэтому загрузил по-старому, тип закинул  коллаб csv, потом в ответе не задание приложу его"
      ],
      "metadata": {
        "id": "6tIQ34wTqUCz",
        "colab": {
          "base_uri": "https://localhost:8080/",
          "height": 332
        },
        "outputId": "276b7f63-c8cf-4b58-adc4-68b9834679b9"
      },
      "execution_count": 3,
      "outputs": [
        {
          "output_type": "display_data",
          "data": {
            "text/plain": [
              "<IPython.core.display.HTML object>"
            ],
            "text/html": [
              "\n",
              "     <input type=\"file\" id=\"files-dbeb713a-ffeb-465f-a223-88274a7bb26f\" name=\"files[]\" multiple disabled\n",
              "        style=\"border:none\" />\n",
              "     <output id=\"result-dbeb713a-ffeb-465f-a223-88274a7bb26f\">\n",
              "      Upload widget is only available when the cell has been executed in the\n",
              "      current browser session. Please rerun this cell to enable.\n",
              "      </output>\n",
              "      <script>// Copyright 2017 Google LLC\n",
              "//\n",
              "// Licensed under the Apache License, Version 2.0 (the \"License\");\n",
              "// you may not use this file except in compliance with the License.\n",
              "// You may obtain a copy of the License at\n",
              "//\n",
              "//      http://www.apache.org/licenses/LICENSE-2.0\n",
              "//\n",
              "// Unless required by applicable law or agreed to in writing, software\n",
              "// distributed under the License is distributed on an \"AS IS\" BASIS,\n",
              "// WITHOUT WARRANTIES OR CONDITIONS OF ANY KIND, either express or implied.\n",
              "// See the License for the specific language governing permissions and\n",
              "// limitations under the License.\n",
              "\n",
              "/**\n",
              " * @fileoverview Helpers for google.colab Python module.\n",
              " */\n",
              "(function(scope) {\n",
              "function span(text, styleAttributes = {}) {\n",
              "  const element = document.createElement('span');\n",
              "  element.textContent = text;\n",
              "  for (const key of Object.keys(styleAttributes)) {\n",
              "    element.style[key] = styleAttributes[key];\n",
              "  }\n",
              "  return element;\n",
              "}\n",
              "\n",
              "// Max number of bytes which will be uploaded at a time.\n",
              "const MAX_PAYLOAD_SIZE = 100 * 1024;\n",
              "\n",
              "function _uploadFiles(inputId, outputId) {\n",
              "  const steps = uploadFilesStep(inputId, outputId);\n",
              "  const outputElement = document.getElementById(outputId);\n",
              "  // Cache steps on the outputElement to make it available for the next call\n",
              "  // to uploadFilesContinue from Python.\n",
              "  outputElement.steps = steps;\n",
              "\n",
              "  return _uploadFilesContinue(outputId);\n",
              "}\n",
              "\n",
              "// This is roughly an async generator (not supported in the browser yet),\n",
              "// where there are multiple asynchronous steps and the Python side is going\n",
              "// to poll for completion of each step.\n",
              "// This uses a Promise to block the python side on completion of each step,\n",
              "// then passes the result of the previous step as the input to the next step.\n",
              "function _uploadFilesContinue(outputId) {\n",
              "  const outputElement = document.getElementById(outputId);\n",
              "  const steps = outputElement.steps;\n",
              "\n",
              "  const next = steps.next(outputElement.lastPromiseValue);\n",
              "  return Promise.resolve(next.value.promise).then((value) => {\n",
              "    // Cache the last promise value to make it available to the next\n",
              "    // step of the generator.\n",
              "    outputElement.lastPromiseValue = value;\n",
              "    return next.value.response;\n",
              "  });\n",
              "}\n",
              "\n",
              "/**\n",
              " * Generator function which is called between each async step of the upload\n",
              " * process.\n",
              " * @param {string} inputId Element ID of the input file picker element.\n",
              " * @param {string} outputId Element ID of the output display.\n",
              " * @return {!Iterable<!Object>} Iterable of next steps.\n",
              " */\n",
              "function* uploadFilesStep(inputId, outputId) {\n",
              "  const inputElement = document.getElementById(inputId);\n",
              "  inputElement.disabled = false;\n",
              "\n",
              "  const outputElement = document.getElementById(outputId);\n",
              "  outputElement.innerHTML = '';\n",
              "\n",
              "  const pickedPromise = new Promise((resolve) => {\n",
              "    inputElement.addEventListener('change', (e) => {\n",
              "      resolve(e.target.files);\n",
              "    });\n",
              "  });\n",
              "\n",
              "  const cancel = document.createElement('button');\n",
              "  inputElement.parentElement.appendChild(cancel);\n",
              "  cancel.textContent = 'Cancel upload';\n",
              "  const cancelPromise = new Promise((resolve) => {\n",
              "    cancel.onclick = () => {\n",
              "      resolve(null);\n",
              "    };\n",
              "  });\n",
              "\n",
              "  // Wait for the user to pick the files.\n",
              "  const files = yield {\n",
              "    promise: Promise.race([pickedPromise, cancelPromise]),\n",
              "    response: {\n",
              "      action: 'starting',\n",
              "    }\n",
              "  };\n",
              "\n",
              "  cancel.remove();\n",
              "\n",
              "  // Disable the input element since further picks are not allowed.\n",
              "  inputElement.disabled = true;\n",
              "\n",
              "  if (!files) {\n",
              "    return {\n",
              "      response: {\n",
              "        action: 'complete',\n",
              "      }\n",
              "    };\n",
              "  }\n",
              "\n",
              "  for (const file of files) {\n",
              "    const li = document.createElement('li');\n",
              "    li.append(span(file.name, {fontWeight: 'bold'}));\n",
              "    li.append(span(\n",
              "        `(${file.type || 'n/a'}) - ${file.size} bytes, ` +\n",
              "        `last modified: ${\n",
              "            file.lastModifiedDate ? file.lastModifiedDate.toLocaleDateString() :\n",
              "                                    'n/a'} - `));\n",
              "    const percent = span('0% done');\n",
              "    li.appendChild(percent);\n",
              "\n",
              "    outputElement.appendChild(li);\n",
              "\n",
              "    const fileDataPromise = new Promise((resolve) => {\n",
              "      const reader = new FileReader();\n",
              "      reader.onload = (e) => {\n",
              "        resolve(e.target.result);\n",
              "      };\n",
              "      reader.readAsArrayBuffer(file);\n",
              "    });\n",
              "    // Wait for the data to be ready.\n",
              "    let fileData = yield {\n",
              "      promise: fileDataPromise,\n",
              "      response: {\n",
              "        action: 'continue',\n",
              "      }\n",
              "    };\n",
              "\n",
              "    // Use a chunked sending to avoid message size limits. See b/62115660.\n",
              "    let position = 0;\n",
              "    do {\n",
              "      const length = Math.min(fileData.byteLength - position, MAX_PAYLOAD_SIZE);\n",
              "      const chunk = new Uint8Array(fileData, position, length);\n",
              "      position += length;\n",
              "\n",
              "      const base64 = btoa(String.fromCharCode.apply(null, chunk));\n",
              "      yield {\n",
              "        response: {\n",
              "          action: 'append',\n",
              "          file: file.name,\n",
              "          data: base64,\n",
              "        },\n",
              "      };\n",
              "\n",
              "      let percentDone = fileData.byteLength === 0 ?\n",
              "          100 :\n",
              "          Math.round((position / fileData.byteLength) * 100);\n",
              "      percent.textContent = `${percentDone}% done`;\n",
              "\n",
              "    } while (position < fileData.byteLength);\n",
              "  }\n",
              "\n",
              "  // All done.\n",
              "  yield {\n",
              "    response: {\n",
              "      action: 'complete',\n",
              "    }\n",
              "  };\n",
              "}\n",
              "\n",
              "scope.google = scope.google || {};\n",
              "scope.google.colab = scope.google.colab || {};\n",
              "scope.google.colab._files = {\n",
              "  _uploadFiles,\n",
              "  _uploadFilesContinue,\n",
              "};\n",
              "})(self);\n",
              "</script> "
            ]
          },
          "metadata": {}
        },
        {
          "output_type": "error",
          "ename": "MessageError",
          "evalue": "RangeError: Maximum call stack size exceeded.",
          "traceback": [
            "\u001b[0;31m---------------------------------------------------------------------------\u001b[0m",
            "\u001b[0;31mMessageError\u001b[0m                              Traceback (most recent call last)",
            "\u001b[0;32m<ipython-input-3-63b259460c61>\u001b[0m in \u001b[0;36m<cell line: 0>\u001b[0;34m()\u001b[0m\n\u001b[0;32m----> 1\u001b[0;31m \u001b[0mfiles\u001b[0m\u001b[0;34m.\u001b[0m\u001b[0mupload\u001b[0m\u001b[0;34m(\u001b[0m\u001b[0;34m)\u001b[0m\u001b[0;34m\u001b[0m\u001b[0;34m\u001b[0m\u001b[0m\n\u001b[0m",
            "\u001b[0;32m/usr/local/lib/python3.11/dist-packages/google/colab/files.py\u001b[0m in \u001b[0;36mupload\u001b[0;34m(target_dir)\u001b[0m\n\u001b[1;32m     70\u001b[0m   \"\"\"\n\u001b[1;32m     71\u001b[0m \u001b[0;34m\u001b[0m\u001b[0m\n\u001b[0;32m---> 72\u001b[0;31m   \u001b[0muploaded_files\u001b[0m \u001b[0;34m=\u001b[0m \u001b[0m_upload_files\u001b[0m\u001b[0;34m(\u001b[0m\u001b[0mmultiple\u001b[0m\u001b[0;34m=\u001b[0m\u001b[0;32mTrue\u001b[0m\u001b[0;34m)\u001b[0m\u001b[0;34m\u001b[0m\u001b[0;34m\u001b[0m\u001b[0m\n\u001b[0m\u001b[1;32m     73\u001b[0m   \u001b[0;31m# Mapping from original filename to filename as saved locally.\u001b[0m\u001b[0;34m\u001b[0m\u001b[0;34m\u001b[0m\u001b[0m\n\u001b[1;32m     74\u001b[0m   \u001b[0mlocal_filenames\u001b[0m \u001b[0;34m=\u001b[0m \u001b[0mdict\u001b[0m\u001b[0;34m(\u001b[0m\u001b[0;34m)\u001b[0m\u001b[0;34m\u001b[0m\u001b[0;34m\u001b[0m\u001b[0m\n",
            "\u001b[0;32m/usr/local/lib/python3.11/dist-packages/google/colab/files.py\u001b[0m in \u001b[0;36m_upload_files\u001b[0;34m(multiple)\u001b[0m\n\u001b[1;32m    170\u001b[0m \u001b[0;34m\u001b[0m\u001b[0m\n\u001b[1;32m    171\u001b[0m   \u001b[0;32mwhile\u001b[0m \u001b[0mresult\u001b[0m\u001b[0;34m[\u001b[0m\u001b[0;34m'action'\u001b[0m\u001b[0;34m]\u001b[0m \u001b[0;34m!=\u001b[0m \u001b[0;34m'complete'\u001b[0m\u001b[0;34m:\u001b[0m\u001b[0;34m\u001b[0m\u001b[0;34m\u001b[0m\u001b[0m\n\u001b[0;32m--> 172\u001b[0;31m     result = _output.eval_js(\n\u001b[0m\u001b[1;32m    173\u001b[0m         'google.colab._files._uploadFilesContinue(\"{output_id}\")'.format(\n\u001b[1;32m    174\u001b[0m             \u001b[0moutput_id\u001b[0m\u001b[0;34m=\u001b[0m\u001b[0moutput_id\u001b[0m\u001b[0;34m\u001b[0m\u001b[0;34m\u001b[0m\u001b[0m\n",
            "\u001b[0;32m/usr/local/lib/python3.11/dist-packages/google/colab/output/_js.py\u001b[0m in \u001b[0;36meval_js\u001b[0;34m(script, ignore_result, timeout_sec)\u001b[0m\n\u001b[1;32m     38\u001b[0m   \u001b[0;32mif\u001b[0m \u001b[0mignore_result\u001b[0m\u001b[0;34m:\u001b[0m\u001b[0;34m\u001b[0m\u001b[0;34m\u001b[0m\u001b[0m\n\u001b[1;32m     39\u001b[0m     \u001b[0;32mreturn\u001b[0m\u001b[0;34m\u001b[0m\u001b[0;34m\u001b[0m\u001b[0m\n\u001b[0;32m---> 40\u001b[0;31m   \u001b[0;32mreturn\u001b[0m \u001b[0m_message\u001b[0m\u001b[0;34m.\u001b[0m\u001b[0mread_reply_from_input\u001b[0m\u001b[0;34m(\u001b[0m\u001b[0mrequest_id\u001b[0m\u001b[0;34m,\u001b[0m \u001b[0mtimeout_sec\u001b[0m\u001b[0;34m)\u001b[0m\u001b[0;34m\u001b[0m\u001b[0;34m\u001b[0m\u001b[0m\n\u001b[0m\u001b[1;32m     41\u001b[0m \u001b[0;34m\u001b[0m\u001b[0m\n\u001b[1;32m     42\u001b[0m \u001b[0;34m\u001b[0m\u001b[0m\n",
            "\u001b[0;32m/usr/local/lib/python3.11/dist-packages/google/colab/_message.py\u001b[0m in \u001b[0;36mread_reply_from_input\u001b[0;34m(message_id, timeout_sec)\u001b[0m\n\u001b[1;32m    101\u001b[0m     ):\n\u001b[1;32m    102\u001b[0m       \u001b[0;32mif\u001b[0m \u001b[0;34m'error'\u001b[0m \u001b[0;32min\u001b[0m \u001b[0mreply\u001b[0m\u001b[0;34m:\u001b[0m\u001b[0;34m\u001b[0m\u001b[0;34m\u001b[0m\u001b[0m\n\u001b[0;32m--> 103\u001b[0;31m         \u001b[0;32mraise\u001b[0m \u001b[0mMessageError\u001b[0m\u001b[0;34m(\u001b[0m\u001b[0mreply\u001b[0m\u001b[0;34m[\u001b[0m\u001b[0;34m'error'\u001b[0m\u001b[0;34m]\u001b[0m\u001b[0;34m)\u001b[0m\u001b[0;34m\u001b[0m\u001b[0;34m\u001b[0m\u001b[0m\n\u001b[0m\u001b[1;32m    104\u001b[0m       \u001b[0;32mreturn\u001b[0m \u001b[0mreply\u001b[0m\u001b[0;34m.\u001b[0m\u001b[0mget\u001b[0m\u001b[0;34m(\u001b[0m\u001b[0;34m'data'\u001b[0m\u001b[0;34m,\u001b[0m \u001b[0;32mNone\u001b[0m\u001b[0;34m)\u001b[0m\u001b[0;34m\u001b[0m\u001b[0;34m\u001b[0m\u001b[0m\n\u001b[1;32m    105\u001b[0m \u001b[0;34m\u001b[0m\u001b[0m\n",
            "\u001b[0;31mMessageError\u001b[0m: RangeError: Maximum call stack size exceeded."
          ]
        }
      ]
    },
    {
      "cell_type": "markdown",
      "source": [
        "## 3. Подгрузка данных в питон и начало работы с ними"
      ],
      "metadata": {
        "id": "Ui2UmktdkfBX"
      }
    },
    {
      "cell_type": "markdown",
      "source": [
        "Импортируйте библиотеку pandas и присвойте ей короткое название pd"
      ],
      "metadata": {
        "id": "q1wUeS8N-Ac4"
      }
    },
    {
      "cell_type": "code",
      "execution_count": 5,
      "metadata": {
        "id": "HDirS7pLCdac"
      },
      "outputs": [],
      "source": [
        "import pandas as pd"
      ]
    },
    {
      "cell_type": "markdown",
      "source": [
        "Откройте датасет movies_clean.csv и сохраните его в переменную dataset"
      ],
      "metadata": {
        "id": "jXLXQ-kY-B1E"
      }
    },
    {
      "cell_type": "code",
      "execution_count": 6,
      "metadata": {
        "id": "PXy_b8D-DYxq"
      },
      "outputs": [],
      "source": [
        "dataset = pd.read_csv('/content/movies 2.csv')"
      ]
    },
    {
      "cell_type": "markdown",
      "source": [
        "Проведите обзор таблицы с помощью метода head()"
      ],
      "metadata": {
        "id": "kYPjQVza-GMl"
      }
    },
    {
      "cell_type": "code",
      "source": [
        "dataset.head()"
      ],
      "metadata": {
        "id": "777NV7RZkwos",
        "colab": {
          "base_uri": "https://localhost:8080/",
          "height": 666
        },
        "outputId": "d4f809ea-96b1-4d5c-8b53-351b3d7f972d"
      },
      "execution_count": 7,
      "outputs": [
        {
          "output_type": "execute_result",
          "data": {
            "text/plain": [
              "   Unnamed: 0                                             poster  \\\n",
              "0           0  https://m.media-amazon.com/images/S/sash/4Fyxw...   \n",
              "1           1  https://m.media-amazon.com/images/S/sash/4Fyxw...   \n",
              "2           2  https://m.media-amazon.com/images/S/sash/4Fyxw...   \n",
              "3           3  https://m.media-amazon.com/images/S/sash/4Fyxw...   \n",
              "4           4  https://m.media-amazon.com/images/S/sash/4Fyxw...   \n",
              "\n",
              "                                           title certificate  runtime  \\\n",
              "0                       The Shawshank Redemption          15  142 min   \n",
              "1                                  The Godfather           X  175 min   \n",
              "2                                 Hababam Sinifi         12A   87 min   \n",
              "3  The Lord of the Rings: The Return of the King         12A  201 min   \n",
              "4                               Schindler's List          15  195 min   \n",
              "\n",
              "                       genre  rating  \\\n",
              "0                      Drama     9.3   \n",
              "1               Crime, Drama     9.2   \n",
              "2              Comedy, Drama     9.2   \n",
              "3   Action, Adventure, Drama     9.0   \n",
              "4  Biography, Drama, History     9.0   \n",
              "\n",
              "                                               about              director  \\\n",
              "0  Two imprisoned men bond over a number of years...        Frank Darabont   \n",
              "1  The aging patriarch of an organized crime dyna...  Francis Ford Coppola   \n",
              "2  Lazy, uneducated students share a very close b...         Ertem Egilmez   \n",
              "3  Gandalf and Aragorn lead the World of Men agai...         Peter Jackson   \n",
              "4  In German-occupied Poland during World War II,...      Steven Spielberg   \n",
              "\n",
              "                                               stars      votes gross_earn  \\\n",
              "0  ('Tim Robbins',), ('Morgan Freeman',), ('Bob G...  26,26,905    $28.34M   \n",
              "1  ('Marlon Brando',), ('Al Pacino',), ('James Ca...  18,19,641   $134.97M   \n",
              "2  ('Kemal Sunal',), ('Münir Özkul',), ('Halit Ak...     40,492        NaN   \n",
              "3  ('Elijah Wood',), ('Viggo Mortensen',), ('Ian ...  18,01,662   $377.85M   \n",
              "4  ('Liam Neeson',), ('Ralph Fiennes',), ('Ben Ki...  13,33,407    $96.90M   \n",
              "\n",
              "   runtime_clear  gross_earn_clean  gross_earn_clear  \n",
              "0            142             28.34             28.34  \n",
              "1            175            134.97            134.97  \n",
              "2             87               NaN               NaN  \n",
              "3            201            377.85            377.85  \n",
              "4            195             96.90             96.90  "
            ],
            "text/html": [
              "\n",
              "  <div id=\"df-a72d7329-2789-428e-91cc-5c72d6b817e7\" class=\"colab-df-container\">\n",
              "    <div>\n",
              "<style scoped>\n",
              "    .dataframe tbody tr th:only-of-type {\n",
              "        vertical-align: middle;\n",
              "    }\n",
              "\n",
              "    .dataframe tbody tr th {\n",
              "        vertical-align: top;\n",
              "    }\n",
              "\n",
              "    .dataframe thead th {\n",
              "        text-align: right;\n",
              "    }\n",
              "</style>\n",
              "<table border=\"1\" class=\"dataframe\">\n",
              "  <thead>\n",
              "    <tr style=\"text-align: right;\">\n",
              "      <th></th>\n",
              "      <th>Unnamed: 0</th>\n",
              "      <th>poster</th>\n",
              "      <th>title</th>\n",
              "      <th>certificate</th>\n",
              "      <th>runtime</th>\n",
              "      <th>genre</th>\n",
              "      <th>rating</th>\n",
              "      <th>about</th>\n",
              "      <th>director</th>\n",
              "      <th>stars</th>\n",
              "      <th>votes</th>\n",
              "      <th>gross_earn</th>\n",
              "      <th>runtime_clear</th>\n",
              "      <th>gross_earn_clean</th>\n",
              "      <th>gross_earn_clear</th>\n",
              "    </tr>\n",
              "  </thead>\n",
              "  <tbody>\n",
              "    <tr>\n",
              "      <th>0</th>\n",
              "      <td>0</td>\n",
              "      <td>https://m.media-amazon.com/images/S/sash/4Fyxw...</td>\n",
              "      <td>The Shawshank Redemption</td>\n",
              "      <td>15</td>\n",
              "      <td>142 min</td>\n",
              "      <td>Drama</td>\n",
              "      <td>9.3</td>\n",
              "      <td>Two imprisoned men bond over a number of years...</td>\n",
              "      <td>Frank Darabont</td>\n",
              "      <td>('Tim Robbins',), ('Morgan Freeman',), ('Bob G...</td>\n",
              "      <td>26,26,905</td>\n",
              "      <td>$28.34M</td>\n",
              "      <td>142</td>\n",
              "      <td>28.34</td>\n",
              "      <td>28.34</td>\n",
              "    </tr>\n",
              "    <tr>\n",
              "      <th>1</th>\n",
              "      <td>1</td>\n",
              "      <td>https://m.media-amazon.com/images/S/sash/4Fyxw...</td>\n",
              "      <td>The Godfather</td>\n",
              "      <td>X</td>\n",
              "      <td>175 min</td>\n",
              "      <td>Crime, Drama</td>\n",
              "      <td>9.2</td>\n",
              "      <td>The aging patriarch of an organized crime dyna...</td>\n",
              "      <td>Francis Ford Coppola</td>\n",
              "      <td>('Marlon Brando',), ('Al Pacino',), ('James Ca...</td>\n",
              "      <td>18,19,641</td>\n",
              "      <td>$134.97M</td>\n",
              "      <td>175</td>\n",
              "      <td>134.97</td>\n",
              "      <td>134.97</td>\n",
              "    </tr>\n",
              "    <tr>\n",
              "      <th>2</th>\n",
              "      <td>2</td>\n",
              "      <td>https://m.media-amazon.com/images/S/sash/4Fyxw...</td>\n",
              "      <td>Hababam Sinifi</td>\n",
              "      <td>12A</td>\n",
              "      <td>87 min</td>\n",
              "      <td>Comedy, Drama</td>\n",
              "      <td>9.2</td>\n",
              "      <td>Lazy, uneducated students share a very close b...</td>\n",
              "      <td>Ertem Egilmez</td>\n",
              "      <td>('Kemal Sunal',), ('Münir Özkul',), ('Halit Ak...</td>\n",
              "      <td>40,492</td>\n",
              "      <td>NaN</td>\n",
              "      <td>87</td>\n",
              "      <td>NaN</td>\n",
              "      <td>NaN</td>\n",
              "    </tr>\n",
              "    <tr>\n",
              "      <th>3</th>\n",
              "      <td>3</td>\n",
              "      <td>https://m.media-amazon.com/images/S/sash/4Fyxw...</td>\n",
              "      <td>The Lord of the Rings: The Return of the King</td>\n",
              "      <td>12A</td>\n",
              "      <td>201 min</td>\n",
              "      <td>Action, Adventure, Drama</td>\n",
              "      <td>9.0</td>\n",
              "      <td>Gandalf and Aragorn lead the World of Men agai...</td>\n",
              "      <td>Peter Jackson</td>\n",
              "      <td>('Elijah Wood',), ('Viggo Mortensen',), ('Ian ...</td>\n",
              "      <td>18,01,662</td>\n",
              "      <td>$377.85M</td>\n",
              "      <td>201</td>\n",
              "      <td>377.85</td>\n",
              "      <td>377.85</td>\n",
              "    </tr>\n",
              "    <tr>\n",
              "      <th>4</th>\n",
              "      <td>4</td>\n",
              "      <td>https://m.media-amazon.com/images/S/sash/4Fyxw...</td>\n",
              "      <td>Schindler's List</td>\n",
              "      <td>15</td>\n",
              "      <td>195 min</td>\n",
              "      <td>Biography, Drama, History</td>\n",
              "      <td>9.0</td>\n",
              "      <td>In German-occupied Poland during World War II,...</td>\n",
              "      <td>Steven Spielberg</td>\n",
              "      <td>('Liam Neeson',), ('Ralph Fiennes',), ('Ben Ki...</td>\n",
              "      <td>13,33,407</td>\n",
              "      <td>$96.90M</td>\n",
              "      <td>195</td>\n",
              "      <td>96.90</td>\n",
              "      <td>96.90</td>\n",
              "    </tr>\n",
              "  </tbody>\n",
              "</table>\n",
              "</div>\n",
              "    <div class=\"colab-df-buttons\">\n",
              "\n",
              "  <div class=\"colab-df-container\">\n",
              "    <button class=\"colab-df-convert\" onclick=\"convertToInteractive('df-a72d7329-2789-428e-91cc-5c72d6b817e7')\"\n",
              "            title=\"Convert this dataframe to an interactive table.\"\n",
              "            style=\"display:none;\">\n",
              "\n",
              "  <svg xmlns=\"http://www.w3.org/2000/svg\" height=\"24px\" viewBox=\"0 -960 960 960\">\n",
              "    <path d=\"M120-120v-720h720v720H120Zm60-500h600v-160H180v160Zm220 220h160v-160H400v160Zm0 220h160v-160H400v160ZM180-400h160v-160H180v160Zm440 0h160v-160H620v160ZM180-180h160v-160H180v160Zm440 0h160v-160H620v160Z\"/>\n",
              "  </svg>\n",
              "    </button>\n",
              "\n",
              "  <style>\n",
              "    .colab-df-container {\n",
              "      display:flex;\n",
              "      gap: 12px;\n",
              "    }\n",
              "\n",
              "    .colab-df-convert {\n",
              "      background-color: #E8F0FE;\n",
              "      border: none;\n",
              "      border-radius: 50%;\n",
              "      cursor: pointer;\n",
              "      display: none;\n",
              "      fill: #1967D2;\n",
              "      height: 32px;\n",
              "      padding: 0 0 0 0;\n",
              "      width: 32px;\n",
              "    }\n",
              "\n",
              "    .colab-df-convert:hover {\n",
              "      background-color: #E2EBFA;\n",
              "      box-shadow: 0px 1px 2px rgba(60, 64, 67, 0.3), 0px 1px 3px 1px rgba(60, 64, 67, 0.15);\n",
              "      fill: #174EA6;\n",
              "    }\n",
              "\n",
              "    .colab-df-buttons div {\n",
              "      margin-bottom: 4px;\n",
              "    }\n",
              "\n",
              "    [theme=dark] .colab-df-convert {\n",
              "      background-color: #3B4455;\n",
              "      fill: #D2E3FC;\n",
              "    }\n",
              "\n",
              "    [theme=dark] .colab-df-convert:hover {\n",
              "      background-color: #434B5C;\n",
              "      box-shadow: 0px 1px 3px 1px rgba(0, 0, 0, 0.15);\n",
              "      filter: drop-shadow(0px 1px 2px rgba(0, 0, 0, 0.3));\n",
              "      fill: #FFFFFF;\n",
              "    }\n",
              "  </style>\n",
              "\n",
              "    <script>\n",
              "      const buttonEl =\n",
              "        document.querySelector('#df-a72d7329-2789-428e-91cc-5c72d6b817e7 button.colab-df-convert');\n",
              "      buttonEl.style.display =\n",
              "        google.colab.kernel.accessAllowed ? 'block' : 'none';\n",
              "\n",
              "      async function convertToInteractive(key) {\n",
              "        const element = document.querySelector('#df-a72d7329-2789-428e-91cc-5c72d6b817e7');\n",
              "        const dataTable =\n",
              "          await google.colab.kernel.invokeFunction('convertToInteractive',\n",
              "                                                    [key], {});\n",
              "        if (!dataTable) return;\n",
              "\n",
              "        const docLinkHtml = 'Like what you see? Visit the ' +\n",
              "          '<a target=\"_blank\" href=https://colab.research.google.com/notebooks/data_table.ipynb>data table notebook</a>'\n",
              "          + ' to learn more about interactive tables.';\n",
              "        element.innerHTML = '';\n",
              "        dataTable['output_type'] = 'display_data';\n",
              "        await google.colab.output.renderOutput(dataTable, element);\n",
              "        const docLink = document.createElement('div');\n",
              "        docLink.innerHTML = docLinkHtml;\n",
              "        element.appendChild(docLink);\n",
              "      }\n",
              "    </script>\n",
              "  </div>\n",
              "\n",
              "\n",
              "<div id=\"df-b95312d8-a690-4460-8d03-981a26dd7f36\">\n",
              "  <button class=\"colab-df-quickchart\" onclick=\"quickchart('df-b95312d8-a690-4460-8d03-981a26dd7f36')\"\n",
              "            title=\"Suggest charts\"\n",
              "            style=\"display:none;\">\n",
              "\n",
              "<svg xmlns=\"http://www.w3.org/2000/svg\" height=\"24px\"viewBox=\"0 0 24 24\"\n",
              "     width=\"24px\">\n",
              "    <g>\n",
              "        <path d=\"M19 3H5c-1.1 0-2 .9-2 2v14c0 1.1.9 2 2 2h14c1.1 0 2-.9 2-2V5c0-1.1-.9-2-2-2zM9 17H7v-7h2v7zm4 0h-2V7h2v10zm4 0h-2v-4h2v4z\"/>\n",
              "    </g>\n",
              "</svg>\n",
              "  </button>\n",
              "\n",
              "<style>\n",
              "  .colab-df-quickchart {\n",
              "      --bg-color: #E8F0FE;\n",
              "      --fill-color: #1967D2;\n",
              "      --hover-bg-color: #E2EBFA;\n",
              "      --hover-fill-color: #174EA6;\n",
              "      --disabled-fill-color: #AAA;\n",
              "      --disabled-bg-color: #DDD;\n",
              "  }\n",
              "\n",
              "  [theme=dark] .colab-df-quickchart {\n",
              "      --bg-color: #3B4455;\n",
              "      --fill-color: #D2E3FC;\n",
              "      --hover-bg-color: #434B5C;\n",
              "      --hover-fill-color: #FFFFFF;\n",
              "      --disabled-bg-color: #3B4455;\n",
              "      --disabled-fill-color: #666;\n",
              "  }\n",
              "\n",
              "  .colab-df-quickchart {\n",
              "    background-color: var(--bg-color);\n",
              "    border: none;\n",
              "    border-radius: 50%;\n",
              "    cursor: pointer;\n",
              "    display: none;\n",
              "    fill: var(--fill-color);\n",
              "    height: 32px;\n",
              "    padding: 0;\n",
              "    width: 32px;\n",
              "  }\n",
              "\n",
              "  .colab-df-quickchart:hover {\n",
              "    background-color: var(--hover-bg-color);\n",
              "    box-shadow: 0 1px 2px rgba(60, 64, 67, 0.3), 0 1px 3px 1px rgba(60, 64, 67, 0.15);\n",
              "    fill: var(--button-hover-fill-color);\n",
              "  }\n",
              "\n",
              "  .colab-df-quickchart-complete:disabled,\n",
              "  .colab-df-quickchart-complete:disabled:hover {\n",
              "    background-color: var(--disabled-bg-color);\n",
              "    fill: var(--disabled-fill-color);\n",
              "    box-shadow: none;\n",
              "  }\n",
              "\n",
              "  .colab-df-spinner {\n",
              "    border: 2px solid var(--fill-color);\n",
              "    border-color: transparent;\n",
              "    border-bottom-color: var(--fill-color);\n",
              "    animation:\n",
              "      spin 1s steps(1) infinite;\n",
              "  }\n",
              "\n",
              "  @keyframes spin {\n",
              "    0% {\n",
              "      border-color: transparent;\n",
              "      border-bottom-color: var(--fill-color);\n",
              "      border-left-color: var(--fill-color);\n",
              "    }\n",
              "    20% {\n",
              "      border-color: transparent;\n",
              "      border-left-color: var(--fill-color);\n",
              "      border-top-color: var(--fill-color);\n",
              "    }\n",
              "    30% {\n",
              "      border-color: transparent;\n",
              "      border-left-color: var(--fill-color);\n",
              "      border-top-color: var(--fill-color);\n",
              "      border-right-color: var(--fill-color);\n",
              "    }\n",
              "    40% {\n",
              "      border-color: transparent;\n",
              "      border-right-color: var(--fill-color);\n",
              "      border-top-color: var(--fill-color);\n",
              "    }\n",
              "    60% {\n",
              "      border-color: transparent;\n",
              "      border-right-color: var(--fill-color);\n",
              "    }\n",
              "    80% {\n",
              "      border-color: transparent;\n",
              "      border-right-color: var(--fill-color);\n",
              "      border-bottom-color: var(--fill-color);\n",
              "    }\n",
              "    90% {\n",
              "      border-color: transparent;\n",
              "      border-bottom-color: var(--fill-color);\n",
              "    }\n",
              "  }\n",
              "</style>\n",
              "\n",
              "  <script>\n",
              "    async function quickchart(key) {\n",
              "      const quickchartButtonEl =\n",
              "        document.querySelector('#' + key + ' button');\n",
              "      quickchartButtonEl.disabled = true;  // To prevent multiple clicks.\n",
              "      quickchartButtonEl.classList.add('colab-df-spinner');\n",
              "      try {\n",
              "        const charts = await google.colab.kernel.invokeFunction(\n",
              "            'suggestCharts', [key], {});\n",
              "      } catch (error) {\n",
              "        console.error('Error during call to suggestCharts:', error);\n",
              "      }\n",
              "      quickchartButtonEl.classList.remove('colab-df-spinner');\n",
              "      quickchartButtonEl.classList.add('colab-df-quickchart-complete');\n",
              "    }\n",
              "    (() => {\n",
              "      let quickchartButtonEl =\n",
              "        document.querySelector('#df-b95312d8-a690-4460-8d03-981a26dd7f36 button');\n",
              "      quickchartButtonEl.style.display =\n",
              "        google.colab.kernel.accessAllowed ? 'block' : 'none';\n",
              "    })();\n",
              "  </script>\n",
              "</div>\n",
              "    </div>\n",
              "  </div>\n"
            ],
            "application/vnd.google.colaboratory.intrinsic+json": {
              "type": "dataframe",
              "variable_name": "dataset",
              "summary": "{\n  \"name\": \"dataset\",\n  \"rows\": 4970,\n  \"fields\": [\n    {\n      \"column\": \"Unnamed: 0\",\n      \"properties\": {\n        \"dtype\": \"number\",\n        \"std\": 1434,\n        \"min\": 0,\n        \"max\": 4969,\n        \"num_unique_values\": 4970,\n        \"samples\": [\n          856,\n          3657,\n          4602\n        ],\n        \"semantic_type\": \"\",\n        \"description\": \"\"\n      }\n    },\n    {\n      \"column\": \"poster\",\n      \"properties\": {\n        \"dtype\": \"category\",\n        \"num_unique_values\": 1,\n        \"samples\": [\n          \"https://m.media-amazon.com/images/S/sash/4FyxwxECzL-U1J8.png\"\n        ],\n        \"semantic_type\": \"\",\n        \"description\": \"\"\n      }\n    },\n    {\n      \"column\": \"title\",\n      \"properties\": {\n        \"dtype\": \"string\",\n        \"num_unique_values\": 4863,\n        \"samples\": [\n          \"Beaches\"\n        ],\n        \"semantic_type\": \"\",\n        \"description\": \"\"\n      }\n    },\n    {\n      \"column\": \"certificate\",\n      \"properties\": {\n        \"dtype\": \"category\",\n        \"num_unique_values\": 15,\n        \"samples\": [\n          \"AA\"\n        ],\n        \"semantic_type\": \"\",\n        \"description\": \"\"\n      }\n    },\n    {\n      \"column\": \"runtime\",\n      \"properties\": {\n        \"dtype\": \"category\",\n        \"num_unique_values\": 151,\n        \"samples\": [\n          \"238 min\"\n        ],\n        \"semantic_type\": \"\",\n        \"description\": \"\"\n      }\n    },\n    {\n      \"column\": \"genre\",\n      \"properties\": {\n        \"dtype\": \"category\",\n        \"num_unique_values\": 346,\n        \"samples\": [\n          \"Adventure, Family, Fantasy\"\n        ],\n        \"semantic_type\": \"\",\n        \"description\": \"\"\n      }\n    },\n    {\n      \"column\": \"rating\",\n      \"properties\": {\n        \"dtype\": \"number\",\n        \"std\": 0.967944807473982,\n        \"min\": 1.5,\n        \"max\": 9.3,\n        \"num_unique_values\": 72,\n        \"samples\": [\n          8.8\n        ],\n        \"semantic_type\": \"\",\n        \"description\": \"\"\n      }\n    },\n    {\n      \"column\": \"about\",\n      \"properties\": {\n        \"dtype\": \"string\",\n        \"num_unique_values\": 4946,\n        \"samples\": [\n          \"An elderly man and his dog struggle to survive on his government pension in Rome.\"\n        ],\n        \"semantic_type\": \"\",\n        \"description\": \"\"\n      }\n    },\n    {\n      \"column\": \"director\",\n      \"properties\": {\n        \"dtype\": \"category\",\n        \"num_unique_values\": 1954,\n        \"samples\": [\n          \"Paul Tibbitt\"\n        ],\n        \"semantic_type\": \"\",\n        \"description\": \"\"\n      }\n    },\n    {\n      \"column\": \"stars\",\n      \"properties\": {\n        \"dtype\": \"string\",\n        \"num_unique_values\": 4940,\n        \"samples\": [\n          \"('Amy Adams',), ('Meryl Streep',), ('Chris Messina',), ('Stanley Tucci',)\"\n        ],\n        \"semantic_type\": \"\",\n        \"description\": \"\"\n      }\n    },\n    {\n      \"column\": \"votes\",\n      \"properties\": {\n        \"dtype\": \"string\",\n        \"num_unique_values\": 4889,\n        \"samples\": [\n          \"1,67,236\"\n        ],\n        \"semantic_type\": \"\",\n        \"description\": \"\"\n      }\n    },\n    {\n      \"column\": \"gross_earn\",\n      \"properties\": {\n        \"dtype\": \"string\",\n        \"num_unique_values\": 3366,\n        \"samples\": [\n          \"$116.63M\"\n        ],\n        \"semantic_type\": \"\",\n        \"description\": \"\"\n      }\n    },\n    {\n      \"column\": \"runtime_clear\",\n      \"properties\": {\n        \"dtype\": \"number\",\n        \"std\": 21,\n        \"min\": 45,\n        \"max\": 366,\n        \"num_unique_values\": 151,\n        \"samples\": [\n          238\n        ],\n        \"semantic_type\": \"\",\n        \"description\": \"\"\n      }\n    },\n    {\n      \"column\": \"gross_earn_clean\",\n      \"properties\": {\n        \"dtype\": \"number\",\n        \"std\": 67.1166973659388,\n        \"min\": 0.0,\n        \"max\": 936.66,\n        \"num_unique_values\": 3366,\n        \"samples\": [\n          116.63\n        ],\n        \"semantic_type\": \"\",\n        \"description\": \"\"\n      }\n    },\n    {\n      \"column\": \"gross_earn_clear\",\n      \"properties\": {\n        \"dtype\": \"number\",\n        \"std\": 67.1166973659388,\n        \"min\": 0.0,\n        \"max\": 936.66,\n        \"num_unique_values\": 3366,\n        \"samples\": [\n          116.63\n        ],\n        \"semantic_type\": \"\",\n        \"description\": \"\"\n      }\n    }\n  ]\n}"
            }
          },
          "metadata": {},
          "execution_count": 7
        }
      ]
    },
    {
      "cell_type": "markdown",
      "source": [
        "Удалите столбец 'Unnamed: 0' как ненужный с помощью метода drop(), передав в него параметры columns и inplace=True"
      ],
      "metadata": {
        "id": "-ZBXKlsk-KBh"
      }
    },
    {
      "cell_type": "code",
      "source": [
        "dataset.drop(columns='Unnamed: 0', inplace=True)"
      ],
      "metadata": {
        "id": "memX1_CzI44-"
      },
      "execution_count": 8,
      "outputs": []
    },
    {
      "cell_type": "markdown",
      "source": [
        "## 4. Оценка размеров датасета, выбор признаков для анализа"
      ],
      "metadata": {
        "id": "3uHWsjiUlAVn"
      }
    },
    {
      "cell_type": "markdown",
      "source": [
        "Оцените размеры датасета с помощью атрибута shape"
      ],
      "metadata": {
        "id": "UKQGc9s2-fEj"
      }
    },
    {
      "cell_type": "code",
      "execution_count": 13,
      "metadata": {
        "id": "Mbniz7lAHMdW",
        "colab": {
          "base_uri": "https://localhost:8080/"
        },
        "outputId": "e4969c78-2882-4dd0-8ef0-e0a1bfca4ba3"
      },
      "outputs": [
        {
          "output_type": "stream",
          "name": "stdout",
          "text": [
            "(4970, 14)\n"
          ]
        }
      ],
      "source": [
        "print(dataset.shape) '''изи"
      ]
    },
    {
      "cell_type": "markdown",
      "source": [
        "Выведите информацию о датасете с помощью метода info()"
      ],
      "metadata": {
        "id": "zSMMwr0D-iKE"
      }
    },
    {
      "cell_type": "code",
      "source": [
        "dataset.info()"
      ],
      "metadata": {
        "id": "Rb9-5dw7lL-_",
        "colab": {
          "base_uri": "https://localhost:8080/"
        },
        "outputId": "9546bf63-b255-46f6-f6f5-7cb3a8deffc1"
      },
      "execution_count": 14,
      "outputs": [
        {
          "output_type": "stream",
          "name": "stdout",
          "text": [
            "<class 'pandas.core.frame.DataFrame'>\n",
            "RangeIndex: 4970 entries, 0 to 4969\n",
            "Data columns (total 14 columns):\n",
            " #   Column            Non-Null Count  Dtype  \n",
            "---  ------            --------------  -----  \n",
            " 0   poster            4970 non-null   object \n",
            " 1   title             4970 non-null   object \n",
            " 2   certificate       4970 non-null   object \n",
            " 3   runtime           4970 non-null   object \n",
            " 4   genre             4970 non-null   object \n",
            " 5   rating            4970 non-null   float64\n",
            " 6   about             4956 non-null   object \n",
            " 7   director          4970 non-null   object \n",
            " 8   stars             4970 non-null   object \n",
            " 9   votes             4970 non-null   object \n",
            " 10  gross_earn        4574 non-null   object \n",
            " 11  runtime_clear     4970 non-null   int64  \n",
            " 12  gross_earn_clean  4574 non-null   float64\n",
            " 13  gross_earn_clear  4574 non-null   float64\n",
            "dtypes: float64(3), int64(1), object(10)\n",
            "memory usage: 543.7+ KB\n"
          ]
        }
      ]
    },
    {
      "cell_type": "markdown",
      "source": [
        "**Признаки, которые будут использованы для дальнейшего анализа:**"
      ],
      "metadata": {
        "id": "2uVZ_o9--met"
      }
    },
    {
      "cell_type": "markdown",
      "source": [
        "***Количественные признаки:***\n",
        "1.   Продолжительность фильма: runtime_clear\n",
        "2.   Доход с фильма: gross_earn_clear\n",
        "\n",
        "***Категориальные признаки:***\n",
        "1.   Наименование фильма: title\n",
        "2.   Класс фильма: certificate\n",
        "3.   Жанр фильма: genre\n",
        "4.   Рейтинг фильма: rating\n",
        "5.   Кинорежиссер: director\n",
        "6.   Актеры-звезды фильма: stars\n"
      ],
      "metadata": {
        "id": "__4ow2nerR2R"
      }
    },
    {
      "cell_type": "markdown",
      "source": [
        "## 5. Неграфический и графический анализ количественных признаков"
      ],
      "metadata": {
        "id": "Int1osF-mdy-"
      }
    },
    {
      "cell_type": "markdown",
      "source": [
        "Выполните неграфический и графический анализ количественных признаков"
      ],
      "metadata": {
        "id": "j5R6MgdIIpBb"
      }
    },
    {
      "cell_type": "markdown",
      "source": [
        "### *5.1. gross_earn_clear*"
      ],
      "metadata": {
        "id": "gp81b9DUrIEr"
      }
    },
    {
      "cell_type": "markdown",
      "source": [
        "Сохраните Series ['gross_earn_clear'] в переменную gross_earn"
      ],
      "metadata": {
        "id": "A-AUrPXC_h6p"
      }
    },
    {
      "cell_type": "code",
      "execution_count": 15,
      "metadata": {
        "id": "B4HhGwUOKCfU"
      },
      "outputs": [],
      "source": [
        "gross_earn = dataset['gross_earn_clear']"
      ]
    },
    {
      "cell_type": "markdown",
      "source": [
        "Рассчитайте максимальное и минимальное значения доходов с фильмов с помощью методов max() и min() соответственно. Выведите значения на печать"
      ],
      "metadata": {
        "id": "gP-qOeh8AMLZ"
      }
    },
    {
      "cell_type": "code",
      "source": [
        "max_value = gross_earn.max()\n",
        "min_value = gross_earn.min()\n",
        "print('Наибольший доход: ', max_value, 'Наименьший доход: ', min_value) ''' ну вроде так"
      ],
      "metadata": {
        "id": "PhrGIpCboJqC",
        "colab": {
          "base_uri": "https://localhost:8080/"
        },
        "outputId": "5c6818b6-379a-4392-9b6b-c9c124550d6c"
      },
      "execution_count": 16,
      "outputs": [
        {
          "output_type": "stream",
          "name": "stdout",
          "text": [
            "Наибольший доход:  936.66 Наименьший доход:  0.0\n"
          ]
        }
      ]
    },
    {
      "cell_type": "markdown",
      "source": [
        "Рассмотрите наблюдения, у которых значение по признаку gross_earn равно 0.0"
      ],
      "metadata": {
        "id": "ttYZso-zBLZJ"
      }
    },
    {
      "cell_type": "code",
      "source": [
        "dataset[dataset['gross_earn_clear']==0.0]"
      ],
      "metadata": {
        "id": "699S3eY8xjDf",
        "colab": {
          "base_uri": "https://localhost:8080/",
          "height": 1000
        },
        "outputId": "fb03bc3a-59f0-47a2-dc32-9a9a495b3aa0"
      },
      "execution_count": 17,
      "outputs": [
        {
          "output_type": "execute_result",
          "data": {
            "text/plain": [
              "                                                 poster  \\\n",
              "608   https://m.media-amazon.com/images/S/sash/4Fyxw...   \n",
              "676   https://m.media-amazon.com/images/S/sash/4Fyxw...   \n",
              "1318  https://m.media-amazon.com/images/S/sash/4Fyxw...   \n",
              "1331  https://m.media-amazon.com/images/S/sash/4Fyxw...   \n",
              "1523  https://m.media-amazon.com/images/S/sash/4Fyxw...   \n",
              "2026  https://m.media-amazon.com/images/S/sash/4Fyxw...   \n",
              "2435  https://m.media-amazon.com/images/S/sash/4Fyxw...   \n",
              "3151  https://m.media-amazon.com/images/S/sash/4Fyxw...   \n",
              "3360  https://m.media-amazon.com/images/S/sash/4Fyxw...   \n",
              "3669  https://m.media-amazon.com/images/S/sash/4Fyxw...   \n",
              "3714  https://m.media-amazon.com/images/S/sash/4Fyxw...   \n",
              "3872  https://m.media-amazon.com/images/S/sash/4Fyxw...   \n",
              "3957  https://m.media-amazon.com/images/S/sash/4Fyxw...   \n",
              "4382  https://m.media-amazon.com/images/S/sash/4Fyxw...   \n",
              "4416  https://m.media-amazon.com/images/S/sash/4Fyxw...   \n",
              "4821  https://m.media-amazon.com/images/S/sash/4Fyxw...   \n",
              "\n",
              "                       title certificate  runtime                     genre  \\\n",
              "608               Mr. Nobody          15  141 min   Drama, Fantasy, Romance   \n",
              "676            Adam's Apples           R   94 min      Comedy, Crime, Drama   \n",
              "1318                   Ben X          15   93 min           Drama, Thriller   \n",
              "1331                  Pusher          18  110 min           Crime, Thriller   \n",
              "1523   Nothing But the Truth          15  108 min              Crime, Drama   \n",
              "2026           Perfect Sense          15   92 min    Drama, Romance, Sci-Fi   \n",
              "2435            Ginger Snaps          18  108 min    Drama, Fantasy, Horror   \n",
              "3151            Son of a Gun          15  108 min      Action, Crime, Drama   \n",
              "3360                Flypaper          15   87 min    Comedy, Crime, Mystery   \n",
              "3669             Chalet Girl         12A   97 min    Comedy, Romance, Sport   \n",
              "3714      The Oxford Murders          15  108 min  Adventure, Crime, Horror   \n",
              "3872          Burke and Hare          15   91 min    Comedy, Crime, History   \n",
              "3957           The Condemned          18  114 min   Action, Crime, Thriller   \n",
              "4382               Wild Card          15   92 min      Action, Crime, Drama   \n",
              "4416  I Spit on Your Grave 2          18  106 min          Horror, Thriller   \n",
              "4821                     ATM          15   90 min          Horror, Thriller   \n",
              "\n",
              "      rating                                              about  \\\n",
              "608      7.8  A boy stands on a station platform as a train ...   \n",
              "676      7.7  A neo-Nazi sentenced to community service at a...   \n",
              "1318     7.3  As an alternative to getting bullied at school...   \n",
              "1331     7.3  A drug pusher grows increasingly desperate aft...   \n",
              "1523     7.2  In Washington, D.C., a reporter faces a possib...   \n",
              "2026     7.0  A chef and a scientist fall in love as an epid...   \n",
              "2435     6.8  Two death-obsessed sisters, outcasts in their ...   \n",
              "3151     6.4  JR busts out of prison with Brendan Lynch, Aus...   \n",
              "3360     6.3  A man caught in the middle of two simultaneous...   \n",
              "3669     6.2  Former skateboard champion Kim wants to make m...   \n",
              "3714     6.1  At Oxford University, a professor and a grad s...   \n",
              "3872     6.1  A black comedy about two 19th-century grave ro...   \n",
              "3957     6.0  Jack Conrad is awaiting the death penalty in a...   \n",
              "4382     5.6  When a Las Vegas bodyguard with lethal skills ...   \n",
              "4416     5.6  When Katie innocently accepts an offer to have...   \n",
              "4821     4.7  On a late night visit to an ATM, three co-work...   \n",
              "\n",
              "                  director                                              stars  \\\n",
              "608       Jaco Van Dormael  ('Jared Leto',), ('Sarah Polley',), ('Diane Kr...   \n",
              "676   Anders Thomas Jensen  ('Ulrich Thomsen',), ('Mads Mikkelsen',), ('Ni...   \n",
              "1318         Nic Balthazar  ('Marijke Pinoy',), ('Greg Timmermans',), ('Ce...   \n",
              "1331  Nicolas Winding Refn  ('Kim Bodnia',), ('Zlatko Buric',), ('Laura Dr...   \n",
              "1523             Rod Lurie  ('Kate Beckinsale',), ('Matt Dillon',), ('Vera...   \n",
              "2026       David Mackenzie  ('Ewan McGregor',), ('Eva Green',), ('Lauren T...   \n",
              "2435          John Fawcett  ('Emily Perkins',), ('Katharine Isabelle',), (...   \n",
              "3151          Julius Avery  ('Ewan McGregor',), ('Brenton Thwaites',), ('A...   \n",
              "3360           Rob Minkoff  ('Patrick Dempsey',), ('Ashley Judd',), ('Tim ...   \n",
              "3669           Phil Traill  ('Felicity Jones',), ('Ed Westwick',), ('Bill ...   \n",
              "3714    Álex de la Iglesia  ('Elijah Wood',), ('John Hurt',), ('Leonor Wat...   \n",
              "3872           John Landis  ('Bill Bailey',), ('Tom Wilkinson',), ('Michae...   \n",
              "3957           Scott Wiper  ('Steve Austin',), ('Vinnie Jones',), ('Nathan...   \n",
              "4382            Simon West  ('Jason Statham',), ('Michael Angarano',), ('D...   \n",
              "4416      Steven R. Monroe  ('Jemma Dallender',), ('Joe Absolom',), ('Yavo...   \n",
              "4821          David Brooks  ('Alice Eve',), ('Josh Peck',), ('Brian Geragh...   \n",
              "\n",
              "         votes gross_earn  runtime_clear  gross_earn_clean  gross_earn_clear  \n",
              "608   2,32,030     $0.00M            141               0.0               0.0  \n",
              "676     50,694     $0.00M             94               0.0               0.0  \n",
              "1318    18,943     $0.00M             93               0.0               0.0  \n",
              "1331    39,929     $0.00M            110               0.0               0.0  \n",
              "1523    38,253     $0.00M            108               0.0               0.0  \n",
              "2026    60,249     $0.00M             92               0.0               0.0  \n",
              "2435    47,082     $0.00M            108               0.0               0.0  \n",
              "3151    28,121     $0.00M            108               0.0               0.0  \n",
              "3360    33,003     $0.00M             87               0.0               0.0  \n",
              "3669    25,470     $0.00M             97               0.0               0.0  \n",
              "3714    29,257     $0.00M            108               0.0               0.0  \n",
              "3872    20,331     $0.00M             91               0.0               0.0  \n",
              "3957    52,430     $0.00M            114               0.0               0.0  \n",
              "4382    55,803     $0.00M             92               0.0               0.0  \n",
              "4416    29,901     $0.00M            106               0.0               0.0  \n",
              "4821    23,960     $0.00M             90               0.0               0.0  "
            ],
            "text/html": [
              "\n",
              "  <div id=\"df-0f6f28cf-1eba-40cf-a094-381f619d9c11\" class=\"colab-df-container\">\n",
              "    <div>\n",
              "<style scoped>\n",
              "    .dataframe tbody tr th:only-of-type {\n",
              "        vertical-align: middle;\n",
              "    }\n",
              "\n",
              "    .dataframe tbody tr th {\n",
              "        vertical-align: top;\n",
              "    }\n",
              "\n",
              "    .dataframe thead th {\n",
              "        text-align: right;\n",
              "    }\n",
              "</style>\n",
              "<table border=\"1\" class=\"dataframe\">\n",
              "  <thead>\n",
              "    <tr style=\"text-align: right;\">\n",
              "      <th></th>\n",
              "      <th>poster</th>\n",
              "      <th>title</th>\n",
              "      <th>certificate</th>\n",
              "      <th>runtime</th>\n",
              "      <th>genre</th>\n",
              "      <th>rating</th>\n",
              "      <th>about</th>\n",
              "      <th>director</th>\n",
              "      <th>stars</th>\n",
              "      <th>votes</th>\n",
              "      <th>gross_earn</th>\n",
              "      <th>runtime_clear</th>\n",
              "      <th>gross_earn_clean</th>\n",
              "      <th>gross_earn_clear</th>\n",
              "    </tr>\n",
              "  </thead>\n",
              "  <tbody>\n",
              "    <tr>\n",
              "      <th>608</th>\n",
              "      <td>https://m.media-amazon.com/images/S/sash/4Fyxw...</td>\n",
              "      <td>Mr. Nobody</td>\n",
              "      <td>15</td>\n",
              "      <td>141 min</td>\n",
              "      <td>Drama, Fantasy, Romance</td>\n",
              "      <td>7.8</td>\n",
              "      <td>A boy stands on a station platform as a train ...</td>\n",
              "      <td>Jaco Van Dormael</td>\n",
              "      <td>('Jared Leto',), ('Sarah Polley',), ('Diane Kr...</td>\n",
              "      <td>2,32,030</td>\n",
              "      <td>$0.00M</td>\n",
              "      <td>141</td>\n",
              "      <td>0.0</td>\n",
              "      <td>0.0</td>\n",
              "    </tr>\n",
              "    <tr>\n",
              "      <th>676</th>\n",
              "      <td>https://m.media-amazon.com/images/S/sash/4Fyxw...</td>\n",
              "      <td>Adam's Apples</td>\n",
              "      <td>R</td>\n",
              "      <td>94 min</td>\n",
              "      <td>Comedy, Crime, Drama</td>\n",
              "      <td>7.7</td>\n",
              "      <td>A neo-Nazi sentenced to community service at a...</td>\n",
              "      <td>Anders Thomas Jensen</td>\n",
              "      <td>('Ulrich Thomsen',), ('Mads Mikkelsen',), ('Ni...</td>\n",
              "      <td>50,694</td>\n",
              "      <td>$0.00M</td>\n",
              "      <td>94</td>\n",
              "      <td>0.0</td>\n",
              "      <td>0.0</td>\n",
              "    </tr>\n",
              "    <tr>\n",
              "      <th>1318</th>\n",
              "      <td>https://m.media-amazon.com/images/S/sash/4Fyxw...</td>\n",
              "      <td>Ben X</td>\n",
              "      <td>15</td>\n",
              "      <td>93 min</td>\n",
              "      <td>Drama, Thriller</td>\n",
              "      <td>7.3</td>\n",
              "      <td>As an alternative to getting bullied at school...</td>\n",
              "      <td>Nic Balthazar</td>\n",
              "      <td>('Marijke Pinoy',), ('Greg Timmermans',), ('Ce...</td>\n",
              "      <td>18,943</td>\n",
              "      <td>$0.00M</td>\n",
              "      <td>93</td>\n",
              "      <td>0.0</td>\n",
              "      <td>0.0</td>\n",
              "    </tr>\n",
              "    <tr>\n",
              "      <th>1331</th>\n",
              "      <td>https://m.media-amazon.com/images/S/sash/4Fyxw...</td>\n",
              "      <td>Pusher</td>\n",
              "      <td>18</td>\n",
              "      <td>110 min</td>\n",
              "      <td>Crime, Thriller</td>\n",
              "      <td>7.3</td>\n",
              "      <td>A drug pusher grows increasingly desperate aft...</td>\n",
              "      <td>Nicolas Winding Refn</td>\n",
              "      <td>('Kim Bodnia',), ('Zlatko Buric',), ('Laura Dr...</td>\n",
              "      <td>39,929</td>\n",
              "      <td>$0.00M</td>\n",
              "      <td>110</td>\n",
              "      <td>0.0</td>\n",
              "      <td>0.0</td>\n",
              "    </tr>\n",
              "    <tr>\n",
              "      <th>1523</th>\n",
              "      <td>https://m.media-amazon.com/images/S/sash/4Fyxw...</td>\n",
              "      <td>Nothing But the Truth</td>\n",
              "      <td>15</td>\n",
              "      <td>108 min</td>\n",
              "      <td>Crime, Drama</td>\n",
              "      <td>7.2</td>\n",
              "      <td>In Washington, D.C., a reporter faces a possib...</td>\n",
              "      <td>Rod Lurie</td>\n",
              "      <td>('Kate Beckinsale',), ('Matt Dillon',), ('Vera...</td>\n",
              "      <td>38,253</td>\n",
              "      <td>$0.00M</td>\n",
              "      <td>108</td>\n",
              "      <td>0.0</td>\n",
              "      <td>0.0</td>\n",
              "    </tr>\n",
              "    <tr>\n",
              "      <th>2026</th>\n",
              "      <td>https://m.media-amazon.com/images/S/sash/4Fyxw...</td>\n",
              "      <td>Perfect Sense</td>\n",
              "      <td>15</td>\n",
              "      <td>92 min</td>\n",
              "      <td>Drama, Romance, Sci-Fi</td>\n",
              "      <td>7.0</td>\n",
              "      <td>A chef and a scientist fall in love as an epid...</td>\n",
              "      <td>David Mackenzie</td>\n",
              "      <td>('Ewan McGregor',), ('Eva Green',), ('Lauren T...</td>\n",
              "      <td>60,249</td>\n",
              "      <td>$0.00M</td>\n",
              "      <td>92</td>\n",
              "      <td>0.0</td>\n",
              "      <td>0.0</td>\n",
              "    </tr>\n",
              "    <tr>\n",
              "      <th>2435</th>\n",
              "      <td>https://m.media-amazon.com/images/S/sash/4Fyxw...</td>\n",
              "      <td>Ginger Snaps</td>\n",
              "      <td>18</td>\n",
              "      <td>108 min</td>\n",
              "      <td>Drama, Fantasy, Horror</td>\n",
              "      <td>6.8</td>\n",
              "      <td>Two death-obsessed sisters, outcasts in their ...</td>\n",
              "      <td>John Fawcett</td>\n",
              "      <td>('Emily Perkins',), ('Katharine Isabelle',), (...</td>\n",
              "      <td>47,082</td>\n",
              "      <td>$0.00M</td>\n",
              "      <td>108</td>\n",
              "      <td>0.0</td>\n",
              "      <td>0.0</td>\n",
              "    </tr>\n",
              "    <tr>\n",
              "      <th>3151</th>\n",
              "      <td>https://m.media-amazon.com/images/S/sash/4Fyxw...</td>\n",
              "      <td>Son of a Gun</td>\n",
              "      <td>15</td>\n",
              "      <td>108 min</td>\n",
              "      <td>Action, Crime, Drama</td>\n",
              "      <td>6.4</td>\n",
              "      <td>JR busts out of prison with Brendan Lynch, Aus...</td>\n",
              "      <td>Julius Avery</td>\n",
              "      <td>('Ewan McGregor',), ('Brenton Thwaites',), ('A...</td>\n",
              "      <td>28,121</td>\n",
              "      <td>$0.00M</td>\n",
              "      <td>108</td>\n",
              "      <td>0.0</td>\n",
              "      <td>0.0</td>\n",
              "    </tr>\n",
              "    <tr>\n",
              "      <th>3360</th>\n",
              "      <td>https://m.media-amazon.com/images/S/sash/4Fyxw...</td>\n",
              "      <td>Flypaper</td>\n",
              "      <td>15</td>\n",
              "      <td>87 min</td>\n",
              "      <td>Comedy, Crime, Mystery</td>\n",
              "      <td>6.3</td>\n",
              "      <td>A man caught in the middle of two simultaneous...</td>\n",
              "      <td>Rob Minkoff</td>\n",
              "      <td>('Patrick Dempsey',), ('Ashley Judd',), ('Tim ...</td>\n",
              "      <td>33,003</td>\n",
              "      <td>$0.00M</td>\n",
              "      <td>87</td>\n",
              "      <td>0.0</td>\n",
              "      <td>0.0</td>\n",
              "    </tr>\n",
              "    <tr>\n",
              "      <th>3669</th>\n",
              "      <td>https://m.media-amazon.com/images/S/sash/4Fyxw...</td>\n",
              "      <td>Chalet Girl</td>\n",
              "      <td>12A</td>\n",
              "      <td>97 min</td>\n",
              "      <td>Comedy, Romance, Sport</td>\n",
              "      <td>6.2</td>\n",
              "      <td>Former skateboard champion Kim wants to make m...</td>\n",
              "      <td>Phil Traill</td>\n",
              "      <td>('Felicity Jones',), ('Ed Westwick',), ('Bill ...</td>\n",
              "      <td>25,470</td>\n",
              "      <td>$0.00M</td>\n",
              "      <td>97</td>\n",
              "      <td>0.0</td>\n",
              "      <td>0.0</td>\n",
              "    </tr>\n",
              "    <tr>\n",
              "      <th>3714</th>\n",
              "      <td>https://m.media-amazon.com/images/S/sash/4Fyxw...</td>\n",
              "      <td>The Oxford Murders</td>\n",
              "      <td>15</td>\n",
              "      <td>108 min</td>\n",
              "      <td>Adventure, Crime, Horror</td>\n",
              "      <td>6.1</td>\n",
              "      <td>At Oxford University, a professor and a grad s...</td>\n",
              "      <td>Álex de la Iglesia</td>\n",
              "      <td>('Elijah Wood',), ('John Hurt',), ('Leonor Wat...</td>\n",
              "      <td>29,257</td>\n",
              "      <td>$0.00M</td>\n",
              "      <td>108</td>\n",
              "      <td>0.0</td>\n",
              "      <td>0.0</td>\n",
              "    </tr>\n",
              "    <tr>\n",
              "      <th>3872</th>\n",
              "      <td>https://m.media-amazon.com/images/S/sash/4Fyxw...</td>\n",
              "      <td>Burke and Hare</td>\n",
              "      <td>15</td>\n",
              "      <td>91 min</td>\n",
              "      <td>Comedy, Crime, History</td>\n",
              "      <td>6.1</td>\n",
              "      <td>A black comedy about two 19th-century grave ro...</td>\n",
              "      <td>John Landis</td>\n",
              "      <td>('Bill Bailey',), ('Tom Wilkinson',), ('Michae...</td>\n",
              "      <td>20,331</td>\n",
              "      <td>$0.00M</td>\n",
              "      <td>91</td>\n",
              "      <td>0.0</td>\n",
              "      <td>0.0</td>\n",
              "    </tr>\n",
              "    <tr>\n",
              "      <th>3957</th>\n",
              "      <td>https://m.media-amazon.com/images/S/sash/4Fyxw...</td>\n",
              "      <td>The Condemned</td>\n",
              "      <td>18</td>\n",
              "      <td>114 min</td>\n",
              "      <td>Action, Crime, Thriller</td>\n",
              "      <td>6.0</td>\n",
              "      <td>Jack Conrad is awaiting the death penalty in a...</td>\n",
              "      <td>Scott Wiper</td>\n",
              "      <td>('Steve Austin',), ('Vinnie Jones',), ('Nathan...</td>\n",
              "      <td>52,430</td>\n",
              "      <td>$0.00M</td>\n",
              "      <td>114</td>\n",
              "      <td>0.0</td>\n",
              "      <td>0.0</td>\n",
              "    </tr>\n",
              "    <tr>\n",
              "      <th>4382</th>\n",
              "      <td>https://m.media-amazon.com/images/S/sash/4Fyxw...</td>\n",
              "      <td>Wild Card</td>\n",
              "      <td>15</td>\n",
              "      <td>92 min</td>\n",
              "      <td>Action, Crime, Drama</td>\n",
              "      <td>5.6</td>\n",
              "      <td>When a Las Vegas bodyguard with lethal skills ...</td>\n",
              "      <td>Simon West</td>\n",
              "      <td>('Jason Statham',), ('Michael Angarano',), ('D...</td>\n",
              "      <td>55,803</td>\n",
              "      <td>$0.00M</td>\n",
              "      <td>92</td>\n",
              "      <td>0.0</td>\n",
              "      <td>0.0</td>\n",
              "    </tr>\n",
              "    <tr>\n",
              "      <th>4416</th>\n",
              "      <td>https://m.media-amazon.com/images/S/sash/4Fyxw...</td>\n",
              "      <td>I Spit on Your Grave 2</td>\n",
              "      <td>18</td>\n",
              "      <td>106 min</td>\n",
              "      <td>Horror, Thriller</td>\n",
              "      <td>5.6</td>\n",
              "      <td>When Katie innocently accepts an offer to have...</td>\n",
              "      <td>Steven R. Monroe</td>\n",
              "      <td>('Jemma Dallender',), ('Joe Absolom',), ('Yavo...</td>\n",
              "      <td>29,901</td>\n",
              "      <td>$0.00M</td>\n",
              "      <td>106</td>\n",
              "      <td>0.0</td>\n",
              "      <td>0.0</td>\n",
              "    </tr>\n",
              "    <tr>\n",
              "      <th>4821</th>\n",
              "      <td>https://m.media-amazon.com/images/S/sash/4Fyxw...</td>\n",
              "      <td>ATM</td>\n",
              "      <td>15</td>\n",
              "      <td>90 min</td>\n",
              "      <td>Horror, Thriller</td>\n",
              "      <td>4.7</td>\n",
              "      <td>On a late night visit to an ATM, three co-work...</td>\n",
              "      <td>David Brooks</td>\n",
              "      <td>('Alice Eve',), ('Josh Peck',), ('Brian Geragh...</td>\n",
              "      <td>23,960</td>\n",
              "      <td>$0.00M</td>\n",
              "      <td>90</td>\n",
              "      <td>0.0</td>\n",
              "      <td>0.0</td>\n",
              "    </tr>\n",
              "  </tbody>\n",
              "</table>\n",
              "</div>\n",
              "    <div class=\"colab-df-buttons\">\n",
              "\n",
              "  <div class=\"colab-df-container\">\n",
              "    <button class=\"colab-df-convert\" onclick=\"convertToInteractive('df-0f6f28cf-1eba-40cf-a094-381f619d9c11')\"\n",
              "            title=\"Convert this dataframe to an interactive table.\"\n",
              "            style=\"display:none;\">\n",
              "\n",
              "  <svg xmlns=\"http://www.w3.org/2000/svg\" height=\"24px\" viewBox=\"0 -960 960 960\">\n",
              "    <path d=\"M120-120v-720h720v720H120Zm60-500h600v-160H180v160Zm220 220h160v-160H400v160Zm0 220h160v-160H400v160ZM180-400h160v-160H180v160Zm440 0h160v-160H620v160ZM180-180h160v-160H180v160Zm440 0h160v-160H620v160Z\"/>\n",
              "  </svg>\n",
              "    </button>\n",
              "\n",
              "  <style>\n",
              "    .colab-df-container {\n",
              "      display:flex;\n",
              "      gap: 12px;\n",
              "    }\n",
              "\n",
              "    .colab-df-convert {\n",
              "      background-color: #E8F0FE;\n",
              "      border: none;\n",
              "      border-radius: 50%;\n",
              "      cursor: pointer;\n",
              "      display: none;\n",
              "      fill: #1967D2;\n",
              "      height: 32px;\n",
              "      padding: 0 0 0 0;\n",
              "      width: 32px;\n",
              "    }\n",
              "\n",
              "    .colab-df-convert:hover {\n",
              "      background-color: #E2EBFA;\n",
              "      box-shadow: 0px 1px 2px rgba(60, 64, 67, 0.3), 0px 1px 3px 1px rgba(60, 64, 67, 0.15);\n",
              "      fill: #174EA6;\n",
              "    }\n",
              "\n",
              "    .colab-df-buttons div {\n",
              "      margin-bottom: 4px;\n",
              "    }\n",
              "\n",
              "    [theme=dark] .colab-df-convert {\n",
              "      background-color: #3B4455;\n",
              "      fill: #D2E3FC;\n",
              "    }\n",
              "\n",
              "    [theme=dark] .colab-df-convert:hover {\n",
              "      background-color: #434B5C;\n",
              "      box-shadow: 0px 1px 3px 1px rgba(0, 0, 0, 0.15);\n",
              "      filter: drop-shadow(0px 1px 2px rgba(0, 0, 0, 0.3));\n",
              "      fill: #FFFFFF;\n",
              "    }\n",
              "  </style>\n",
              "\n",
              "    <script>\n",
              "      const buttonEl =\n",
              "        document.querySelector('#df-0f6f28cf-1eba-40cf-a094-381f619d9c11 button.colab-df-convert');\n",
              "      buttonEl.style.display =\n",
              "        google.colab.kernel.accessAllowed ? 'block' : 'none';\n",
              "\n",
              "      async function convertToInteractive(key) {\n",
              "        const element = document.querySelector('#df-0f6f28cf-1eba-40cf-a094-381f619d9c11');\n",
              "        const dataTable =\n",
              "          await google.colab.kernel.invokeFunction('convertToInteractive',\n",
              "                                                    [key], {});\n",
              "        if (!dataTable) return;\n",
              "\n",
              "        const docLinkHtml = 'Like what you see? Visit the ' +\n",
              "          '<a target=\"_blank\" href=https://colab.research.google.com/notebooks/data_table.ipynb>data table notebook</a>'\n",
              "          + ' to learn more about interactive tables.';\n",
              "        element.innerHTML = '';\n",
              "        dataTable['output_type'] = 'display_data';\n",
              "        await google.colab.output.renderOutput(dataTable, element);\n",
              "        const docLink = document.createElement('div');\n",
              "        docLink.innerHTML = docLinkHtml;\n",
              "        element.appendChild(docLink);\n",
              "      }\n",
              "    </script>\n",
              "  </div>\n",
              "\n",
              "\n",
              "<div id=\"df-a675193f-f341-46f1-86a4-7b30fe05459a\">\n",
              "  <button class=\"colab-df-quickchart\" onclick=\"quickchart('df-a675193f-f341-46f1-86a4-7b30fe05459a')\"\n",
              "            title=\"Suggest charts\"\n",
              "            style=\"display:none;\">\n",
              "\n",
              "<svg xmlns=\"http://www.w3.org/2000/svg\" height=\"24px\"viewBox=\"0 0 24 24\"\n",
              "     width=\"24px\">\n",
              "    <g>\n",
              "        <path d=\"M19 3H5c-1.1 0-2 .9-2 2v14c0 1.1.9 2 2 2h14c1.1 0 2-.9 2-2V5c0-1.1-.9-2-2-2zM9 17H7v-7h2v7zm4 0h-2V7h2v10zm4 0h-2v-4h2v4z\"/>\n",
              "    </g>\n",
              "</svg>\n",
              "  </button>\n",
              "\n",
              "<style>\n",
              "  .colab-df-quickchart {\n",
              "      --bg-color: #E8F0FE;\n",
              "      --fill-color: #1967D2;\n",
              "      --hover-bg-color: #E2EBFA;\n",
              "      --hover-fill-color: #174EA6;\n",
              "      --disabled-fill-color: #AAA;\n",
              "      --disabled-bg-color: #DDD;\n",
              "  }\n",
              "\n",
              "  [theme=dark] .colab-df-quickchart {\n",
              "      --bg-color: #3B4455;\n",
              "      --fill-color: #D2E3FC;\n",
              "      --hover-bg-color: #434B5C;\n",
              "      --hover-fill-color: #FFFFFF;\n",
              "      --disabled-bg-color: #3B4455;\n",
              "      --disabled-fill-color: #666;\n",
              "  }\n",
              "\n",
              "  .colab-df-quickchart {\n",
              "    background-color: var(--bg-color);\n",
              "    border: none;\n",
              "    border-radius: 50%;\n",
              "    cursor: pointer;\n",
              "    display: none;\n",
              "    fill: var(--fill-color);\n",
              "    height: 32px;\n",
              "    padding: 0;\n",
              "    width: 32px;\n",
              "  }\n",
              "\n",
              "  .colab-df-quickchart:hover {\n",
              "    background-color: var(--hover-bg-color);\n",
              "    box-shadow: 0 1px 2px rgba(60, 64, 67, 0.3), 0 1px 3px 1px rgba(60, 64, 67, 0.15);\n",
              "    fill: var(--button-hover-fill-color);\n",
              "  }\n",
              "\n",
              "  .colab-df-quickchart-complete:disabled,\n",
              "  .colab-df-quickchart-complete:disabled:hover {\n",
              "    background-color: var(--disabled-bg-color);\n",
              "    fill: var(--disabled-fill-color);\n",
              "    box-shadow: none;\n",
              "  }\n",
              "\n",
              "  .colab-df-spinner {\n",
              "    border: 2px solid var(--fill-color);\n",
              "    border-color: transparent;\n",
              "    border-bottom-color: var(--fill-color);\n",
              "    animation:\n",
              "      spin 1s steps(1) infinite;\n",
              "  }\n",
              "\n",
              "  @keyframes spin {\n",
              "    0% {\n",
              "      border-color: transparent;\n",
              "      border-bottom-color: var(--fill-color);\n",
              "      border-left-color: var(--fill-color);\n",
              "    }\n",
              "    20% {\n",
              "      border-color: transparent;\n",
              "      border-left-color: var(--fill-color);\n",
              "      border-top-color: var(--fill-color);\n",
              "    }\n",
              "    30% {\n",
              "      border-color: transparent;\n",
              "      border-left-color: var(--fill-color);\n",
              "      border-top-color: var(--fill-color);\n",
              "      border-right-color: var(--fill-color);\n",
              "    }\n",
              "    40% {\n",
              "      border-color: transparent;\n",
              "      border-right-color: var(--fill-color);\n",
              "      border-top-color: var(--fill-color);\n",
              "    }\n",
              "    60% {\n",
              "      border-color: transparent;\n",
              "      border-right-color: var(--fill-color);\n",
              "    }\n",
              "    80% {\n",
              "      border-color: transparent;\n",
              "      border-right-color: var(--fill-color);\n",
              "      border-bottom-color: var(--fill-color);\n",
              "    }\n",
              "    90% {\n",
              "      border-color: transparent;\n",
              "      border-bottom-color: var(--fill-color);\n",
              "    }\n",
              "  }\n",
              "</style>\n",
              "\n",
              "  <script>\n",
              "    async function quickchart(key) {\n",
              "      const quickchartButtonEl =\n",
              "        document.querySelector('#' + key + ' button');\n",
              "      quickchartButtonEl.disabled = true;  // To prevent multiple clicks.\n",
              "      quickchartButtonEl.classList.add('colab-df-spinner');\n",
              "      try {\n",
              "        const charts = await google.colab.kernel.invokeFunction(\n",
              "            'suggestCharts', [key], {});\n",
              "      } catch (error) {\n",
              "        console.error('Error during call to suggestCharts:', error);\n",
              "      }\n",
              "      quickchartButtonEl.classList.remove('colab-df-spinner');\n",
              "      quickchartButtonEl.classList.add('colab-df-quickchart-complete');\n",
              "    }\n",
              "    (() => {\n",
              "      let quickchartButtonEl =\n",
              "        document.querySelector('#df-a675193f-f341-46f1-86a4-7b30fe05459a button');\n",
              "      quickchartButtonEl.style.display =\n",
              "        google.colab.kernel.accessAllowed ? 'block' : 'none';\n",
              "    })();\n",
              "  </script>\n",
              "</div>\n",
              "    </div>\n",
              "  </div>\n"
            ],
            "application/vnd.google.colaboratory.intrinsic+json": {
              "type": "dataframe",
              "summary": "{\n  \"name\": \"dataset[dataset['gross_earn_clear']==0\",\n  \"rows\": 16,\n  \"fields\": [\n    {\n      \"column\": \"poster\",\n      \"properties\": {\n        \"dtype\": \"category\",\n        \"num_unique_values\": 1,\n        \"samples\": [\n          \"https://m.media-amazon.com/images/S/sash/4FyxwxECzL-U1J8.png\"\n        ],\n        \"semantic_type\": \"\",\n        \"description\": \"\"\n      }\n    },\n    {\n      \"column\": \"title\",\n      \"properties\": {\n        \"dtype\": \"string\",\n        \"num_unique_values\": 16,\n        \"samples\": [\n          \"Mr. Nobody\"\n        ],\n        \"semantic_type\": \"\",\n        \"description\": \"\"\n      }\n    },\n    {\n      \"column\": \"certificate\",\n      \"properties\": {\n        \"dtype\": \"category\",\n        \"num_unique_values\": 4,\n        \"samples\": [\n          \"R\"\n        ],\n        \"semantic_type\": \"\",\n        \"description\": \"\"\n      }\n    },\n    {\n      \"column\": \"runtime\",\n      \"properties\": {\n        \"dtype\": \"string\",\n        \"num_unique_values\": 12,\n        \"samples\": [\n          \"106 min\"\n        ],\n        \"semantic_type\": \"\",\n        \"description\": \"\"\n      }\n    },\n    {\n      \"column\": \"genre\",\n      \"properties\": {\n        \"dtype\": \"string\",\n        \"num_unique_values\": 14,\n        \"samples\": [\n          \"Comedy, Romance, Sport\"\n        ],\n        \"semantic_type\": \"\",\n        \"description\": \"\"\n      }\n    },\n    {\n      \"column\": \"rating\",\n      \"properties\": {\n        \"dtype\": \"number\",\n        \"std\": 0.8488963423174822,\n        \"min\": 4.7,\n        \"max\": 7.8,\n        \"num_unique_values\": 13,\n        \"samples\": [\n          5.6\n        ],\n        \"semantic_type\": \"\",\n        \"description\": \"\"\n      }\n    },\n    {\n      \"column\": \"about\",\n      \"properties\": {\n        \"dtype\": \"string\",\n        \"num_unique_values\": 16,\n        \"samples\": [\n          \"A boy stands on a station platform as a train is about to leave. Should he go with his mother or stay with his father? Infinite possibilities arise from this decision. As long as he doesn't choose, anything is possible.\"\n        ],\n        \"semantic_type\": \"\",\n        \"description\": \"\"\n      }\n    },\n    {\n      \"column\": \"director\",\n      \"properties\": {\n        \"dtype\": \"string\",\n        \"num_unique_values\": 16,\n        \"samples\": [\n          \"Jaco Van Dormael\"\n        ],\n        \"semantic_type\": \"\",\n        \"description\": \"\"\n      }\n    },\n    {\n      \"column\": \"stars\",\n      \"properties\": {\n        \"dtype\": \"string\",\n        \"num_unique_values\": 16,\n        \"samples\": [\n          \"('Jared Leto',), ('Sarah Polley',), ('Diane Kruger',), ('Linh-Dan Pham',)\"\n        ],\n        \"semantic_type\": \"\",\n        \"description\": \"\"\n      }\n    },\n    {\n      \"column\": \"votes\",\n      \"properties\": {\n        \"dtype\": \"string\",\n        \"num_unique_values\": 16,\n        \"samples\": [\n          \"2,32,030\"\n        ],\n        \"semantic_type\": \"\",\n        \"description\": \"\"\n      }\n    },\n    {\n      \"column\": \"gross_earn\",\n      \"properties\": {\n        \"dtype\": \"category\",\n        \"num_unique_values\": 1,\n        \"samples\": [\n          \"$0.00M\"\n        ],\n        \"semantic_type\": \"\",\n        \"description\": \"\"\n      }\n    },\n    {\n      \"column\": \"runtime_clear\",\n      \"properties\": {\n        \"dtype\": \"number\",\n        \"std\": 13,\n        \"min\": 87,\n        \"max\": 141,\n        \"num_unique_values\": 12,\n        \"samples\": [\n          106\n        ],\n        \"semantic_type\": \"\",\n        \"description\": \"\"\n      }\n    },\n    {\n      \"column\": \"gross_earn_clean\",\n      \"properties\": {\n        \"dtype\": \"number\",\n        \"std\": 0.0,\n        \"min\": 0.0,\n        \"max\": 0.0,\n        \"num_unique_values\": 1,\n        \"samples\": [\n          0.0\n        ],\n        \"semantic_type\": \"\",\n        \"description\": \"\"\n      }\n    },\n    {\n      \"column\": \"gross_earn_clear\",\n      \"properties\": {\n        \"dtype\": \"number\",\n        \"std\": 0.0,\n        \"min\": 0.0,\n        \"max\": 0.0,\n        \"num_unique_values\": 1,\n        \"samples\": [\n          0.0\n        ],\n        \"semantic_type\": \"\",\n        \"description\": \"\"\n      }\n    }\n  ]\n}"
            }
          },
          "metadata": {},
          "execution_count": 17
        }
      ]
    },
    {
      "cell_type": "markdown",
      "source": [
        "Таких значений не так много. Можно их исключить из анализа. Перезапишите переменную gross_earn, исключив нулевые значения"
      ],
      "metadata": {
        "id": "hX1VqqvnCJ-p"
      }
    },
    {
      "cell_type": "code",
      "source": [
        "gross_earn = dataset[dataset['gross_earn_clear']!=0.0]['gross_earn_clear']"
      ],
      "metadata": {
        "id": "nRZYZy3yxzKd"
      },
      "execution_count": 18,
      "outputs": []
    },
    {
      "cell_type": "markdown",
      "source": [
        "Снова рассчитайте максимальное и минимальное значения доходов с фильмов. Выведите значения на печать"
      ],
      "metadata": {
        "id": "-lYIPwUQCW9Z"
      }
    },
    {
      "cell_type": "code",
      "source": [
        "max_value = gross_earn.max()\n",
        "min_value = gross_earn.min()\n",
        "print('Наибольший доход: ', max_value, 'Наименьший доход: ', min_value)"
      ],
      "metadata": {
        "id": "fS18XeD5yCtO",
        "colab": {
          "base_uri": "https://localhost:8080/"
        },
        "outputId": "ec21a8d6-0053-4564-b942-ac653ff43924"
      },
      "execution_count": 19,
      "outputs": [
        {
          "output_type": "stream",
          "name": "stdout",
          "text": [
            "Наибольший доход:  936.66 Наименьший доход:  0.01\n"
          ]
        }
      ]
    },
    {
      "cell_type": "markdown",
      "source": [
        "Рассчитайте среднее значение признака с помощью метода mean(). Выведите значение на печать"
      ],
      "metadata": {
        "id": "mLZQjrseCkhy"
      }
    },
    {
      "cell_type": "code",
      "source": [
        "mean_value = gross_earn.mean()\n",
        "print('Средний доход с фильма: ', mean_value)"
      ],
      "metadata": {
        "id": "v1_BDPsjxiS8",
        "colab": {
          "base_uri": "https://localhost:8080/"
        },
        "outputId": "3d4df41c-1c4e-4902-d070-9c075da727cf"
      },
      "execution_count": 20,
      "outputs": [
        {
          "output_type": "stream",
          "name": "stdout",
          "text": [
            "Средний доход с фильма:  49.07882623957876\n"
          ]
        }
      ]
    },
    {
      "cell_type": "markdown",
      "source": [
        "Рассчитайте медианное значение признака с помощью метода median(). Выведите значение на печать"
      ],
      "metadata": {
        "id": "wup-6vVTC25L"
      }
    },
    {
      "cell_type": "code",
      "source": [
        "median_value = gross_earn.median()\n",
        "print('Медиана доходов фильмов: ', median_value)"
      ],
      "metadata": {
        "id": "oBSj2wGxyX0L",
        "colab": {
          "base_uri": "https://localhost:8080/"
        },
        "outputId": "7b912f3a-a528-429d-ab17-3deaf9ce8ec2"
      },
      "execution_count": 21,
      "outputs": [
        {
          "output_type": "stream",
          "name": "stdout",
          "text": [
            "Медиана доходов фильмов:  28.345\n"
          ]
        }
      ]
    },
    {
      "cell_type": "markdown",
      "source": [
        "Рассчитайте процентили (10, 25, 50, 75, 90) с помощью метода quantile(). Выведите значения на печать"
      ],
      "metadata": {
        "id": "t_2Bp1tHDdSt"
      }
    },
    {
      "cell_type": "code",
      "source": [
        "percentile_10_value = gross_earn.quantile(0.1)\n",
        "percentile_25_value = gross_earn.quantile(0.25)\n",
        "percentile_50_value = gross_earn.quantile(0.50)\n",
        "percentile_75_value = gross_earn.quantile(0.75)\n",
        "percentile_90_value = gross_earn.quantile(0.90)\n",
        "print('10-й процентиль доходов фильмов: ', percentile_10_value)\n",
        "print('25-й процентиль доходов фильмов: ', percentile_25_value)\n",
        "print('50-й процентиль доходов фильмов: ', percentile_50_value)\n",
        "print('75-й процентиль доходов фильмов: ', percentile_75_value)\n",
        "print('90-й процентиль доходов фильмов: ', percentile_90_value)"
      ],
      "metadata": {
        "id": "LNnm7ro_ysyw",
        "colab": {
          "base_uri": "https://localhost:8080/"
        },
        "outputId": "b1905af1-825d-4f43-b0d3-70a9b78024ae"
      },
      "execution_count": 23,
      "outputs": [
        {
          "output_type": "stream",
          "name": "stdout",
          "text": [
            "10-й процентиль доходов фильмов:  0.7970000000000005\n",
            "25-й процентиль доходов фильмов:  7.0\n",
            "50-й процентиль доходов фильмов:  28.345\n",
            "75-й процентиль доходов фильмов:  63.04\n",
            "90-й процентиль доходов фильмов:  121.96800000000002\n"
          ]
        }
      ]
    },
    {
      "cell_type": "markdown",
      "source": [
        "Выведите показатели описательной статистики с помощью метода describe()"
      ],
      "metadata": {
        "id": "rVjnu8uZDwtk"
      }
    },
    {
      "cell_type": "code",
      "source": [
        "gross_earn.describe()"
      ],
      "metadata": {
        "id": "fXB8sBrgy_Wz",
        "colab": {
          "base_uri": "https://localhost:8080/",
          "height": 331
        },
        "outputId": "61f2ddd4-c473-4ede-c6ee-bbce7e2047cc"
      },
      "execution_count": 24,
      "outputs": [
        {
          "output_type": "execute_result",
          "data": {
            "text/plain": [
              "count    4558.000000\n",
              "mean       49.078826\n",
              "std        67.171717\n",
              "min         0.010000\n",
              "25%         7.000000\n",
              "50%        28.345000\n",
              "75%        63.040000\n",
              "max       936.660000\n",
              "Name: gross_earn_clear, dtype: float64"
            ],
            "text/html": [
              "<div>\n",
              "<style scoped>\n",
              "    .dataframe tbody tr th:only-of-type {\n",
              "        vertical-align: middle;\n",
              "    }\n",
              "\n",
              "    .dataframe tbody tr th {\n",
              "        vertical-align: top;\n",
              "    }\n",
              "\n",
              "    .dataframe thead th {\n",
              "        text-align: right;\n",
              "    }\n",
              "</style>\n",
              "<table border=\"1\" class=\"dataframe\">\n",
              "  <thead>\n",
              "    <tr style=\"text-align: right;\">\n",
              "      <th></th>\n",
              "      <th>gross_earn_clear</th>\n",
              "    </tr>\n",
              "  </thead>\n",
              "  <tbody>\n",
              "    <tr>\n",
              "      <th>count</th>\n",
              "      <td>4558.000000</td>\n",
              "    </tr>\n",
              "    <tr>\n",
              "      <th>mean</th>\n",
              "      <td>49.078826</td>\n",
              "    </tr>\n",
              "    <tr>\n",
              "      <th>std</th>\n",
              "      <td>67.171717</td>\n",
              "    </tr>\n",
              "    <tr>\n",
              "      <th>min</th>\n",
              "      <td>0.010000</td>\n",
              "    </tr>\n",
              "    <tr>\n",
              "      <th>25%</th>\n",
              "      <td>7.000000</td>\n",
              "    </tr>\n",
              "    <tr>\n",
              "      <th>50%</th>\n",
              "      <td>28.345000</td>\n",
              "    </tr>\n",
              "    <tr>\n",
              "      <th>75%</th>\n",
              "      <td>63.040000</td>\n",
              "    </tr>\n",
              "    <tr>\n",
              "      <th>max</th>\n",
              "      <td>936.660000</td>\n",
              "    </tr>\n",
              "  </tbody>\n",
              "</table>\n",
              "</div><br><label><b>dtype:</b> float64</label>"
            ]
          },
          "metadata": {},
          "execution_count": 24
        }
      ]
    },
    {
      "cell_type": "markdown",
      "source": [
        "Импортируйте библиотеку matplotlib с расширением pyplot, присвоив короткое название plt"
      ],
      "metadata": {
        "id": "TGpjqtQzD3ny"
      }
    },
    {
      "cell_type": "code",
      "source": [
        "import matplotlib as plt"
      ],
      "metadata": {
        "id": "Tc4nmgTIzjMP"
      },
      "execution_count": 25,
      "outputs": []
    },
    {
      "cell_type": "markdown",
      "source": [
        "Постройте диаграмму \"ящик с усами\" с помощью метода boxplot()"
      ],
      "metadata": {
        "id": "Jjtqcv4vEQR2"
      }
    },
    {
      "cell_type": "code",
      "source": [
        "dataset.boxplot(column='gross_earn_clear')\n",
        "plt.show()\n"
      ],
      "metadata": {
        "id": "RXsW4eVYzkpd",
        "colab": {
          "base_uri": "https://localhost:8080/",
          "height": 702
        },
        "outputId": "0cb73960-19af-4958-ec4b-53aeee5fa54d"
      },
      "execution_count": 42,
      "outputs": [
        {
          "output_type": "error",
          "ename": "AttributeError",
          "evalue": "module 'matplotlib' has no attribute 'show'",
          "traceback": [
            "\u001b[0;31m---------------------------------------------------------------------------\u001b[0m",
            "\u001b[0;31mAttributeError\u001b[0m                            Traceback (most recent call last)",
            "\u001b[0;32m<ipython-input-42-7b071aa933f4>\u001b[0m in \u001b[0;36m<cell line: 0>\u001b[0;34m()\u001b[0m\n\u001b[1;32m      1\u001b[0m \u001b[0mdataset\u001b[0m\u001b[0;34m.\u001b[0m\u001b[0mboxplot\u001b[0m\u001b[0;34m(\u001b[0m\u001b[0mcolumn\u001b[0m\u001b[0;34m=\u001b[0m\u001b[0;34m'gross_earn_clear'\u001b[0m\u001b[0;34m)\u001b[0m\u001b[0;34m\u001b[0m\u001b[0;34m\u001b[0m\u001b[0m\n\u001b[0;32m----> 2\u001b[0;31m \u001b[0mplt\u001b[0m\u001b[0;34m.\u001b[0m\u001b[0mshow\u001b[0m\u001b[0;34m(\u001b[0m\u001b[0;34m)\u001b[0m\u001b[0;34m\u001b[0m\u001b[0;34m\u001b[0m\u001b[0m\n\u001b[0m",
            "\u001b[0;32m/usr/local/lib/python3.11/dist-packages/matplotlib/_api/__init__.py\u001b[0m in \u001b[0;36m__getattr__\u001b[0;34m(name)\u001b[0m\n\u001b[1;32m    216\u001b[0m         \u001b[0;32mif\u001b[0m \u001b[0mname\u001b[0m \u001b[0;32min\u001b[0m \u001b[0mprops\u001b[0m\u001b[0;34m:\u001b[0m\u001b[0;34m\u001b[0m\u001b[0;34m\u001b[0m\u001b[0m\n\u001b[1;32m    217\u001b[0m             \u001b[0;32mreturn\u001b[0m \u001b[0mprops\u001b[0m\u001b[0;34m[\u001b[0m\u001b[0mname\u001b[0m\u001b[0;34m]\u001b[0m\u001b[0;34m.\u001b[0m\u001b[0m__get__\u001b[0m\u001b[0;34m(\u001b[0m\u001b[0minstance\u001b[0m\u001b[0;34m)\u001b[0m\u001b[0;34m\u001b[0m\u001b[0;34m\u001b[0m\u001b[0m\n\u001b[0;32m--> 218\u001b[0;31m         raise AttributeError(\n\u001b[0m\u001b[1;32m    219\u001b[0m             f\"module {cls.__module__!r} has no attribute {name!r}\")\n\u001b[1;32m    220\u001b[0m \u001b[0;34m\u001b[0m\u001b[0m\n",
            "\u001b[0;31mAttributeError\u001b[0m: module 'matplotlib' has no attribute 'show'"
          ]
        },
        {
          "output_type": "display_data",
          "data": {
            "text/plain": [
              "<Figure size 640x480 with 1 Axes>"
            ],
            "image/png": "[encoded data removed]"
          },
          "metadata": {}
        }
      ]
    },
    {
      "cell_type": "markdown",
      "source": [
        "Диаграмма пустая.  Это связано с наличием пропущенных значений по признаку.\n",
        "Очистите клонку от пустых значений с помощью dropna и попробуйте заново построить \"ящик с усами\""
      ],
      "metadata": {
        "id": "SK-yAPbwL2xE"
      }
    },
    {
      "cell_type": "code",
      "source": [
        "gross_earn_without_na = dataset['gross_earn'].dropna()\n"
      ],
      "metadata": {
        "id": "HNTdBr6NL10c"
      },
      "execution_count": 47,
      "outputs": []
    },
    {
      "cell_type": "code",
      "source": [
        "plt.boxplot(gross_earn_without_na)\n",
        "plt.show()"
      ],
      "metadata": {
        "id": "UhS2pyJ_MhjD",
        "colab": {
          "base_uri": "https://localhost:8080/",
          "height": 289
        },
        "outputId": "507d2da7-cb5b-4484-8350-e590dc771873"
      },
      "execution_count": 54,
      "outputs": [
        {
          "output_type": "error",
          "ename": "AttributeError",
          "evalue": "module 'matplotlib' has no attribute 'boxplot'",
          "traceback": [
            "\u001b[0;31m---------------------------------------------------------------------------\u001b[0m",
            "\u001b[0;31mAttributeError\u001b[0m                            Traceback (most recent call last)",
            "\u001b[0;32m<ipython-input-54-0930f8c04280>\u001b[0m in \u001b[0;36m<cell line: 0>\u001b[0;34m()\u001b[0m\n\u001b[0;32m----> 1\u001b[0;31m \u001b[0mplt\u001b[0m\u001b[0;34m.\u001b[0m\u001b[0mboxplot\u001b[0m\u001b[0;34m(\u001b[0m\u001b[0mgross_earn_without_na\u001b[0m\u001b[0;34m)\u001b[0m\u001b[0;34m\u001b[0m\u001b[0;34m\u001b[0m\u001b[0m\n\u001b[0m\u001b[1;32m      2\u001b[0m \u001b[0mplt\u001b[0m\u001b[0;34m.\u001b[0m\u001b[0mshow\u001b[0m\u001b[0;34m(\u001b[0m\u001b[0;34m)\u001b[0m\u001b[0;34m\u001b[0m\u001b[0;34m\u001b[0m\u001b[0m\n",
            "\u001b[0;32m/usr/local/lib/python3.11/dist-packages/matplotlib/_api/__init__.py\u001b[0m in \u001b[0;36m__getattr__\u001b[0;34m(name)\u001b[0m\n\u001b[1;32m    216\u001b[0m         \u001b[0;32mif\u001b[0m \u001b[0mname\u001b[0m \u001b[0;32min\u001b[0m \u001b[0mprops\u001b[0m\u001b[0;34m:\u001b[0m\u001b[0;34m\u001b[0m\u001b[0;34m\u001b[0m\u001b[0m\n\u001b[1;32m    217\u001b[0m             \u001b[0;32mreturn\u001b[0m \u001b[0mprops\u001b[0m\u001b[0;34m[\u001b[0m\u001b[0mname\u001b[0m\u001b[0;34m]\u001b[0m\u001b[0;34m.\u001b[0m\u001b[0m__get__\u001b[0m\u001b[0;34m(\u001b[0m\u001b[0minstance\u001b[0m\u001b[0;34m)\u001b[0m\u001b[0;34m\u001b[0m\u001b[0;34m\u001b[0m\u001b[0m\n\u001b[0;32m--> 218\u001b[0;31m         raise AttributeError(\n\u001b[0m\u001b[1;32m    219\u001b[0m             f\"module {cls.__module__!r} has no attribute {name!r}\")\n\u001b[1;32m    220\u001b[0m \u001b[0;34m\u001b[0m\u001b[0m\n",
            "\u001b[0;31mAttributeError\u001b[0m: module 'matplotlib' has no attribute 'boxplot'"
          ]
        }
      ]
    },
    {
      "cell_type": "markdown",
      "source": [
        "<br>Попробуйте построить гистограмму с помощью метода hist(), чтобы посмотреть на распределение признака."
      ],
      "metadata": {
        "id": "6zPujIlgEXKq"
      }
    },
    {
      "cell_type": "code",
      "source": [
        "plt.\n",
        "plt.show()"
      ],
      "metadata": {
        "id": "lJ6L8Uzyz9bu"
      },
      "execution_count": null,
      "outputs": []
    },
    {
      "cell_type": "markdown",
      "source": [
        "Гистограмма показывает, достаточно большой размах в данных, что подтверждается и показателями описательной статистики (min и max). Ограничьте графический анализ 10 процентилем снизу и 90 процентилем сверху, тем самым обработав часть выбросов, и заново постройте гистограмму передав в нее параметр bins=20 для лучшей визуализации"
      ],
      "metadata": {
        "id": "nXkkSyFJE8Yz"
      }
    },
    {
      "cell_type": "code",
      "source": [
        "gross_earn_2 = dataset[\n",
        "    (dataset['gross_earn_clear']>=percentile_10_value)&\n",
        "    (dataset['gross_earn_clear']<=percentile_90_value)]['gross_earn_clear']"
      ],
      "metadata": {
        "id": "dh7enkUZ0IpG"
      },
      "execution_count": null,
      "outputs": []
    },
    {
      "cell_type": "code",
      "source": [
        "plt.\n",
        "plt.show()"
      ],
      "metadata": {
        "id": "6AXohvCX1U1L"
      },
      "execution_count": null,
      "outputs": []
    },
    {
      "cell_type": "markdown",
      "source": [
        "**Выводы:**"
      ],
      "metadata": {
        "id": "FyBbr2UJF6tx"
      }
    },
    {
      "cell_type": "markdown",
      "source": [
        "Напишите выводы по разделу:\n",
        "1.   О максимальных и минимальных значениях признака (оцените размах значений).\n",
        "2.   О нулевых значениях (их наличие, нужна ли предобработка).\n",
        "3.   О средних величинах (среднее, медиана, их отличия, возможные причины).\n",
        "4.   О процентилях (сколько процентов данных не превышают то или иное значение).\n",
        "5.   О результатах графического анализа (необходимость исключения выбросов, что показывает \"ящик с усами\", что показывает гистограмма)."
      ],
      "metadata": {
        "id": "tuzkA-OkGOFZ"
      }
    },
    {
      "cell_type": "markdown",
      "source": [
        "### **5.2. runtime_clear*"
      ],
      "metadata": {
        "id": "a0otq-lsrRQn"
      }
    },
    {
      "cell_type": "markdown",
      "source": [
        "По аналогии проанализируйте продолжительность фильмов"
      ],
      "metadata": {
        "id": "9j_RJKTa3JRk"
      }
    },
    {
      "cell_type": "code",
      "source": [],
      "metadata": {
        "id": "-6ffVMnt3Tul"
      },
      "execution_count": null,
      "outputs": []
    },
    {
      "cell_type": "markdown",
      "source": [
        "## 6. Неграфический и графический анализ категориальных признаков"
      ],
      "metadata": {
        "id": "Bd-m3BJcz06-"
      }
    },
    {
      "cell_type": "markdown",
      "source": [
        "Выполните неграфический и графический анализ категориальных признаков"
      ],
      "metadata": {
        "id": "JTCeHrjaIyOf"
      }
    },
    {
      "cell_type": "markdown",
      "source": [
        "### *6.1. certificate*"
      ],
      "metadata": {
        "id": "G72XgMKN3z4r"
      }
    },
    {
      "cell_type": "markdown",
      "source": [
        "Описание классификации [the British Board of Film Classification (BBFC)]( https://www.bbfc.co.uk/about-classification/classification-guidelines)"
      ],
      "metadata": {
        "id": "BHNgbMGy6W0e"
      }
    },
    {
      "cell_type": "markdown",
      "source": [
        "Оцените описательные статистики признака с помощью метода describe()"
      ],
      "metadata": {
        "id": "HztDdP-wJwTa"
      }
    },
    {
      "cell_type": "code",
      "source": [
        "dataset['certificate']."
      ],
      "metadata": {
        "id": "fzDbQl9L3v8r"
      },
      "execution_count": null,
      "outputs": []
    },
    {
      "cell_type": "markdown",
      "source": [
        "Изучите уникальные значения признака, получив их с помощью метода unique()"
      ],
      "metadata": {
        "id": "2E0Vjd1bKDYq"
      }
    },
    {
      "cell_type": "code",
      "source": [
        "dataset['certificate']."
      ],
      "metadata": {
        "id": "h1VKyXTz4FHp"
      },
      "execution_count": null,
      "outputs": []
    },
    {
      "cell_type": "markdown",
      "source": [
        "Проведите неграфический структурный анализ с помощью метода value_counts()"
      ],
      "metadata": {
        "id": "qX6CEMd3KOVO"
      }
    },
    {
      "cell_type": "code",
      "source": [
        "dataset['certificate']."
      ],
      "metadata": {
        "id": "CEzE2x684f_-"
      },
      "execution_count": null,
      "outputs": []
    },
    {
      "cell_type": "markdown",
      "source": [
        "Сохраните результаты работы метода value_counts() в переменную certificate_counts, отсортировав значения с помощью метода sort_values(), передав в него параметр (ascending=True) (это необходимо для того, чтобы впоследствии столбчатая диаграмма сортировала значения сверху вниз: наибольшее - сверху, наименьшее - снизу)"
      ],
      "metadata": {
        "id": "sdcRPmbeJBPE"
      }
    },
    {
      "cell_type": "code",
      "source": [
        "certificate_counts = dataset['certificate'].value_counts().sort_values(ascending=True)"
      ],
      "metadata": {
        "id": "MkWmN2x64pGH"
      },
      "execution_count": null,
      "outputs": []
    },
    {
      "cell_type": "markdown",
      "source": [
        "Постройте горизонтальную столбчатую диаграмму с помощью метода barh()"
      ],
      "metadata": {
        "id": "-VrpUZ9OLvvX"
      }
    },
    {
      "cell_type": "code",
      "source": [
        "plt.\n",
        "plt.title('Столбчатая диаграмма распределения фильмов по классам')\n",
        "plt.show()"
      ],
      "metadata": {
        "id": "a89EKFRN45CL"
      },
      "execution_count": null,
      "outputs": []
    },
    {
      "cell_type": "markdown",
      "source": [
        "Выделите топ-5 классов, по которым больше всего фильмов и сохраните результат в переменную certificate_counts_top_5"
      ],
      "metadata": {
        "id": "4oIlstb9MdOv"
      }
    },
    {
      "cell_type": "code",
      "source": [
        "certificate_counts_top_5 = dataset['certificate'].value_counts()[:5]"
      ],
      "metadata": {
        "id": "S1q_T3eg55bz"
      },
      "execution_count": null,
      "outputs": []
    },
    {
      "cell_type": "markdown",
      "source": [
        "Постройте круговую диаграмму с помощью метода pie(), добавив подписи данных с помощью параметра labels и подписи значений с помощью параметра autopct='%.1f' (проценты с одним знаком после запятой)"
      ],
      "metadata": {
        "id": "qyYaxnZLNS2a"
      }
    },
    {
      "cell_type": "markdown",
      "source": [
        "P.s. При анализе категориальных признаков если категорий не больше 5, то предпочтительна круговая диаграмма, в ином случае - столбчатая"
      ],
      "metadata": {
        "id": "_ACRmIV7MrUB"
      }
    },
    {
      "cell_type": "code",
      "source": [
        "plt.\n",
        "plt.show()"
      ],
      "metadata": {
        "id": "SNv_tBO56CiB"
      },
      "execution_count": null,
      "outputs": []
    },
    {
      "cell_type": "markdown",
      "source": [
        "**Выводы:**"
      ],
      "metadata": {
        "id": "XNoGquMQNV3J"
      }
    },
    {
      "cell_type": "markdown",
      "source": [
        "Напишите выводы по разделу:\n",
        "1.   О количестве уникальных значений признака.\n",
        "2.   О наиболее часто встречаемом значении признака (что за значение, сколько раз встретилось).\n",
        "3.   О распределении значений признака (наиболее встречаемые, наименее встречаемые).\n",
        "4.   О результатах графического анализа определенного топ признака (что показывает столбчатая и круговая диаграммы)."
      ],
      "metadata": {
        "id": "gDA5_feeNaZ5"
      }
    },
    {
      "cell_type": "markdown",
      "source": [
        "### **6.2. rating*"
      ],
      "metadata": {
        "id": "iCDnHqZx5a3Z"
      }
    },
    {
      "cell_type": "markdown",
      "source": [
        "По аналогии проанализируйте рейтинг фильмов"
      ],
      "metadata": {
        "id": "apwwDOPG5kh6"
      }
    },
    {
      "cell_type": "code",
      "source": [],
      "metadata": {
        "id": "blRZya-Z5qHT"
      },
      "execution_count": null,
      "outputs": []
    },
    {
      "cell_type": "markdown",
      "source": [
        "### **6.3. director*"
      ],
      "metadata": {
        "id": "ZPdmKyqs5tfc"
      }
    },
    {
      "cell_type": "markdown",
      "source": [
        "По аналогии проанализируйте кинорежиссеров\n",
        "\n",
        "---\n",
        "\n"
      ],
      "metadata": {
        "id": "QjeVUwr25tfd"
      }
    },
    {
      "cell_type": "code",
      "source": [],
      "metadata": {
        "id": "dLeXM-EC5tfe"
      },
      "execution_count": null,
      "outputs": []
    },
    {
      "cell_type": "markdown",
      "source": [
        "## 7. Анализ взаимосвязи двух количественных признаков"
      ],
      "metadata": {
        "id": "vAJp76vN0gTL"
      }
    },
    {
      "cell_type": "markdown",
      "source": [
        "Выполните анализ взаимосвязи двух количественных признаков"
      ],
      "metadata": {
        "id": "xTmCEKbYr-g2"
      }
    },
    {
      "cell_type": "markdown",
      "source": [
        "### *7.1. runtime_clear - gross_earn_clear*"
      ],
      "metadata": {
        "id": "Wrf6bVeHVKBW"
      }
    },
    {
      "cell_type": "markdown",
      "source": [
        "Импортируйте библиотеку seaborn и присвойте ей короткое название sns"
      ],
      "metadata": {
        "id": "grh2doR3sNdk"
      }
    },
    {
      "cell_type": "code",
      "source": [
        "import"
      ],
      "metadata": {
        "id": "rkOSFXqXN7vH"
      },
      "execution_count": null,
      "outputs": []
    },
    {
      "cell_type": "markdown",
      "source": [
        "Постройте диаграмму совместного распределения двух количественных переменных с помощью функции jointplot(), передав параметры size и alpha для улучшения визуализации"
      ],
      "metadata": {
        "id": "opScXnousYJT"
      }
    },
    {
      "cell_type": "code",
      "source": [
        "sns.\n",
        "plt.show()"
      ],
      "metadata": {
        "id": "fxdAuWu8NOfM"
      },
      "execution_count": null,
      "outputs": []
    },
    {
      "cell_type": "markdown",
      "source": [
        "Сохраните колонки 'runtime_clear' и 'gross_earn_clear' в переменную columns и постройте диаграммы рассеяния, используя функции PairGrid(), map() и метод scatterplot, передав параметр alpha для улучшения визуализации"
      ],
      "metadata": {
        "id": "W387nNHns761"
      }
    },
    {
      "cell_type": "code",
      "source": [
        "columns = ['runtime_clear', 'gross_earn_clear']\n",
        "g = sns.\n",
        "g.map("
      ],
      "metadata": {
        "id": "eMueq5cMOUuz"
      },
      "execution_count": null,
      "outputs": []
    },
    {
      "cell_type": "markdown",
      "source": [
        "Исключите выбросы, отфильтровав датасет по 99% процентилю. Для этого сохраните копию исходного датасета в переменную new_dataset с помощью метода copy(). Для каждой колонки в columns ограничьте значения 99% процентилем с помощью метода quantile(), сохраняя объект Series в переменную limiter и фильтруя new_dataset по данному ограничению с помощью оператора <="
      ],
      "metadata": {
        "id": "NdEf5HQIt6YS"
      }
    },
    {
      "cell_type": "code",
      "source": [
        "new_dataset =\n",
        "for col in columns:\n",
        "  limiter =\n",
        "  new_dataset ="
      ],
      "metadata": {
        "id": "uo2wGHKPOnTL"
      },
      "execution_count": null,
      "outputs": []
    },
    {
      "cell_type": "markdown",
      "source": [
        "Постройте диаграммы рассеяния по данным датасета new_dataset, используя функции PairGrid(), map() и метод scatterplot, передав параметр alpha для улучшения визуализации"
      ],
      "metadata": {
        "id": "HS5dgAJ5vFeL"
      }
    },
    {
      "cell_type": "code",
      "source": [
        "g = sns.\n",
        "g.map("
      ],
      "metadata": {
        "id": "n-X1vgdnOtUL"
      },
      "execution_count": null,
      "outputs": []
    },
    {
      "cell_type": "markdown",
      "source": [
        "**Выводы:**"
      ],
      "metadata": {
        "id": "D9PE8nvlvZmS"
      }
    },
    {
      "cell_type": "markdown",
      "source": [
        "Напишите выводы по разделу:\n",
        "1.   О возможной взаимосвязи признаков (присутствует или отсутствует на диаграммах, какая взаимосвязь (линейная, нелинейная))."
      ],
      "metadata": {
        "id": "q65Pl9DfvZ-M"
      }
    },
    {
      "cell_type": "markdown",
      "source": [
        "## 8. Анализ взаимосвязи двух категориальных признаков"
      ],
      "metadata": {
        "id": "rfhui4VDeBZ9"
      }
    },
    {
      "cell_type": "markdown",
      "source": [
        "Выполните анализ взаимосвязи двух категориальных признаков"
      ],
      "metadata": {
        "id": "CN3POEscsEmy"
      }
    },
    {
      "cell_type": "markdown",
      "source": [
        "### *8.1. director - certificate*"
      ],
      "metadata": {
        "id": "oYsozV9-VRwe"
      }
    },
    {
      "cell_type": "markdown",
      "source": [
        "Сохраните уникальные значения признака 'director', определенные с помощью метода unique(), в переменную directors и определите их количество с помощью функции len()"
      ],
      "metadata": {
        "id": "NxoeiRmIwLXw"
      }
    },
    {
      "cell_type": "code",
      "source": [
        "directors =\n",
        "len(directors)"
      ],
      "metadata": {
        "id": "uBRXXQ4gPDQx"
      },
      "execution_count": null,
      "outputs": []
    },
    {
      "cell_type": "markdown",
      "source": [
        "Проведите неграфический структурный анализ признака с помощью метода value_counts()"
      ],
      "metadata": {
        "id": "ucpDRdTTwvwC"
      }
    },
    {
      "cell_type": "code",
      "source": [
        "dataset['director']."
      ],
      "metadata": {
        "id": "PImpazYgQjRj"
      },
      "execution_count": null,
      "outputs": []
    },
    {
      "cell_type": "markdown",
      "source": [
        "Определите топ-5 кинорежиссеров с помощью метода value_counts() и среза, выведите их список при помощи атрибута index и сохраните его в переменную directors_top_5"
      ],
      "metadata": {
        "id": "N5RxrG6vw-wM"
      }
    },
    {
      "cell_type": "code",
      "source": [
        "directors_top_5 = dataset['director'].value_counts()[:5].index\n",
        "directors_top_5"
      ],
      "metadata": {
        "id": "0V5w0ob7RCut"
      },
      "execution_count": null,
      "outputs": []
    },
    {
      "cell_type": "markdown",
      "source": [
        "Для корректного визуального представления распределения признака 'certificate' создайте словарь, в котором каждому классу будет присвоен соответствующий цвет из выбранной цветовой палитры tab20. Для этого в переменную labels сохраните уникальные значения признака, затем в переменную colors сохраните словарь, сформированный с помощью функции dict() из объединенных (с помощью функции zip()) попарно значения классов, сохраненных в переменной labels, и цветов из палитры tab20, выбранных по длине (len()) labels, с помощью выражения plt.cm.tab20.colors"
      ],
      "metadata": {
        "id": "5eP_se-Vxm6U"
      }
    },
    {
      "cell_type": "code",
      "source": [
        "labels =\n",
        "colors =\n",
        "colors"
      ],
      "metadata": {
        "id": "53EkvsqMUa0E"
      },
      "execution_count": null,
      "outputs": []
    },
    {
      "cell_type": "markdown",
      "source": [
        "Для каждого кинорежиссера из топ-5 (directors_top_5) постройте круговые диаграммы с помощью метода pie(). Для этого отфильтруйте исходный датасет признаку director и сохраните его в переменную df; сохраните топ-5 классов фильмов (certificate), определенных с помощью метода value_counts() и среза, в переменную certificate_counts; выведите список уникальных значений топ-5 классов с помощью атрибута index и сохраните его в переменную labels; в качестве названия диаграммы передайте кинорежиссера с помощью метода title(); постройте диаграмму, передав в нее в качестве параметров значения (values), подписи (labels), цвета (colors) и подписи значения в виде процентов autopct='%.1f'"
      ],
      "metadata": {
        "id": "JDGFFvmOzqC2"
      }
    },
    {
      "cell_type": "code",
      "source": [
        "for director in directors_top_5:\n",
        "  df =\n",
        "\n",
        "  certificate_counts =\n",
        "  labels =\n",
        "\n",
        "  plt.title(director)\n",
        "  plt.\n",
        "  plt.show()"
      ],
      "metadata": {
        "id": "_EyIXRZBQwW3"
      },
      "execution_count": null,
      "outputs": []
    },
    {
      "cell_type": "markdown",
      "source": [
        "**Выводы:**"
      ],
      "metadata": {
        "id": "Y9oLLTWb15pH"
      }
    },
    {
      "cell_type": "markdown",
      "source": [
        "Напишите выводы по разделу:\n",
        "1.   О возможной взаимосвязи признаков (присутствует или отсутствует на диаграммах, похожи ли распределения признаков).\n",
        "2.   Об особенностях распределения признака в разрезе основного признака (что характерно для каждого значения основного признака)"
      ],
      "metadata": {
        "id": "f9zU9FLy1-Vm"
      }
    },
    {
      "cell_type": "markdown",
      "source": [
        "### **8.2. director - rating*"
      ],
      "metadata": {
        "id": "EOqC1iUrU-Td"
      }
    },
    {
      "cell_type": "markdown",
      "source": [
        "По аналогии проанализируйте взаимосвязь между рейтингом фильмов и кинорежиссерами"
      ],
      "metadata": {
        "id": "h4FcElnpVj99"
      }
    },
    {
      "cell_type": "code",
      "source": [],
      "metadata": {
        "id": "ynMUueJlWK3S"
      },
      "execution_count": null,
      "outputs": []
    },
    {
      "cell_type": "markdown",
      "source": [
        "### **8.3. certificate - rating*"
      ],
      "metadata": {
        "id": "0NCzVyQ6Wek9"
      }
    },
    {
      "cell_type": "markdown",
      "source": [
        "По аналогии проанализируйте взаимосвязь между классами фильмов и их рейтингом"
      ],
      "metadata": {
        "id": "TkZ3NmIaWek-"
      }
    },
    {
      "cell_type": "code",
      "source": [],
      "metadata": {
        "id": "xtIXlyqtWek_"
      },
      "execution_count": null,
      "outputs": []
    },
    {
      "cell_type": "markdown",
      "source": [
        "## 9. Анализ взаимосвязи количественного и категориального признаков"
      ],
      "metadata": {
        "id": "gQwmX8aD671J"
      }
    },
    {
      "cell_type": "markdown",
      "source": [
        "Выполните анализ взаимосвязи категориального и количественного признаков"
      ],
      "metadata": {
        "id": "g1RWUKTb26a5"
      }
    },
    {
      "cell_type": "markdown",
      "source": [
        "### *9.1. certificate - gross_earn_clear*"
      ],
      "metadata": {
        "id": "8qgg-4zkZ6dS"
      }
    },
    {
      "cell_type": "markdown",
      "source": [
        "Оцените медианные значения доходов с фильмов в разрезе классов фильмов. Для этого сгруппируйте датасет по признаку certificate с помощью метода groupby и к Series ['gross_earn_clear'] метод median()"
      ],
      "metadata": {
        "id": "44yyVyYO3gJ9"
      }
    },
    {
      "cell_type": "code",
      "source": [
        "dataset.groupby("
      ],
      "metadata": {
        "id": "G1V-4JRD665n"
      },
      "execution_count": null,
      "outputs": []
    },
    {
      "cell_type": "markdown",
      "source": [
        "Оцените описательные статистики доходов с фильмов в разрезе классов фильмов, также сгруппировав таблицу и применив метод describe()"
      ],
      "metadata": {
        "id": "13irQUyJ4EEc"
      }
    },
    {
      "cell_type": "code",
      "source": [
        "dataset.groupby("
      ],
      "metadata": {
        "id": "pHunMavmXG0B"
      },
      "execution_count": null,
      "outputs": []
    },
    {
      "cell_type": "markdown",
      "source": [
        "Постройте диаграммы \"ящик с усами\" с помощью метода boxplot(), передав в качестве x - значения классов, а в качестве y - доход с фильмов"
      ],
      "metadata": {
        "id": "T_JiBuJX4aXL"
      }
    },
    {
      "cell_type": "code",
      "source": [
        "sns.\n",
        "plt.show()"
      ],
      "metadata": {
        "id": "T1pXKykJXmBk"
      },
      "execution_count": null,
      "outputs": []
    },
    {
      "cell_type": "markdown",
      "source": [
        "Диаграмма получилась малоинформативна в связи с наличием выбросов, а также ее нагруженностью по количеству значений классов. Оцените количество значений классов с помощью метода value_counts()"
      ],
      "metadata": {
        "id": "yF03b9ne4wQh"
      }
    },
    {
      "cell_type": "code",
      "source": [
        "dataset['certificate']."
      ],
      "metadata": {
        "id": "S0CL9z5xX1c9"
      },
      "execution_count": null,
      "outputs": []
    },
    {
      "cell_type": "markdown",
      "source": [
        "По итогу оценки видно, что крупных классов - 8, поэтому ограничим диаграмму топ-8 классов. Для этого сохраните список топ-8 классов, определенный с помощью метода value_counts(), среза и атрибута index, в переменную certificate_list"
      ],
      "metadata": {
        "id": "2H2d_iLQ5Fmp"
      }
    },
    {
      "cell_type": "code",
      "source": [
        "certificate_list =\n",
        "certificate_list"
      ],
      "metadata": {
        "id": "PTr5lurLYDv7"
      },
      "execution_count": null,
      "outputs": []
    },
    {
      "cell_type": "markdown",
      "source": [
        "Отфильтруйте исходный датасет по признаку certificate с помощью метода isin() и сохраните его в переменную dataset_certificate_top_8. Оцените размеры датасета с помощью атрибута shape"
      ],
      "metadata": {
        "id": "ZJbszWYb5tEX"
      }
    },
    {
      "cell_type": "code",
      "source": [
        "dataset_certificate_top_8 = dataset[dataset['certificate'].isin(certificate_list)]\n",
        "dataset_certificate_top_8.shape"
      ],
      "metadata": {
        "id": "J0suRr9AYpyD"
      },
      "execution_count": null,
      "outputs": []
    },
    {
      "cell_type": "markdown",
      "source": [
        "Постройте диаграммы \"ящик с усами\" с помощью метода boxplot(), передав в качестве x - значения классов, а в качестве y - доход с фильмов, при этом ограничив значение оси y на отметке 25000 с помощью функции plt.axis() и параметров ymin и ymax (если при очистке признака gross_earn от лишних знаков была сохранена исходная размерность, например, 25.40, то ограничьте значение оси y на отметке 250)"
      ],
      "metadata": {
        "id": "6Tv0a4-K6LOC"
      }
    },
    {
      "cell_type": "code",
      "source": [
        "sns.\n",
        "plt.\n",
        "plt.show()"
      ],
      "metadata": {
        "id": "FWDE0Y1kZG1u"
      },
      "execution_count": null,
      "outputs": []
    },
    {
      "cell_type": "markdown",
      "source": [
        "**Выводы:**"
      ],
      "metadata": {
        "id": "aYFltVwA6nvW"
      }
    },
    {
      "cell_type": "markdown",
      "source": [
        "Напишите выводы по разделу:\n",
        "1.   О возможной взаимосвязи признаков (присутствует или отсутствует на диаграммах, похожи ли распределения признаков).\n",
        "2.   Об особенностях распределения признака в разрезе основного признака (что характерно для каждого значения основного признака).\n",
        "3.   О средних величинах (как распределена медиана)."
      ],
      "metadata": {
        "id": "KJS_0ZmC6rp4"
      }
    },
    {
      "cell_type": "markdown",
      "source": [
        "### **9.2. certificate - runtime_clear*"
      ],
      "metadata": {
        "id": "Qt5xHqnCaf4z"
      }
    },
    {
      "cell_type": "markdown",
      "source": [
        "По аналогии проанализируйте взаимосвязь между классами фильмов и их продолжительностью"
      ],
      "metadata": {
        "id": "UXye956Vas6G"
      }
    },
    {
      "cell_type": "code",
      "source": [],
      "metadata": {
        "id": "t_CrQkckZqyd"
      },
      "execution_count": null,
      "outputs": []
    },
    {
      "cell_type": "markdown",
      "source": [
        "### **9.3. director - gross_earn_clear*"
      ],
      "metadata": {
        "id": "3gyUHz4nbEAt"
      }
    },
    {
      "cell_type": "markdown",
      "source": [
        "По аналогии проанализируйте взаимосвязь между кинорежиссерами и доходами с фильмов"
      ],
      "metadata": {
        "id": "EQGuce0lbEAv"
      }
    },
    {
      "cell_type": "code",
      "source": [],
      "metadata": {
        "id": "jrCxzXvqbEAv"
      },
      "execution_count": null,
      "outputs": []
    },
    {
      "cell_type": "markdown",
      "source": [
        "### **9.4. director - runtime_clear*"
      ],
      "metadata": {
        "id": "Kyz1v_UMbGrU"
      }
    },
    {
      "cell_type": "markdown",
      "source": [
        "По аналогии проанализируйте взаимосвязь между кинорежиссерами и продолжительностью фильмов"
      ],
      "metadata": {
        "id": "Al5GBEKXbGrV"
      }
    },
    {
      "cell_type": "code",
      "source": [],
      "metadata": {
        "id": "a_QEiC4UbGrV"
      },
      "execution_count": null,
      "outputs": []
    },
    {
      "cell_type": "markdown",
      "source": [
        "### **9.5. rating - gross_earn_clear*"
      ],
      "metadata": {
        "id": "q_BhBtmrb445"
      }
    },
    {
      "cell_type": "markdown",
      "source": [
        "По аналогии проанализируйте взаимосвязь между рейтингом фильмов и доходами с фильмов"
      ],
      "metadata": {
        "id": "QNhihG6Cb445"
      }
    },
    {
      "cell_type": "code",
      "source": [],
      "metadata": {
        "id": "eezxI8E2b446"
      },
      "execution_count": null,
      "outputs": []
    },
    {
      "cell_type": "markdown",
      "source": [
        "### **9.6. rating - runtime_clear*"
      ],
      "metadata": {
        "id": "ESd2HAesb446"
      }
    },
    {
      "cell_type": "markdown",
      "source": [
        "По аналогии проанализируйте взаимосвязь между рейтингом фильмов и их продолжительностью"
      ],
      "metadata": {
        "id": "iqCH-zTnb446"
      }
    },
    {
      "cell_type": "code",
      "source": [],
      "metadata": {
        "id": "KszuOCnkb446"
      },
      "execution_count": null,
      "outputs": []
    },
    {
      "cell_type": "markdown",
      "source": [
        "## 10. Общий вывод"
      ],
      "metadata": {
        "id": "aKvGYyMg3KoV"
      }
    },
    {
      "cell_type": "markdown",
      "source": [
        "Соберите промежуточные выводы в итоговый вывод по разведочному анализу"
      ],
      "metadata": {
        "id": "jMIiSlDy3VMs"
      }
    }
  ],
  "metadata": {
    "colab": {
      "provenance": []
    },
    "kernelspec": {
      "display_name": "Python 3",
      "name": "python3"
    },
    "language_info": {
      "name": "python"
    }
  },
  "nbformat": 4,
  "nbformat_minor": 0
}